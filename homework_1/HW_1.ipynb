{
  "cells": [
    {
      "cell_type": "markdown",
      "metadata": {
        "id": "DruAYCH0Lgfc"
      },
      "source": [
        "# Домашнее задание №1\n",
        "\n",
        "Темы \"Введение в МатСтат\" и \"Виды статистических оценок и характеристики\"\n",
        "\n",
        "Общие положения:\n",
        "- Макс кол-во баллов за ДЗ - 25 баллов\n",
        "- Качество оформления и кода играет роль\n",
        "\n",
        "Список заданий:\n",
        "1. Посчитайте кол-во уникальных жанров. (1 балл)\n",
        "2. Посчитайте и визуализируйте средний рейтинг и стандартное отклонение по типу аниме `type`. (1 балл)\n",
        "3. Посчитайте и визуализируйте средний рейтинг и стандартное отклонение по жанрам `genre`. (1 балл)\n",
        "4. Посчитайте и визуализируйте квартили Q1, Q2 и Q3 с интерквантильным размахом по жанрам `genre` и типу аниме `type`. (1 балл)\n",
        "5. Насколько часто встречаются аниме с одним или двумя жанрами? (1 балл)\n",
        "6. Сколько в среднем эпизодов приходится на аниме типа == `TV`? (1 балл)\n",
        "7. По правилу трех сигм на столбцах `episodes`, `rating` и `members` оцените кол-во аномалий. (1 балл)\n",
        "  - если по одному из столбцов аниме не попадает в интервал трех сигм, то оно считается аномальным\n",
        "8. Оцените и визуализируйте корреляцию среднего рейтинга жанра со средними кол-вом эпизодов и кол-вом подписчиков. (1 балл)\n",
        "9. Оцените и визуализируйте корреляцию кол-ва жанров у аниме с его рейтингом и кол-вом подписчиков по каждому типу аниме `type`. (1 балл)\n",
        "10. Оцените и визуализируйте корреляцию длины названия аниме `name` с его рейтингом, кол-вом жанров, эпизодов и подписчиков. (1 балл)\n",
        "\n"
      ]
    },
    {
      "cell_type": "code",
      "execution_count": 1,
      "metadata": {
        "id": "fed2Dj4_L6wE"
      },
      "outputs": [],
      "source": [
        "import numpy as np\n",
        "import pandas as pd\n",
        "\n",
        "# Не обязательно, можно использовать любую удобную вам библиотеку для визуализации\n",
        "import matplotlib.pyplot as plt\n",
        "import seaborn as sns\n",
        "\n",
        "plt.style.use(\"ggplot\")\n",
        "%matplotlib inline"
      ]
    },
    {
      "cell_type": "code",
      "execution_count": 2,
      "metadata": {
        "colab": {
          "base_uri": "https://localhost:8080/"
        },
        "id": "vHBJ2eo9D5sn",
        "outputId": "4f380cf2-11cc-48f6-db58-829c9c42c5db"
      },
      "outputs": [
        {
          "name": "stdout",
          "output_type": "stream",
          "text": [
            "  % Total    % Received % Xferd  Average Speed   Time    Time     Time  Current\n",
            "                                 Dload  Upload   Total   Spent    Left  Speed\n",
            "100  778k  100  778k    0     0  1722k      0 --:--:-- --:--:-- --:--:-- 1719k\n"
          ]
        }
      ],
      "source": [
        "!curl -O https://raw.githubusercontent.com/practical-jupyter/sample-data/refs/heads/master/anime/anime.csv >> anime.csv"
      ]
    },
    {
      "cell_type": "markdown",
      "metadata": {
        "id": "ZZ49usdVLM8u"
      },
      "source": [
        "Описание датафрейма:\n",
        "- `anime_id` - ID\n",
        "- `name` - название\n",
        "- `genre` - жанр (строка с пречисление через запятую)\n",
        "- `type` - формат\n",
        "- `episodes` - кол-во эпизодов\n",
        "- `rating` - средний рейтинг\n",
        "- `members` - кол-во смотрящих"
      ]
    },
    {
      "cell_type": "code",
      "execution_count": 3,
      "metadata": {
        "colab": {
          "base_uri": "https://localhost:8080/"
        },
        "id": "DFiUXsCbL2zf",
        "outputId": "1fa6f225-5474-4fa3-d5ef-1daec9a26c14"
      },
      "outputs": [
        {
          "name": "stdout",
          "output_type": "stream",
          "text": [
            "<class 'pandas.core.frame.DataFrame'>\n",
            "RangeIndex: 10486 entries, 0 to 10485\n",
            "Data columns (total 7 columns):\n",
            " #   Column    Non-Null Count  Dtype  \n",
            "---  ------    --------------  -----  \n",
            " 0   anime_id  10486 non-null  int64  \n",
            " 1   name      10486 non-null  object \n",
            " 2   genre     10424 non-null  object \n",
            " 3   type      10463 non-null  object \n",
            " 4   episodes  10486 non-null  object \n",
            " 5   rating    10275 non-null  float64\n",
            " 6   members   10486 non-null  int64  \n",
            "dtypes: float64(1), int64(2), object(4)\n",
            "memory usage: 573.6+ KB\n"
          ]
        }
      ],
      "source": [
        "df = pd.read_csv(\"anime.csv\")\n",
        "df.info()"
      ]
    },
    {
      "cell_type": "code",
      "execution_count": 4,
      "metadata": {
        "colab": {
          "base_uri": "https://localhost:8080/",
          "height": 206
        },
        "id": "aJV7PQ0QMlxR",
        "outputId": "b61c162a-4c75-4562-9267-5fd81a482d72"
      },
      "outputs": [
        {
          "data": {
            "text/html": [
              "<div>\n",
              "<style scoped>\n",
              "    .dataframe tbody tr th:only-of-type {\n",
              "        vertical-align: middle;\n",
              "    }\n",
              "\n",
              "    .dataframe tbody tr th {\n",
              "        vertical-align: top;\n",
              "    }\n",
              "\n",
              "    .dataframe thead th {\n",
              "        text-align: right;\n",
              "    }\n",
              "</style>\n",
              "<table border=\"1\" class=\"dataframe\">\n",
              "  <thead>\n",
              "    <tr style=\"text-align: right;\">\n",
              "      <th></th>\n",
              "      <th>anime_id</th>\n",
              "      <th>name</th>\n",
              "      <th>genre</th>\n",
              "      <th>type</th>\n",
              "      <th>episodes</th>\n",
              "      <th>rating</th>\n",
              "      <th>members</th>\n",
              "    </tr>\n",
              "  </thead>\n",
              "  <tbody>\n",
              "    <tr>\n",
              "      <th>0</th>\n",
              "      <td>32281</td>\n",
              "      <td>Kimi no Na wa.</td>\n",
              "      <td>Drama, Romance, School, Supernatural</td>\n",
              "      <td>Movie</td>\n",
              "      <td>1</td>\n",
              "      <td>9.37</td>\n",
              "      <td>200630</td>\n",
              "    </tr>\n",
              "    <tr>\n",
              "      <th>1</th>\n",
              "      <td>5114</td>\n",
              "      <td>Fullmetal Alchemist: Brotherhood</td>\n",
              "      <td>Action, Adventure, Drama, Fantasy, Magic, Mili...</td>\n",
              "      <td>TV</td>\n",
              "      <td>64</td>\n",
              "      <td>9.26</td>\n",
              "      <td>793665</td>\n",
              "    </tr>\n",
              "    <tr>\n",
              "      <th>2</th>\n",
              "      <td>28977</td>\n",
              "      <td>Gintama°</td>\n",
              "      <td>Action, Comedy, Historical, Parody, Samurai, S...</td>\n",
              "      <td>TV</td>\n",
              "      <td>51</td>\n",
              "      <td>9.25</td>\n",
              "      <td>114262</td>\n",
              "    </tr>\n",
              "    <tr>\n",
              "      <th>3</th>\n",
              "      <td>9253</td>\n",
              "      <td>Steins;Gate</td>\n",
              "      <td>Sci-Fi, Thriller</td>\n",
              "      <td>TV</td>\n",
              "      <td>24</td>\n",
              "      <td>9.17</td>\n",
              "      <td>673572</td>\n",
              "    </tr>\n",
              "    <tr>\n",
              "      <th>4</th>\n",
              "      <td>9969</td>\n",
              "      <td>Gintama&amp;#039;</td>\n",
              "      <td>Action, Comedy, Historical, Parody, Samurai, S...</td>\n",
              "      <td>TV</td>\n",
              "      <td>51</td>\n",
              "      <td>9.16</td>\n",
              "      <td>151266</td>\n",
              "    </tr>\n",
              "  </tbody>\n",
              "</table>\n",
              "</div>"
            ],
            "text/plain": [
              "   anime_id                              name  \\\n",
              "0     32281                    Kimi no Na wa.   \n",
              "1      5114  Fullmetal Alchemist: Brotherhood   \n",
              "2     28977                          Gintama°   \n",
              "3      9253                       Steins;Gate   \n",
              "4      9969                     Gintama&#039;   \n",
              "\n",
              "                                               genre   type episodes  rating  \\\n",
              "0               Drama, Romance, School, Supernatural  Movie        1    9.37   \n",
              "1  Action, Adventure, Drama, Fantasy, Magic, Mili...     TV       64    9.26   \n",
              "2  Action, Comedy, Historical, Parody, Samurai, S...     TV       51    9.25   \n",
              "3                                   Sci-Fi, Thriller     TV       24    9.17   \n",
              "4  Action, Comedy, Historical, Parody, Samurai, S...     TV       51    9.16   \n",
              "\n",
              "   members  \n",
              "0   200630  \n",
              "1   793665  \n",
              "2   114262  \n",
              "3   673572  \n",
              "4   151266  "
            ]
          },
          "execution_count": 4,
          "metadata": {},
          "output_type": "execute_result"
        }
      ],
      "source": [
        "df.head()"
      ]
    },
    {
      "cell_type": "markdown",
      "metadata": {
        "id": "w86B8B0FTHdU"
      },
      "source": [
        "## 1. Посчитайте кол-во уникальных жанров. (1 балл)"
      ]
    },
    {
      "cell_type": "code",
      "execution_count": 5,
      "metadata": {},
      "outputs": [
        {
          "name": "stdout",
          "output_type": "stream",
          "text": [
            "Количество уникальных жанров: 2777\n"
          ]
        }
      ],
      "source": [
        "# Преобразование столбца genre в список\n",
        "genre_list = df[\"genre\"].tolist()\n",
        "\n",
        "# Подсчет уникальных жанров\n",
        "unique_genres = len(set(genre_list))\n",
        "\n",
        "print(f\"Количество уникальных жанров: {unique_genres}\")"
      ]
    },
    {
      "cell_type": "markdown",
      "metadata": {
        "id": "QSDFnovgT5wd"
      },
      "source": [
        "## 2. Посчитайте и визуализируйте средний рейтинг и стандартное отклонение по типу аниме type. (1 балл)"
      ]
    },
    {
      "cell_type": "code",
      "execution_count": 6,
      "metadata": {},
      "outputs": [],
      "source": [
        "# Подсчет среднего рейтинга по типу аниме\n",
        "type_ratings_mean = df.groupby(\"type\").rating.mean().reset_index()\n",
        "\n",
        "# Подсчет стандартного отклонения рейтинга по типу аниме\n",
        "type_ratings_std = df.groupby(\"type\").rating.std().reset_index()"
      ]
    },
    {
      "cell_type": "code",
      "execution_count": 9,
      "metadata": {},
      "outputs": [
        {
          "data": {
            "image/png": "[encoded data removed]",
            "text/plain": [
              "<Figure size 1200x400 with 2 Axes>"
            ]
          },
          "metadata": {},
          "output_type": "display_data"
        }
      ],
      "source": [
        "# Визуализация данных\n",
        "plt.figure(figsize=(12, 4))\n",
        "\n",
        "# Средний рейтинг\n",
        "plt.subplot(1, 2, 1)\n",
        "plt.bar(type_ratings_mean[\"type\"], type_ratings_mean[\"rating\"], color=\"cornflowerblue\")\n",
        "plt.title(\"Средний рейтинг по типу\")\n",
        "plt.ylabel(\"Рейтинг\")\n",
        "plt.ylim(5, 7)\n",
        "\n",
        "# Стандартное отклонение\n",
        "plt.subplot(1, 2, 2)\n",
        "plt.bar(type_ratings_std[\"type\"], type_ratings_std[\"rating\"], color=\"cadetblue\")\n",
        "plt.title(\"Стандартное отклонение по типу\")\n",
        "plt.ylabel(\"Стандартное отклонение\")\n",
        "plt.ylim(0.8, 1.3)\n",
        "\n",
        "plt.show()"
      ]
    },
    {
      "cell_type": "markdown",
      "metadata": {
        "id": "2iL4-7LsLcNE"
      },
      "source": [
        "## 3. Посчитайте и визуализируйте средний рейтинг и стандартное отклонение по жанрам. (1 балл)\n",
        "График постройте для топ-15 жанров по рейтингу"
      ]
    },
    {
      "cell_type": "code",
      "execution_count": null,
      "metadata": {},
      "outputs": [],
      "source": []
    },
    {
      "cell_type": "markdown",
      "metadata": {
        "id": "IxeyFOcM3IJX"
      },
      "source": [
        "## 4. Посчитайте и визуализируйте квартили Q1, Q2 и Q3 с интерквантильным размахом по жанрам genre и типу аниме type. (1 балл)"
      ]
    },
    {
      "cell_type": "code",
      "execution_count": null,
      "metadata": {
        "id": "PaLewssi3IWL"
      },
      "outputs": [],
      "source": []
    },
    {
      "cell_type": "markdown",
      "metadata": {
        "id": "Dtr0NkwP3Id6"
      },
      "source": [
        "## 5. Насколько часто встречаются аниме с одним или двумя жанрами? (1 балл)"
      ]
    },
    {
      "cell_type": "code",
      "execution_count": 21,
      "metadata": {
        "id": "uxOYZ9SP3IjJ"
      },
      "outputs": [],
      "source": []
    },
    {
      "cell_type": "markdown",
      "metadata": {
        "id": "7QXfD0ve3Io5"
      },
      "source": [
        "## 6. Сколько в среднем эпизодов приходится на аниме типа == TV? (1 балл)"
      ]
    },
    {
      "cell_type": "code",
      "execution_count": 53,
      "metadata": {},
      "outputs": [
        {
          "name": "stdout",
          "output_type": "stream",
          "text": [
            "Среднее количество эпизодов для типа == TV: 37\n"
          ]
        }
      ],
      "source": [
        "# Фильтрафия аниме типа TV\n",
        "tv_series = df[df[\"type\"] == \"TV\"]\n",
        "\n",
        "# Исключение аниме с отсутствием эпизодов\n",
        "tv_series = tv_series[tv_series[\"episodes\"] != \"Unknown\"]\n",
        "\n",
        "# Перевод столбца в int и подсчет среднего\n",
        "tv_series[\"episodes\"] = tv_series[\"episodes\"].astype(int)\n",
        "avg_episodes_tv = tv_series[\"episodes\"].mean()\n",
        "\n",
        "print(f\"Среднее количество эпизодов для типа == TV: {round(avg_episodes_tv)}\")"
      ]
    },
    {
      "cell_type": "markdown",
      "metadata": {
        "id": "f_rRJ2XU3Iyk"
      },
      "source": [
        "## 7. По правилу трех сигм на столбцах episodes, rating и members оцените кол-во аномалий. (1 балл)\n",
        "если по одному из столбцов аниме не попадает в интервал трех сигм, то оно считается аномальным\n"
      ]
    },
    {
      "cell_type": "code",
      "execution_count": 77,
      "metadata": {},
      "outputs": [],
      "source": [
        "# Исключение аниме с отсутствием эпизодов и перевод столбца в int\n",
        "df_episodes = df[df[\"episodes\"] != \"Unknown\"]\n",
        "df_episodes.loc[:, \"episodes\"] = df_episodes[\"episodes\"].astype(int)\n",
        "\n",
        "# Подсчет среднего и стандартного отклонения\n",
        "avg_episodes = np.mean(df_episodes[\"episodes\"])\n",
        "std_episodes = np.std(df_episodes[\"episodes\"])\n",
        "\n",
        "avg_rating = np.mean(df[\"rating\"])\n",
        "std_rating = np.std(df[\"rating\"])\n",
        "\n",
        "avg_members = np.mean(df[\"members\"])\n",
        "std_members = np.std(df[\"members\"])"
      ]
    },
    {
      "cell_type": "code",
      "execution_count": 78,
      "metadata": {},
      "outputs": [],
      "source": [
        "# Определение интервала трех сигм\n",
        "lower_bound_episodes = avg_episodes - 3 * std_episodes\n",
        "upper_bound_episodes = avg_episodes + 3 * std_episodes\n",
        "\n",
        "lower_bound_rating = avg_rating - 3 * std_rating\n",
        "upper_bound_rating = avg_rating + 3 * std_rating\n",
        "\n",
        "lower_bound_members = avg_members - 3 * std_members\n",
        "upper_bound_members = avg_members + 3 * std_members"
      ]
    },
    {
      "cell_type": "code",
      "execution_count": 79,
      "metadata": {
        "id": "j5AA7cPU3I2v"
      },
      "outputs": [
        {
          "name": "stdout",
          "output_type": "stream",
          "text": [
            "Количество аномалий в столбце episodes: 10196\n",
            "Количество аномалий в столбце rating: 10486\n",
            "Количество аномалий в столбце members: 10486\n"
          ]
        }
      ],
      "source": [
        "# Фильтрация аномальных значений\n",
        "anomalies_episodes = (df_episodes[\"episodes\"] < lower_bound_episodes) | (\n",
        "    df_episodes[\"episodes\"] > upper_bound_episodes\n",
        ")\n",
        "anomalies_rating = (df[\"rating\"] < lower_bound_rating) | (\n",
        "    df[\"rating\"] > upper_bound_rating\n",
        ")\n",
        "anomalies_members = (df[\"members\"] < lower_bound_members) | (\n",
        "    df[\"members\"] > upper_bound_members\n",
        ")\n",
        "\n",
        "# Подсчет количества аномалий\n",
        "anomalies_episodes_count = len(anomalies_episodes)\n",
        "anomalies_rating_count = len(anomalies_rating)\n",
        "anomalies_members_count = len(anomalies_members)\n",
        "\n",
        "print(f\"Количество аномалий в столбце episodes: {anomalies_episodes_count}\")\n",
        "print(f\"Количество аномалий в столбце rating: {anomalies_rating_count}\")\n",
        "print(f\"Количество аномалий в столбце members: {anomalies_members_count}\")"
      ]
    },
    {
      "cell_type": "markdown",
      "metadata": {
        "id": "hUXA78zw3I8I"
      },
      "source": [
        "## 8. Оцените и визуализируйте корреляцию среднего рейтинга жанра со средними кол-вом эпизодов и кол-вом подписчиков. (1 балл)"
      ]
    },
    {
      "cell_type": "code",
      "execution_count": null,
      "metadata": {
        "id": "f2uJ7AUu3JA0"
      },
      "outputs": [],
      "source": []
    },
    {
      "cell_type": "markdown",
      "metadata": {
        "id": "pu6BNhVM3JF5"
      },
      "source": [
        "## 9. Оцените и визуализируйте корреляцию кол-ва жанров у аниме с его рейтингом и кол-вом подписчиков по каждому типу аниме type. (1 балл)"
      ]
    },
    {
      "cell_type": "code",
      "execution_count": null,
      "metadata": {
        "id": "brhfezXp3JLm"
      },
      "outputs": [],
      "source": []
    },
    {
      "cell_type": "markdown",
      "metadata": {
        "id": "l8dtBRrA36AM"
      },
      "source": [
        "## 10. Оцените и визуализируйте корреляцию длины названия аниме name с его рейтингом, кол-вом жанров, эпизодов и подписчиков. (1 балл)"
      ]
    },
    {
      "cell_type": "code",
      "execution_count": null,
      "metadata": {
        "id": "P5TGNkNO35Vg"
      },
      "outputs": [],
      "source": []
    },
    {
      "cell_type": "markdown",
      "metadata": {
        "id": "oW0IfKiDNusR"
      },
      "source": [
        "# 2. Часть"
      ]
    },
    {
      "cell_type": "markdown",
      "metadata": {
        "id": "cJXb35ftuJlg"
      },
      "source": [
        "Каждое задание оценивается 1 баллом в случае полного выполнения"
      ]
    },
    {
      "cell_type": "markdown",
      "metadata": {
        "id": "WKS1MTgtNvEB"
      },
      "source": [
        " ### Задание 11: Нормальное распределение (1 балл)\n",
        "Генерация данных \\\n",
        "Сгенерируйте выборку из 1000 элементов с нормальным распределением, где среднее  μ=5 и стандартное отклонение σ=1.5.\n",
        "Описательная статистика \\\n",
        "Рассчитайте выборочное среднее, выборочную медиану, выборочную моду и стандартное отклонение. \\\n",
        "Графическое представление \\\n",
        "Постройте гистограмму и график плотности распределения. Сравните выборочные статистики с теоретическими. \\\n",
        "Анализ отклонений \\\n",
        "Рассчитайте частоту значений, которые отклоняются от среднего на более чем одно стандартное отклонение, и сравните это с теоретическим результатом для нормального распределения."
      ]
    },
    {
      "cell_type": "code",
      "execution_count": null,
      "metadata": {
        "id": "omiDU25_vXoL"
      },
      "outputs": [],
      "source": []
    },
    {
      "cell_type": "markdown",
      "metadata": {
        "id": "MN4uiI-6NvJI"
      },
      "source": [
        "### Задание 12: Экспоненциальное распределение (1 балл)\n",
        "Генерация данных \\\n",
        "Сгенерируйте выборку из 1000 элементов из экспоненциального распределения с параметром λ=0.5. \\\n",
        "Описательная статистика \\\n",
        "Рассчитайте выборочное среднее, медиану и стандартное отклонение. \\\n",
        "Графическое представление \\\n",
        "Постройте гистограмму и график плотности распределения. \\\n",
        "Анализ распределения \\\n",
        "Определите долю значений в выборке, которые больше двух выборочных средних, и сравните это с теоретической вероятностью для экспоненциального распределения. \\"
      ]
    },
    {
      "cell_type": "code",
      "execution_count": null,
      "metadata": {
        "id": "oxBcFiEMvYGm"
      },
      "outputs": [],
      "source": []
    },
    {
      "cell_type": "markdown",
      "metadata": {
        "id": "ovseNLi1NvL_"
      },
      "source": [
        "\n",
        "### Задание 13: Биномиальное распределение (1 балл)\n",
        "Генерация данных \\\n",
        "Сгенерируйте выборку из 1000 наблюдений из биномиального распределения с параметрами  n=10 и p=0.7 \\\n",
        "Описательная статистика \\\n",
        "Найдите выборочное среднее, дисперсию и моду количества успехов. \\\n",
        "Графическое представление \\\n",
        "Постройте столбчатую диаграмму распределения количества успехов. \\\n",
        "Анализ вероятностей \\\n",
        "Вычислите вероятность того, что количество успехов будет больше 8, используя как выборочные данные, так и теоретическую вероятность биномиального распределения. Сравните результаты. \\"
      ]
    },
    {
      "cell_type": "code",
      "execution_count": null,
      "metadata": {
        "id": "gUI9fjk4vYlv"
      },
      "outputs": [],
      "source": []
    },
    {
      "cell_type": "markdown",
      "metadata": {
        "id": "N9GBf9aENvOh"
      },
      "source": [
        "### Задание 14: Геометрическое распределение (1 балл)\n",
        "Генерация данных \\\n",
        "Сгенерируйте выборку из 1000 наблюдений из геометрического распределения с вероятностью успеха p=0.3. \\\n",
        "Описательная статистика \\\n",
        "Рассчитайте выборочное среднее, медиану и моду количества попыток до первого успеха. \\\n",
        "Графическое представление \\\n",
        "Постройте гистограмму распределения количества попыток. \\\n",
        "Анализ вероятностей \\\n",
        "Определите вероятность того, что потребуется не более 5 попыток для первого успеха, используя как выборочные данные, так и теоретическое геометрическое распределение. Сравните результаты. \\"
      ]
    },
    {
      "cell_type": "code",
      "execution_count": null,
      "metadata": {
        "id": "Q8du25WGvZFw"
      },
      "outputs": [],
      "source": []
    },
    {
      "cell_type": "markdown",
      "metadata": {
        "id": "zKca3WvdNvQ1"
      },
      "source": [
        "### Задание 15: Равномерное распределение (1 балл)\n",
        "Генерация данных \\\n",
        "Сгенерируйте выборку из 1000 наблюдений из равномерного распределения на отрезке от 3 до 7. \\\n",
        "Описательная статистика \\\n",
        "Рассчитайте выборочное среднее, медиану и стандартное отклонение. \\\n",
        "Графическое представление  \\\n",
        "Постройте гистограмму и график плотности распределения. Сравните выборочные статистики с теоретическими значениями для равномерного распределения.\n",
        "Анализ крайних значений \\\n",
        "Определите долю значений, которые находятся ближе к границам распределения (например, больше 6 или меньше 4), и сравните с ожидаемым результатом для равномерного распределения. \\"
      ]
    },
    {
      "cell_type": "code",
      "execution_count": null,
      "metadata": {
        "id": "XeMfhADNvZjx"
      },
      "outputs": [],
      "source": []
    },
    {
      "cell_type": "markdown",
      "metadata": {
        "id": "K4CFBrURNvTT"
      },
      "source": [
        "### Задание 16: Распределение Пуассона (1 балл)\n",
        "Генерация данных \\\n",
        "Сгенерируйте выборку из 1000 наблюдений из распределения Пуассона с параметром  λ=4. \\\n",
        "Описательная статистика \\\n",
        "Найдите выборочное среднее, дисперсию и моду количества событий. \\\n",
        "Графическое представление \\\n",
        "Постройте столбчатую диаграмму распределения количества событий. \\\n",
        "Анализ вероятностей \\\n",
        "Определите вероятность того, что количество событий будет меньше 3, используя как выборочные данные, так и теоретическое распределение Пуассона. Сравните результаты. \\"
      ]
    },
    {
      "cell_type": "code",
      "execution_count": null,
      "metadata": {
        "id": "43wsWCZ_NIAQ"
      },
      "outputs": [],
      "source": []
    },
    {
      "cell_type": "markdown",
      "metadata": {
        "id": "zTqsjoJRtqTu"
      },
      "source": [
        "# 3 Часть"
      ]
    },
    {
      "cell_type": "markdown",
      "metadata": {
        "id": "a3C69CBvuBGX"
      },
      "source": [
        "## Задание 17: Проверка несмещённости и состоятельности выборочного среднего рейтингов (3 балла все задание)\n",
        "1. Вычисление генерального среднего рейтингов \\\n",
        "Рассчитайте выборочное среднее рейтингов всех аниме. \\\n",
        "2. Проверка несмещённости оценки выборочного среднего \\\n",
        "Сгенерируйте 1000 выборок объёма n=100 с возвращением из исходных данных.\n",
        "Для каждой выборки вычислите выборочное среднее рейтингов.\n",
        "Постройте гистограмму распределения полученных выборочных средних.\n",
        "Вычислите среднее из выборочных средних и сравните его с генеральным средним исходных данных. Сделайте вывод о несмещенности оценки. (1 балл)\n",
        "3. Проверка состоятельности оценки выборочного среднего. \\\n",
        "Повторите шаги из пункта 2 для различных объёмов выборки: n=50, 200, 500.\n",
        "Для каждого объёма выборки вычислите дисперсию выборочных средних.\n",
        "Постройте график зависимости дисперсии выборочных средних от объёма выборки.\n",
        "Проанализируйте, как дисперсия уменьшается с увеличением объёма выборки. Сделайте вывод о состоятельности оценки. (1 балл)"
      ]
    },
    {
      "cell_type": "code",
      "execution_count": null,
      "metadata": {
        "id": "zGwtlJRVttU1"
      },
      "outputs": [],
      "source": []
    },
    {
      "cell_type": "markdown",
      "metadata": {
        "id": "XOBGz3avwKTg"
      },
      "source": [
        "## Задание 18: Проверка несмещённости и состоятельности медианы рейтингов (3 балла все задание)\n",
        "1. Вычисление генеральной медианы \\\n",
        "Рассчитайте медиану рейтингов по всему датасету.\n",
        "2. Проверка несмещённости медианы \\\n",
        "Сгенерируйте 1000 выборок объёма n=100 с возвращением.\n",
        "Для каждой выборки вычислите медиану рейтингов.\n",
        "Постройте гистограмму распределения полученных медиан.\n",
        "Вычислите среднее из медиан и сравните с медианой исходных данных. Сделайте вывод о несмещенности оценки. (1 балл)\n",
        "3. Проверка состоятельности медианы \\\n",
        "Повторите шаги из пункта 2 для n=50, 200, 500.\n",
        "Для каждого объёма выборки вычислите стандартное отклонение медиан.\n",
        "Постройте график зависимости стандартного отклонения медиан от объёма выборки.\n",
        "Проанализируйте изменение разброса медиан с ростом объёма выборки. Сделайте вывод о состоятельности оценки. (1 балл)"
      ]
    },
    {
      "cell_type": "code",
      "execution_count": null,
      "metadata": {
        "id": "toiL8y5GwKe3"
      },
      "outputs": [],
      "source": []
    },
    {
      "cell_type": "markdown",
      "metadata": {
        "id": "eMKWcgY2wKwB"
      },
      "source": [
        "## Задание 19: Проверка несмещённости и состоятельности выборочной дисперсии рейтингов (3 балла все задание)\n",
        "1. Вычисление выборочной дисперсии \\\n",
        "Рассчитайте выборочную дисперсию рейтингов по всему датасету.\n",
        "2. Проверка несмещённости оценки выборочной дисперсии \\\n",
        "Сгенерируйте 1000 выборок объёма n=100 с возвращением.\n",
        "Для каждой выборки вычислите выборочную дисперсию.\n",
        "Постройте гистограмму распределения полученных дисперсий.\n",
        "Вычислите среднее из дисперсий и сравните с выборочной дисперсией исходных данных. Сделайте вывод о несмещенности оценки. (1 балл)\n",
        "3. Проверка состоятельности оценки выборочной дисперсии \\\n",
        "Повторите шаги из пункта 2 для n=50, 200, 500.\n",
        "Для каждого объёма выборки вычислите дисперсию оценок выборочной дисперсии.\n",
        "Постройте график зависимости дисперсии оценок выборочной дисперсии от объёма выборки.\n",
        "Проанализируйте изменение разброса оценок с ростом объёма выборки.  Сделайте вывод о состоятельности оценки. (1 балл)"
      ]
    },
    {
      "cell_type": "code",
      "execution_count": null,
      "metadata": {
        "id": "UG1sPvD2wK4N"
      },
      "outputs": [],
      "source": []
    }
  ],
  "metadata": {
    "colab": {
      "provenance": []
    },
    "kernelspec": {
      "display_name": "itmo-math-stat-cDgRnBdI-py3.12",
      "language": "python",
      "name": "python3"
    },
    "language_info": {
      "codemirror_mode": {
        "name": "ipython",
        "version": 3
      },
      "file_extension": ".py",
      "mimetype": "text/x-python",
      "name": "python",
      "nbconvert_exporter": "python",
      "pygments_lexer": "ipython3",
      "version": "3.12.3"
    }
  },
  "nbformat": 4,
  "nbformat_minor": 0
}
