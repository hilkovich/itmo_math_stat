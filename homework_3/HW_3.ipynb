{
  "cells": [
    {
      "cell_type": "markdown",
      "metadata": {
        "id": "qvdCkqCNSq-_"
      },
      "source": [
        "# Домашнее задание 3 - Проверка статистических гипотез и параметрические критерии"
      ]
    },
    {
      "cell_type": "markdown",
      "metadata": {
        "id": "T_cLNrLMKoj-"
      },
      "source": [
        "**ВАЖНО: Обязательно для каждой задачи строим график и показываем куда попадает наше значение, если в задаче нужно проверить статистическую гипотезу**\n",
        "\\\n",
        "**При отсутствии графиков возможна полная потеря баллов за задание**"
      ]
    },
    {
      "cell_type": "code",
      "execution_count": 1,
      "metadata": {},
      "outputs": [],
      "source": [
        "import numpy as np\n",
        "import matplotlib.pyplot as plt\n",
        "from scipy.stats import t, norm"
      ]
    },
    {
      "cell_type": "markdown",
      "metadata": {
        "id": "ntB8dJM6RKCv"
      },
      "source": [
        "### Задача 1 (1 балл)"
      ]
    },
    {
      "cell_type": "markdown",
      "metadata": {
        "id": "_wzRpF-e8WV7"
      },
      "source": [
        "Пусть X1,X2,…,Xn​ — независимые и одинаково распределенные случайные величины из нормального распределения с неизвестным средним μ и известной дисперсией σ^2=25. Из выборки объема n=64 получено выборочное среднее =102.\n",
        "\\\n",
        "Проверьте гипотезу H0:μ=100 против альтернативы H1:μ>100 на уровне значимости α=0.01.\n",
        "\\\n",
        "Вычислите p-значение этого теста."
      ]
    },
    {
      "cell_type": "code",
      "execution_count": 48,
      "metadata": {},
      "outputs": [
        {
          "name": "stdout",
          "output_type": "stream",
          "text": [
            "Гипотеза H0 отвергается на уровне значимости 0.01\n",
            "p-значение: 0.001\n"
          ]
        },
        {
          "data": {
            "image/png": "[encoded data removed]",
            "text/plain": [
              "<Figure size 800x400 with 1 Axes>"
            ]
          },
          "metadata": {},
          "output_type": "display_data"
        }
      ],
      "source": [
        "# Исходные данные\n",
        "n = 64\n",
        "sample_mean = 102\n",
        "sigma = np.sqrt(25)\n",
        "mu = 100\n",
        "alpha = 0.01\n",
        "\n",
        "# Вычисление статистики t-критерия\n",
        "t_stat = (sample_mean - mu) / (sigma / np.sqrt(n))\n",
        "\n",
        "# Вычисление p-значения\n",
        "p_value = 1 - t.cdf(t_stat, n - 1)\n",
        "\n",
        "# Проверка гипотезы\n",
        "if p_value < alpha:\n",
        "    print(f\"Гипотеза H0 отвергается на уровне значимости {alpha}\")\n",
        "else:\n",
        "    print(f\"Гипотеза H0 не отвергается на уровне значимости {alpha}\")\n",
        "\n",
        "print(f\"p-значение: {p_value:.3f}\")\n",
        "\n",
        "sample_norm = norm.rvs(sample_mean, sigma, size=n, random_state=12)\n",
        "\n",
        "# Графическое представление\n",
        "fig, axs = plt.subplots(1, 1, figsize=(8, 4))\n",
        "\n",
        "x = np.linspace(mu - 4 * sigma, mu + 4 * sigma, 400)\n",
        "axs.plot(x, norm.pdf(x, mu, sigma), color=\"red\")\n",
        "\n",
        "#axs.axvline(x=mu, color=\"black\", linestyle=\"--\")\n",
        "#axs.axvline(x=sample_mean, color=\"blue\", linestyle=\"--\")\n",
        "#axs.axvline(x=t_stat * sigma + mu, color=\"green\", linestyle=\"--\")\n",
        "\n",
        "# Добавляем линии границ alpha\n",
        "alpha_lower = mu - alpha * sigma\n",
        "alpha_upper = mu + alpha * sigma\n",
        "axs.axvline(x=alpha_lower, color=\"orange\", linestyle=\"--\")\n",
        "axs.axvline(x=alpha_upper, color=\"orange\", linestyle=\"--\")\n",
        "\n",
        "plt.show()"
      ]
    },
    {
      "cell_type": "code",
      "execution_count": 34,
      "metadata": {},
      "outputs": [],
      "source": []
    },
    {
      "cell_type": "code",
      "execution_count": null,
      "metadata": {},
      "outputs": [],
      "source": []
    },
    {
      "cell_type": "code",
      "execution_count": null,
      "metadata": {},
      "outputs": [],
      "source": []
    },
    {
      "cell_type": "markdown",
      "metadata": {
        "id": "4xUPvWC18kMd"
      },
      "source": [
        "### Задача 2 (1 балл)"
      ]
    },
    {
      "cell_type": "markdown",
      "metadata": {
        "id": "_keMRyJ17evt"
      },
      "source": [
        "Даны три независимые выборки. Первая выборка объемом 35 наблюдений имеет выборочное среднее 10.2 и выборочную дисперсию 2.5. Вторая выборка объемом 30 наблюдений имеет выборочное среднее 9.8 и выборочную дисперсию 2.8. Третья выборка объемом 40 наблюдений имеет выборочное среднее 10.5 и выборочную дисперсию 3.0.\n",
        "\n",
        "Проверьте гипотезу о том, что средние всех трех выборок равны, на уровне значимости 0.05.\n",
        "Оцените статистическую значимость результатов и постройте доверительные интервалы c графиками для каждого из средних."
      ]
    },
    {
      "cell_type": "code",
      "execution_count": null,
      "metadata": {
        "id": "J5VH99pr7fBt"
      },
      "outputs": [],
      "source": []
    },
    {
      "cell_type": "markdown",
      "metadata": {
        "id": "91wESFacRiyJ"
      },
      "source": [
        "### Задача 3 (1 балл)"
      ]
    },
    {
      "cell_type": "markdown",
      "metadata": {
        "id": "xUPi0xZi7Mg2"
      },
      "source": [
        "Тестирование параметра распределения Пуассона\n",
        "\n",
        "Выборка из 60 наблюдений была получена из распределения Пуассона с неизвестным параметром. Известно, что среднее количество наблюдений в выборке равно 4.8.\n",
        "\n",
        "Проверьте гипотезу о том, что параметр распределения Пуассона равен 5 против альтернативы, что он меньше 5. Используйте уровень значимости 0.05.\n",
        "Вычислите p-значение и сделайте вывод о гипотезе."
      ]
    },
    {
      "cell_type": "code",
      "execution_count": null,
      "metadata": {
        "id": "8pY1tjeU7Mw9"
      },
      "outputs": [],
      "source": []
    },
    {
      "cell_type": "markdown",
      "metadata": {
        "id": "_XZGLZVQRkhZ"
      },
      "source": [
        "### Задача 4 (1 балл)"
      ]
    },
    {
      "cell_type": "markdown",
      "metadata": {
        "id": "vstiQkF_4YnG"
      },
      "source": [
        "Компания заявляет, что среднее время работы их нового аккумулятора составляет 100 часов. Независимая лаборатория протестировала 25 случайно выбранных аккумуляторов и получила среднее время работы 95 часов при стандартном отклонении 10 часов. Можно ли на уровне значимости 1% утверждать, что реальное среднее время работы аккумуляторов меньше заявленного?"
      ]
    },
    {
      "cell_type": "code",
      "execution_count": null,
      "metadata": {
        "id": "cRW3AW3K4ZDe"
      },
      "outputs": [],
      "source": []
    },
    {
      "cell_type": "markdown",
      "metadata": {
        "id": "7vAIbVIzRmXl"
      },
      "source": [
        "### Задача 5 (1 балл)"
      ]
    },
    {
      "cell_type": "markdown",
      "metadata": {
        "id": "uWPIr-gu4ZKN"
      },
      "source": [
        "В ходе медицинского исследования сравнивается эффективность нового препарата для снижения артериального давления с существующим. Первой группе из 30 пациентов назначают новый препарат, и среднее снижение давления составляет 8 мм рт. ст. со стандартным отклонением 2 мм рт. ст. Второй группе из 30 пациентов дают существующий препарат, и среднее снижение составляет 6 мм рт. ст. со стандартным отклонением 3 мм рт. ст. Является ли новый препарат более эффективным на уровне значимости 5%?"
      ]
    },
    {
      "cell_type": "code",
      "execution_count": null,
      "metadata": {
        "id": "mdUTvCDb4ZZI"
      },
      "outputs": [],
      "source": []
    },
    {
      "cell_type": "markdown",
      "metadata": {
        "id": "1T37zh7TRrqS"
      },
      "source": [
        "### Задача 6 (1 балл)"
      ]
    },
    {
      "cell_type": "markdown",
      "metadata": {
        "id": "C62KRZyI4ZfO"
      },
      "source": [
        "В университете внедрили новую методику преподавания математики и хотят оценить ее влияние на успеваемость студентов. Средний балл по математике в предыдущие годы был 75. После внедрения методики группа из 50 студентов получила средний балл 78 с стандартным отклонением 5. Проверить на уровне значимости 1%, улучшилась ли успеваемость студентов."
      ]
    },
    {
      "cell_type": "code",
      "execution_count": null,
      "metadata": {
        "id": "LpIBBHdA4Zlh"
      },
      "outputs": [],
      "source": []
    },
    {
      "cell_type": "markdown",
      "metadata": {
        "id": "AL0eLq3pRtQC"
      },
      "source": [
        "### Задача 7 (1 балл)"
      ]
    },
    {
      "cell_type": "markdown",
      "metadata": {
        "id": "0Y5DRQWZ4Zr8"
      },
      "source": [
        "Производитель утверждает, что его новый процессор работает на 20% быстрее предыдущей модели. Для проверки этого заявления были протестированы 40 новых и 40 старых процессоров. Новые процессоры в среднем выполняли задачу за 8 секунд с стандартным отклонением 1 секунда, старые — за 10 секунд с стандартным отклонением 1,5 секунды. Соответствует ли утверждение производителя действительности на уровне значимости 2%?"
      ]
    },
    {
      "cell_type": "code",
      "execution_count": null,
      "metadata": {
        "id": "a2GHdx-U4Zyt"
      },
      "outputs": [],
      "source": []
    },
    {
      "cell_type": "markdown",
      "metadata": {
        "id": "Xk0mVP2uRvBe"
      },
      "source": [
        "### Задача 8 (1 балл)"
      ]
    },
    {
      "cell_type": "markdown",
      "metadata": {
        "id": "rMIKF6wZ4Z5t"
      },
      "source": [
        "После введения новых экологических стандартов исследователь хочет определить, снизился ли уровень загрязнения воздуха в городе. До введения стандартов средняя концентрация вредных веществ составляла 50 мкг/м³. Через год после внедрения было проведено 36 измерений, и средняя концентрация составила 47 мкг/м³ со стандартным отклонением 4 мкг/м³. Можно ли на уровне значимости 5% считать, что уровень загрязнения воздуха снизился?"
      ]
    },
    {
      "cell_type": "code",
      "execution_count": null,
      "metadata": {
        "id": "GxdQsPMG4aBG"
      },
      "outputs": [],
      "source": []
    },
    {
      "cell_type": "markdown",
      "metadata": {
        "id": "ygLTP4xgRwd7"
      },
      "source": [
        "### Задача 9 (1 балл)"
      ]
    },
    {
      "cell_type": "markdown",
      "metadata": {
        "id": "x9UBmaUj4pZe"
      },
      "source": [
        "В школе проводят эксперимент, чтобы выяснить, влияет ли дополнительное занятие по чтению на скорость чтения учеников. Учеников случайным образом разделили на две группы по 20 человек. Первая группа занималась по стандартной программе и показала среднюю скорость чтения 150 слов в минуту со стандартным отклонением 15 слов. Вторая группа посещала дополнительные занятия и показала среднюю скорость 160 слов в минуту со стандартным отклонением 10 слов. Является ли разница в скоростях статистически значимой на уровне значимости 5%?"
      ]
    },
    {
      "cell_type": "code",
      "execution_count": null,
      "metadata": {
        "id": "BDMeeRYc4pg2"
      },
      "outputs": [],
      "source": []
    },
    {
      "cell_type": "markdown",
      "metadata": {
        "id": "TpM_NjJlRyTH"
      },
      "source": [
        "### Задача 10 (1 балл)"
      ]
    },
    {
      "cell_type": "markdown",
      "metadata": {
        "id": "BGDHDlrK4pnr"
      },
      "source": [
        "Автомобильная компания хочет определить, влияет ли новый тип топлива на эффективность расхода топлива. В тесте участвовали 30 автомобилей, использующих обычное топливо, и 30 автомобилей на новом топливе. Средний расход для обычного топлива составил 8 литров на 100 км с стандартным отклонением 0,5 литра, для нового топлива — 7,5 литров на 100 км с стандартным отклонением 0,4 литра. Проверьте на уровне значимости 1%, улучшает ли новый тип топлива эффективность."
      ]
    },
    {
      "cell_type": "code",
      "execution_count": null,
      "metadata": {
        "id": "pdqdjnh34ptz"
      },
      "outputs": [],
      "source": []
    },
    {
      "cell_type": "markdown",
      "metadata": {
        "id": "KzID_hU6Rzuw"
      },
      "source": [
        "### Задача 11 (1 балл)"
      ]
    },
    {
      "cell_type": "markdown",
      "metadata": {
        "id": "xuKf5ipD4p0Y"
      },
      "source": [
        "В исследовании психологии изучается влияние медитации на уровень стресса. Уровень стресса измеряется по шкале от 0 до 100. До начала программы медитации у группы из 25 участников средний уровень стресса был 70 с стандартным отклонением 8. После программы средний уровень снизился до 65 с стандартным отклонением 7. Является ли снижение уровня стресса статистически значимым на уровне значимости 5%?"
      ]
    },
    {
      "cell_type": "code",
      "execution_count": null,
      "metadata": {
        "id": "efaN6MoD4p7H"
      },
      "outputs": [],
      "source": []
    },
    {
      "cell_type": "markdown",
      "metadata": {
        "id": "LuuLo3q-SG41"
      },
      "source": [
        "### Задача 12 (1 балл)"
      ]
    },
    {
      "cell_type": "markdown",
      "metadata": {
        "id": "fS1k_SJf4qBI"
      },
      "source": [
        "Компания по производству напитков изменила рецепт своего продукта и хочет определить, повлияло ли это на предпочтения потребителей. В тестировании участвовали 200 человек, из которых 110 предпочли новый рецепт, а остальные остались нейтральны или выбрали старый. Можно ли на уровне значимости 1% утверждать, что большинство потребителей предпочитают новый рецепт?"
      ]
    },
    {
      "cell_type": "code",
      "execution_count": null,
      "metadata": {
        "id": "DbQ9vnNo4qIP"
      },
      "outputs": [],
      "source": []
    },
    {
      "cell_type": "markdown",
      "metadata": {
        "id": "Hv-8mzNISIvj"
      },
      "source": [
        "### Задача 13 (1 балл)"
      ]
    },
    {
      "cell_type": "markdown",
      "metadata": {
        "id": "u0-Qr5Uu4zyE"
      },
      "source": [
        "В ходе эксперимента изучается влияние нового удобрения на рост растений. Группе из 15 растений добавляли новое удобрение, и средний рост составил 25 см с стандартным отклонением 3 см. Контрольная группа из 15 растений без удобрения показала средний рост 22 см с стандартным отклонением 2,5 см. Проверить на уровне значимости 5%, является ли разница в росте статистически значимой."
      ]
    },
    {
      "cell_type": "code",
      "execution_count": null,
      "metadata": {
        "id": "QaJZtUNZ4z5B"
      },
      "outputs": [],
      "source": []
    },
    {
      "cell_type": "markdown",
      "metadata": {
        "id": "HMfr3VLlSLVr"
      },
      "source": [
        "### Задача 14 (5 баллов за все пункты)"
      ]
    },
    {
      "cell_type": "markdown",
      "metadata": {
        "id": "pEcGo5GLGOCF"
      },
      "source": [
        "Пункт 1. Компания внедряет новую программу обучения сотрудников с целью повышения производительности труда. Ранее средняя производительность составляла 50 единиц в день при стандартном отклонении 8 единиц. После года действия программы случайно выбранная выборка из 80 сотрудников показала среднюю производительность 52 единицы. Считаем, что стандартное отклонение осталось неизменным. Можно ли на основе этих данных утверждать, что программа обучения действительно повысила производительность, или наблюдаемый результат мог возникнуть случайно? Сформулируйте нулевую и альтернативную гипотезы, определите тип теста (двусторонний, левосторонний или правосторонний) и проверьте нулевую гипотезу на уровнях значимости α = 1% и α = 5%.\n",
        "\n",
        "\n",
        "---\n",
        "\n",
        "Пункт 2. Решите пункт 1, если выборка состоит лишь из 5 сотрудников.\n",
        "\n",
        "\n",
        "---\n",
        "\n",
        "Пункт 3. Решите пункт 1 при условии, что стандартное отклонение увеличилось до 16 единиц.\n",
        "\n",
        "\n",
        "---\n",
        "\n",
        "Пункт 4. Решите пункт 1, если после внедрения программы средняя производительность составила 51 единицу.\n",
        "\n",
        "\n",
        "---\n",
        "\n",
        "Пункт 5. Решите пункт 1, если стандартное отклонение неизвестно, а выборка составила 25 сотрудников. Несмещённая оценка дисперсии выборки составила 64. Примите уровень значимости равным 5%."
      ]
    },
    {
      "cell_type": "code",
      "execution_count": null,
      "metadata": {
        "id": "LSMuys6aGjRG"
      },
      "outputs": [],
      "source": []
    },
    {
      "cell_type": "markdown",
      "metadata": {
        "id": "4qes8gHmSWwy"
      },
      "source": [
        "### Задача 15 (3 балла за все пункты)"
      ]
    },
    {
      "cell_type": "markdown",
      "metadata": {
        "id": "nxEGB4ZuKiCK"
      },
      "source": [
        "Задача 1. Компания оценивает эффективность нового программного обеспечения для повышения производительности сотрудников. Перед установкой ПО среднее время выполнения определённой задачи у 60 сотрудников составляло 100 минут с известным стандартным отклонением 12 минут. После установки нового ПО среднее время выполнения той же задачи снизилось до 95 минут. Считаем, что стандартное отклонение осталось неизменным. Можно ли на уровне значимости α = 5% утверждать, что новое ПО действительно снижает время выполнения задачи? Сформулируйте нулевую и альтернативную гипотезы, определите тип теста и проверьте нулевую гипотезу.\n",
        "\n",
        "\n",
        "---\n",
        "\n",
        "Задача 2. Решите задачу 1, если стандартное отклонение после установки нового ПО неизвестно, а выборка составляет 25 сотрудников. По полученным данным несмещённая оценка дисперсии после установки ПО составляет 144 минуты².\n",
        "\n",
        "\n",
        "---\n",
        "\n",
        "Задача 3. Компания сравнивает эффективность двух независимых групп сотрудников: первая группа из 50 человек использует старое ПО, вторая группа из 50 человек — новое ПО. Среднее время выполнения задачи в первой группе составляет 100 минут со стандартным отклонением 12 минут, во второй группе — 95 минут со стандартным отклонением 12 минут. Можно ли на уровне значимости α = 5% утверждать, что новое ПО снижает время выполнения задачи по сравнению со старым?\n",
        "\n",
        "\n",
        "---\n",
        "\n",
        "Задача 4. Для оценки влияния обучающего курса на навыки сотрудников компания измеряет время выполнения задачи у 30 сотрудников до и после прохождения курса. Среднее время до обучения составляет 80 минут, после обучения — 75 минут. Известно, что стандартное отклонение разностей времени (до и после) составляет 5 минут. Можно ли на уровне значимости α = 1% утверждать, что обучение улучшило навыки сотрудников? Сформулируйте нулевую и альтернативную гипотезы и выберите подходящий статистический тест.\n",
        "\n",
        "\n",
        "---\n",
        "\n",
        "Задача 5. Решите задачу 4, если стандартное отклонение разностей времени неизвестно, а несмещённая оценка дисперсии разностей составляет 25 минут². Примите уровень значимости равным 1%."
      ]
    },
    {
      "cell_type": "code",
      "execution_count": null,
      "metadata": {
        "id": "Lbshz7mnPa1C"
      },
      "outputs": [],
      "source": []
    },
    {
      "cell_type": "markdown",
      "metadata": {
        "id": "vjochG__Sa4v"
      },
      "source": [
        "### Задача 16 (4 балла за все пункты)"
      ]
    },
    {
      "cell_type": "markdown",
      "metadata": {
        "id": "5ykCrbfjPbL-"
      },
      "source": [
        "Монетку подбросили n=150 раз. Из них выпало Y орлов. Вероятность выпадения орла равна p.\n",
        "\n",
        "(a) При каких значениях Y вы отвергнете нулевую гипотезу H0:p=1/2 против односторонней альтернативы p>1/2 на уровне значимости α=0.05?\n",
        "\n",
        "(b) Предположим, что на самом деле H0​ не выполняется, а выполняется H1​, и вероятность выпадения орла равна p=1/2+δ, где δ=1/10. При этом мы не знаем точное значение pp, но действуем согласно нашему критерию. С какой вероятностью мы при этом отвергнем гипотезу H0​? Какова вероятность совершить ошибку второго рода (не отвергнуть H0​, когда H1​ истинна)?\n",
        "\n",
        "(c) Решите ту же задачу для δ=1/100.\n",
        "\n",
        "(d) Решите ту же задачу для δ=1/100 и n=1000."
      ]
    },
    {
      "cell_type": "code",
      "execution_count": null,
      "metadata": {
        "id": "qHwuTv1mPbqC"
      },
      "outputs": [],
      "source": []
    }
  ],
  "metadata": {
    "colab": {
      "provenance": []
    },
    "kernelspec": {
      "display_name": "itmo-math-stat-cDgRnBdI-py3.12",
      "language": "python",
      "name": "python3"
    },
    "language_info": {
      "codemirror_mode": {
        "name": "ipython",
        "version": 3
      },
      "file_extension": ".py",
      "mimetype": "text/x-python",
      "name": "python",
      "nbconvert_exporter": "python",
      "pygments_lexer": "ipython3",
      "version": "3.12.3"
    }
  },
  "nbformat": 4,
  "nbformat_minor": 0
}
