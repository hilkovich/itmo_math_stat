{
  "cells": [
    {
      "cell_type": "markdown",
      "metadata": {
        "id": "DruAYCH0Lgfc"
      },
      "source": [
        "# Домашнее задание №2\n",
        "\n",
        "Тема \"Доверительные интервалы\"\n",
        "\n",
        "Общие положения:\n",
        "- Макс кол-во баллов за ДЗ - 25 баллов\n",
        "- Качество оформления и кода играет роль\n",
        "\n",
        "Список заданий:\n",
        "1.\n",
        "\n"
      ]
    },
    {
      "cell_type": "code",
      "execution_count": 1,
      "metadata": {
        "id": "k3XgN0Y7c9cm"
      },
      "outputs": [],
      "source": [
        "import pandas as pd\n",
        "import numpy as np\n",
        "import matplotlib.pyplot as plt\n",
        "\n",
        "from scipy.stats import norm, t\n",
        "\n",
        "plt.style.use(\"ggplot\")\n",
        "%matplotlib inline"
      ]
    },
    {
      "cell_type": "code",
      "execution_count": 2,
      "metadata": {
        "colab": {
          "base_uri": "https://localhost:8080/"
        },
        "id": "nbPsRmOWjBol",
        "outputId": "1e9827c5-e007-4430-9255-c66d1786b20d"
      },
      "outputs": [
        {
          "name": "stdout",
          "output_type": "stream",
          "text": [
            "1.96\n"
          ]
        }
      ],
      "source": [
        "# Задаем стандартное нормальное распределение\n",
        "norm_distr = norm(loc=0, scale=1)\n",
        "\n",
        "# Рассчитываем квантиль по заданному уровню значимости\n",
        "alpha = 0.05\n",
        "z = norm_distr.ppf(1 - alpha / 2)\n",
        "print(round(z, 2))"
      ]
    },
    {
      "cell_type": "markdown",
      "metadata": {
        "id": "YVevs2--cO6W"
      },
      "source": [
        "## Задание 1  \n",
        "Компания утверждает, что длина шнурков в партии обуви имеет среднее значение 120 см, и стандартное отклонение в партии точно известно и составляет 5 см. Из выборки 25 шнурков было получено среднее значение длины 122 см. Найдите 99%-ый доверительный интервал для среднего значения длины шнурков (1 балл)"
      ]
    },
    {
      "cell_type": "code",
      "execution_count": 3,
      "metadata": {},
      "outputs": [
        {
          "name": "stdout",
          "output_type": "stream",
          "text": [
            "99% доверительный интервал: [119.42, 124.58], ширина 5.15\n"
          ]
        }
      ],
      "source": [
        "# Исходные данные\n",
        "sample_size = 25\n",
        "sample_mean = 122\n",
        "sigma = 5\n",
        "alpha = 0.01\n",
        "\n",
        "# Расчет доверительного интервала\n",
        "z_score = norm.ppf(1 - alpha / 2)\n",
        "std_error = sigma / np.sqrt(sample_size)\n",
        "margin_of_error = z_score * std_error\n",
        "\n",
        "lower_bound = sample_mean - margin_of_error\n",
        "upper_bound = sample_mean + margin_of_error\n",
        "\n",
        "print(\n",
        "    f\"99% доверительный интервал: [{lower_bound:.2f}, {upper_bound:.2f}], ширина {upper_bound - lower_bound:.2f}\"\n",
        ")"
      ]
    },
    {
      "cell_type": "markdown",
      "metadata": {
        "id": "vJVeA5OcdGPs"
      },
      "source": [
        "## Задание 2\n",
        "Компания исследует среднее время выполнения заказа курьерской службой. Было случайным образом выбрано 10 заказов, для которых среднее время доставки составило 45 минут, а выборочная дисперсия — 9 минут. Постройте 95%-ый доверительный интервал для среднего времени доставки заказа (1 балл)"
      ]
    },
    {
      "cell_type": "code",
      "execution_count": 4,
      "metadata": {},
      "outputs": [
        {
          "name": "stdout",
          "output_type": "stream",
          "text": [
            "95%-ый доверительный интервал: [42.85, 47.15], ширина 4.29\n"
          ]
        }
      ],
      "source": [
        "# Исходные данные\n",
        "n = 10\n",
        "mean_time = 45\n",
        "variance = 9\n",
        "alpha = 0.05\n",
        "\n",
        "# Расчет доверительного интервала\n",
        "t_score = t.ppf(1 - alpha / 2, df=(n - 1))\n",
        "margin_of_error = t_score * np.sqrt(variance / n)\n",
        "\n",
        "lower_bound = mean_time - margin_of_error\n",
        "upper_bound = mean_time + margin_of_error\n",
        "\n",
        "print(\n",
        "    f\"95%-ый доверительный интервал: [{lower_bound:.2f}, {upper_bound:.2f}], ширина {upper_bound - lower_bound:.2f}\"\n",
        ")"
      ]
    },
    {
      "cell_type": "markdown",
      "metadata": {
        "id": "Eb1KiG10p5sY"
      },
      "source": [
        "## Задание 3\n",
        "Интернет-магазин хочет определить долю пользователей, которые возвращаются для повторной покупки в течение месяца после первой покупки. Для этого он проанализировал выборку из 800 клиентов, и оказалось, что 240 из них сделали повторную покупку в течение месяца. Необходимо определить 95% доверительный интервал для истинной доли клиентов, которые возвращаются для повторной покупки в течение этого времени (1 балл)\n"
      ]
    },
    {
      "cell_type": "code",
      "execution_count": 5,
      "metadata": {},
      "outputs": [
        {
          "name": "stdout",
          "output_type": "stream",
          "text": [
            "95%-ый доверительный интервал: [0.27, 0.33], ширина 0.06\n"
          ]
        }
      ],
      "source": [
        "# Исходные данные\n",
        "n = 800\n",
        "k = 240\n",
        "alpha = 0.05\n",
        "\n",
        "# Вычисление доверительного интервала\n",
        "z_score = norm.ppf(1 - alpha / 2)\n",
        "p = k / n\n",
        "margin_of_error = z_score * np.sqrt(p * (1 - p) / n)\n",
        "\n",
        "lower_bound = p - margin_of_error\n",
        "upper_bound = p + margin_of_error\n",
        "\n",
        "print(\n",
        "    f\"95%-ый доверительный интервал: [{lower_bound:.2f}, {upper_bound:.2f}], ширина {upper_bound - lower_bound:.2f}\"\n",
        ")"
      ]
    },
    {
      "cell_type": "markdown",
      "metadata": {
        "id": "_zv2AYYxli49"
      },
      "source": [
        "## Задание 4\n",
        "Два студента Тимофей и Пётр решают задачи из учебника по статистике, каждый со своей усердностью λ (количество решенных задач в день).\n",
        "Тимофей считает себя более усердным студентом. Необходимо построить доверительный для разности λ1 - λ2 и проверить, правда ли это.\n",
        "Студенты решают задачи независимо друг от друга (1 балл)"
      ]
    },
    {
      "cell_type": "code",
      "execution_count": 6,
      "metadata": {},
      "outputs": [],
      "source": [
        "# Данные\n",
        "a = [7, 5, 2, 8, 4, 9, 2, 6, 6, 7]  # Тимофей\n",
        "b = [3, 3, 3, 9, 9, 2, 2, 2, 2, 9]  # Пётр"
      ]
    },
    {
      "cell_type": "code",
      "execution_count": 7,
      "metadata": {},
      "outputs": [
        {
          "name": "stdout",
          "output_type": "stream",
          "text": [
            "Среднее значение для Тимофея: 5.6\n",
            "Стандартное отклонение для Тимофея: 2.37\n",
            "Среднее значение для Петра: 4.4\n",
            "Стандартное отклонение для Петра: 3.2\n"
          ]
        }
      ],
      "source": [
        "# Преобразование данных\n",
        "a = np.array(a)\n",
        "b = np.array(b)\n",
        "\n",
        "# Вычисление средних значений и стандартных отклонений\n",
        "mean_a = np.mean(a)\n",
        "std_a = np.std(a, ddof=1)\n",
        "mean_b = np.mean(b)\n",
        "std_b = np.std(b, ddof=1)\n",
        "\n",
        "print(\"Среднее значение для Тимофея:\", mean_a)\n",
        "print(\"Стандартное отклонение для Тимофея:\", round(std_a, 2))\n",
        "print(\"Среднее значение для Петра:\", mean_b)\n",
        "print(\"Стандартное отклонение для Петра:\", round(std_b, 2))"
      ]
    },
    {
      "cell_type": "code",
      "execution_count": 8,
      "metadata": {},
      "outputs": [
        {
          "name": "stdout",
          "output_type": "stream",
          "text": [
            "95%-ый доверительный интервал: [-0.76, 3.16], ширина 3.92\n"
          ]
        }
      ],
      "source": [
        "alpha = 0.05\n",
        "z_alpha = norm.ppf(1 - alpha / 2)\n",
        "\n",
        "diff = np.mean(a) - np.mean(b)\n",
        "diff_se = np.sqrt(np.mean(a) / len(a) + np.mean(b) / len(b))\n",
        "\n",
        "left = diff - z_alpha * diff_se\n",
        "right = diff + z_alpha * diff_se\n",
        "\n",
        "print(\n",
        "    f\"95%-ый доверительный интервал: [{left:.2f}, {right:.2f}], ширина {right - left:.2f}\"\n",
        ")"
      ]
    },
    {
      "cell_type": "code",
      "execution_count": 9,
      "metadata": {},
      "outputs": [
        {
          "name": "stdout",
          "output_type": "stream",
          "text": [
            "Тимофей действительно более усердный студент\n"
          ]
        }
      ],
      "source": [
        "# Проверка, правда ли Тимофей более усердный студент\n",
        "if mean_a > mean_b:\n",
        "    print(\"Тимофей действительно более усердный студент\")\n",
        "else:\n",
        "    print(\"Петр более усердный студент\")"
      ]
    },
    {
      "cell_type": "markdown",
      "metadata": {
        "id": "985Fwrbvxrz8"
      },
      "source": [
        "## Задания 5-8 (5 баллов всего)"
      ]
    },
    {
      "cell_type": "code",
      "execution_count": 10,
      "metadata": {
        "colab": {
          "base_uri": "https://localhost:8080/"
        },
        "id": "YNhQJ7Ev2ctk",
        "outputId": "52d3a565-c17f-4009-99c1-730e540d6412"
      },
      "outputs": [
        {
          "name": "stdout",
          "output_type": "stream",
          "text": [
            "  % Total    % Received % Xferd  Average Speed   Time    Time     Time  Current\n",
            "                                 Dload  Upload   Total   Spent    Left  Speed\n",
            "100  778k  100  778k    0     0  1693k      0 --:--:-- --:--:-- --:--:-- 1693k\n"
          ]
        }
      ],
      "source": [
        "!curl -O https://raw.githubusercontent.com/practical-jupyter/sample-data/refs/heads/master/anime/anime.csv >> anime.csv"
      ]
    },
    {
      "cell_type": "markdown",
      "metadata": {
        "id": "ZIWuliOI2maT"
      },
      "source": [
        "Описание датафрейма:\n",
        "- `anime_id` - ID\n",
        "- `name` - название\n",
        "- `genre` - жанр (строка с пречисление через запятую)\n",
        "- `type` - формат\n",
        "- `episodes` - кол-во эпизодов\n",
        "- `rating` - средний рейтинг\n",
        "- `members` - кол-во смотрящих"
      ]
    },
    {
      "cell_type": "code",
      "execution_count": 11,
      "metadata": {
        "colab": {
          "base_uri": "https://localhost:8080/"
        },
        "id": "FD4TjaL52gd-",
        "outputId": "2e4073a6-d70a-4115-a873-69637b19ee82"
      },
      "outputs": [
        {
          "name": "stdout",
          "output_type": "stream",
          "text": [
            "<class 'pandas.core.frame.DataFrame'>\n",
            "RangeIndex: 10486 entries, 0 to 10485\n",
            "Data columns (total 7 columns):\n",
            " #   Column    Non-Null Count  Dtype  \n",
            "---  ------    --------------  -----  \n",
            " 0   anime_id  10486 non-null  int64  \n",
            " 1   name      10486 non-null  object \n",
            " 2   genre     10424 non-null  object \n",
            " 3   type      10463 non-null  object \n",
            " 4   episodes  10486 non-null  object \n",
            " 5   rating    10275 non-null  float64\n",
            " 6   members   10486 non-null  int64  \n",
            "dtypes: float64(1), int64(2), object(4)\n",
            "memory usage: 573.6+ KB\n"
          ]
        }
      ],
      "source": [
        "df_anime = pd.read_csv(\"anime.csv\")\n",
        "df_anime.info()"
      ]
    },
    {
      "cell_type": "code",
      "execution_count": 12,
      "metadata": {},
      "outputs": [
        {
          "data": {
            "text/plain": [
              "anime_id      0\n",
              "name          0\n",
              "genre        62\n",
              "type         23\n",
              "episodes      0\n",
              "rating      211\n",
              "members       0\n",
              "dtype: int64"
            ]
          },
          "execution_count": 12,
          "metadata": {},
          "output_type": "execute_result"
        }
      ],
      "source": [
        "df_anime.isna().sum()"
      ]
    },
    {
      "cell_type": "code",
      "execution_count": 13,
      "metadata": {},
      "outputs": [],
      "source": [
        "# Замена пустых значений количества эпизодов и перевод столбца в int\n",
        "df_anime[\"episodes\"] = df_anime[\"episodes\"].replace(\"Unknown\", \"1\").astype(np.int64)"
      ]
    },
    {
      "cell_type": "code",
      "execution_count": 14,
      "metadata": {},
      "outputs": [
        {
          "data": {
            "text/plain": [
              "anime_id      int64\n",
              "name         object\n",
              "genre        object\n",
              "type         object\n",
              "episodes      int64\n",
              "rating      float64\n",
              "members       int64\n",
              "dtype: object"
            ]
          },
          "execution_count": 14,
          "metadata": {},
          "output_type": "execute_result"
        }
      ],
      "source": [
        "df_anime.dtypes"
      ]
    },
    {
      "cell_type": "code",
      "execution_count": 15,
      "metadata": {},
      "outputs": [
        {
          "data": {
            "text/html": [
              "<div>\n",
              "<style scoped>\n",
              "    .dataframe tbody tr th:only-of-type {\n",
              "        vertical-align: middle;\n",
              "    }\n",
              "\n",
              "    .dataframe tbody tr th {\n",
              "        vertical-align: top;\n",
              "    }\n",
              "\n",
              "    .dataframe thead th {\n",
              "        text-align: right;\n",
              "    }\n",
              "</style>\n",
              "<table border=\"1\" class=\"dataframe\">\n",
              "  <thead>\n",
              "    <tr style=\"text-align: right;\">\n",
              "      <th></th>\n",
              "      <th>anime_id</th>\n",
              "      <th>episodes</th>\n",
              "      <th>rating</th>\n",
              "      <th>members</th>\n",
              "    </tr>\n",
              "  </thead>\n",
              "  <tbody>\n",
              "    <tr>\n",
              "      <th>count</th>\n",
              "      <td>10486.000000</td>\n",
              "      <td>10486.000000</td>\n",
              "      <td>10275.000000</td>\n",
              "      <td>1.048600e+04</td>\n",
              "    </tr>\n",
              "    <tr>\n",
              "      <th>mean</th>\n",
              "      <td>14697.595461</td>\n",
              "      <td>13.451459</td>\n",
              "      <td>6.493899</td>\n",
              "      <td>1.847893e+04</td>\n",
              "    </tr>\n",
              "    <tr>\n",
              "      <th>std</th>\n",
              "      <td>11594.539648</td>\n",
              "      <td>49.878724</td>\n",
              "      <td>1.066551</td>\n",
              "      <td>5.655936e+04</td>\n",
              "    </tr>\n",
              "    <tr>\n",
              "      <th>min</th>\n",
              "      <td>1.000000</td>\n",
              "      <td>1.000000</td>\n",
              "      <td>1.670000</td>\n",
              "      <td>5.000000e+00</td>\n",
              "    </tr>\n",
              "    <tr>\n",
              "      <th>25%</th>\n",
              "      <td>3615.750000</td>\n",
              "      <td>1.000000</td>\n",
              "      <td>5.870000</td>\n",
              "      <td>1.730000e+02</td>\n",
              "    </tr>\n",
              "    <tr>\n",
              "      <th>50%</th>\n",
              "      <td>11065.000000</td>\n",
              "      <td>1.000000</td>\n",
              "      <td>6.600000</td>\n",
              "      <td>1.197500e+03</td>\n",
              "    </tr>\n",
              "    <tr>\n",
              "      <th>75%</th>\n",
              "      <td>26018.500000</td>\n",
              "      <td>13.000000</td>\n",
              "      <td>7.250000</td>\n",
              "      <td>9.741750e+03</td>\n",
              "    </tr>\n",
              "    <tr>\n",
              "      <th>max</th>\n",
              "      <td>34527.000000</td>\n",
              "      <td>1818.000000</td>\n",
              "      <td>10.000000</td>\n",
              "      <td>1.013917e+06</td>\n",
              "    </tr>\n",
              "  </tbody>\n",
              "</table>\n",
              "</div>"
            ],
            "text/plain": [
              "           anime_id      episodes        rating       members\n",
              "count  10486.000000  10486.000000  10275.000000  1.048600e+04\n",
              "mean   14697.595461     13.451459      6.493899  1.847893e+04\n",
              "std    11594.539648     49.878724      1.066551  5.655936e+04\n",
              "min        1.000000      1.000000      1.670000  5.000000e+00\n",
              "25%     3615.750000      1.000000      5.870000  1.730000e+02\n",
              "50%    11065.000000      1.000000      6.600000  1.197500e+03\n",
              "75%    26018.500000     13.000000      7.250000  9.741750e+03\n",
              "max    34527.000000   1818.000000     10.000000  1.013917e+06"
            ]
          },
          "execution_count": 15,
          "metadata": {},
          "output_type": "execute_result"
        }
      ],
      "source": [
        "df_anime.describe()"
      ]
    },
    {
      "cell_type": "code",
      "execution_count": 16,
      "metadata": {},
      "outputs": [
        {
          "data": {
            "text/html": [
              "<div>\n",
              "<style scoped>\n",
              "    .dataframe tbody tr th:only-of-type {\n",
              "        vertical-align: middle;\n",
              "    }\n",
              "\n",
              "    .dataframe tbody tr th {\n",
              "        vertical-align: top;\n",
              "    }\n",
              "\n",
              "    .dataframe thead th {\n",
              "        text-align: right;\n",
              "    }\n",
              "</style>\n",
              "<table border=\"1\" class=\"dataframe\">\n",
              "  <thead>\n",
              "    <tr style=\"text-align: right;\">\n",
              "      <th></th>\n",
              "      <th>name</th>\n",
              "      <th>genre</th>\n",
              "      <th>type</th>\n",
              "    </tr>\n",
              "  </thead>\n",
              "  <tbody>\n",
              "    <tr>\n",
              "      <th>count</th>\n",
              "      <td>10486</td>\n",
              "      <td>10424</td>\n",
              "      <td>10463</td>\n",
              "    </tr>\n",
              "    <tr>\n",
              "      <th>unique</th>\n",
              "      <td>10484</td>\n",
              "      <td>2776</td>\n",
              "      <td>6</td>\n",
              "    </tr>\n",
              "    <tr>\n",
              "      <th>top</th>\n",
              "      <td>Shi Wan Ge Leng Xiaohua</td>\n",
              "      <td>Comedy</td>\n",
              "      <td>TV</td>\n",
              "    </tr>\n",
              "    <tr>\n",
              "      <th>freq</th>\n",
              "      <td>2</td>\n",
              "      <td>523</td>\n",
              "      <td>3542</td>\n",
              "    </tr>\n",
              "  </tbody>\n",
              "</table>\n",
              "</div>"
            ],
            "text/plain": [
              "                           name   genre   type\n",
              "count                     10486   10424  10463\n",
              "unique                    10484    2776      6\n",
              "top     Shi Wan Ge Leng Xiaohua  Comedy     TV\n",
              "freq                          2     523   3542"
            ]
          },
          "execution_count": 16,
          "metadata": {},
          "output_type": "execute_result"
        }
      ],
      "source": [
        "df_anime.describe(include=object)"
      ]
    },
    {
      "cell_type": "code",
      "execution_count": 17,
      "metadata": {},
      "outputs": [
        {
          "data": {
            "text/html": [
              "<div>\n",
              "<style scoped>\n",
              "    .dataframe tbody tr th:only-of-type {\n",
              "        vertical-align: middle;\n",
              "    }\n",
              "\n",
              "    .dataframe tbody tr th {\n",
              "        vertical-align: top;\n",
              "    }\n",
              "\n",
              "    .dataframe thead th {\n",
              "        text-align: right;\n",
              "    }\n",
              "</style>\n",
              "<table border=\"1\" class=\"dataframe\">\n",
              "  <thead>\n",
              "    <tr style=\"text-align: right;\">\n",
              "      <th></th>\n",
              "      <th>anime_id</th>\n",
              "      <th>name</th>\n",
              "      <th>genre</th>\n",
              "      <th>type</th>\n",
              "      <th>episodes</th>\n",
              "      <th>rating</th>\n",
              "      <th>members</th>\n",
              "    </tr>\n",
              "  </thead>\n",
              "  <tbody>\n",
              "    <tr>\n",
              "      <th>0</th>\n",
              "      <td>32281</td>\n",
              "      <td>Kimi no Na wa.</td>\n",
              "      <td>Drama</td>\n",
              "      <td>Movie</td>\n",
              "      <td>1</td>\n",
              "      <td>9.37</td>\n",
              "      <td>200630</td>\n",
              "    </tr>\n",
              "    <tr>\n",
              "      <th>0</th>\n",
              "      <td>32281</td>\n",
              "      <td>Kimi no Na wa.</td>\n",
              "      <td>Romance</td>\n",
              "      <td>Movie</td>\n",
              "      <td>1</td>\n",
              "      <td>9.37</td>\n",
              "      <td>200630</td>\n",
              "    </tr>\n",
              "    <tr>\n",
              "      <th>0</th>\n",
              "      <td>32281</td>\n",
              "      <td>Kimi no Na wa.</td>\n",
              "      <td>School</td>\n",
              "      <td>Movie</td>\n",
              "      <td>1</td>\n",
              "      <td>9.37</td>\n",
              "      <td>200630</td>\n",
              "    </tr>\n",
              "    <tr>\n",
              "      <th>0</th>\n",
              "      <td>32281</td>\n",
              "      <td>Kimi no Na wa.</td>\n",
              "      <td>Supernatural</td>\n",
              "      <td>Movie</td>\n",
              "      <td>1</td>\n",
              "      <td>9.37</td>\n",
              "      <td>200630</td>\n",
              "    </tr>\n",
              "    <tr>\n",
              "      <th>1</th>\n",
              "      <td>5114</td>\n",
              "      <td>Fullmetal Alchemist: Brotherhood</td>\n",
              "      <td>Action</td>\n",
              "      <td>TV</td>\n",
              "      <td>64</td>\n",
              "      <td>9.26</td>\n",
              "      <td>793665</td>\n",
              "    </tr>\n",
              "  </tbody>\n",
              "</table>\n",
              "</div>"
            ],
            "text/plain": [
              "   anime_id                              name         genre   type  episodes  \\\n",
              "0     32281                    Kimi no Na wa.         Drama  Movie         1   \n",
              "0     32281                    Kimi no Na wa.       Romance  Movie         1   \n",
              "0     32281                    Kimi no Na wa.        School  Movie         1   \n",
              "0     32281                    Kimi no Na wa.  Supernatural  Movie         1   \n",
              "1      5114  Fullmetal Alchemist: Brotherhood        Action     TV        64   \n",
              "\n",
              "   rating  members  \n",
              "0    9.37   200630  \n",
              "0    9.37   200630  \n",
              "0    9.37   200630  \n",
              "0    9.37   200630  \n",
              "1    9.26   793665  "
            ]
          },
          "execution_count": 17,
          "metadata": {},
          "output_type": "execute_result"
        }
      ],
      "source": [
        "# Копирование исходного датасета (что бы иметь возможность обратиться к исходнику)\n",
        "df_genre_str = df_anime.copy()\n",
        "\n",
        "# Разделение жанров\n",
        "df_genre_str[\"genre\"] = df_genre_str[\"genre\"].str.split(\",\")\n",
        "df_genre_str = df_genre_str.explode(\"genre\")\n",
        "df_genre_str[\"genre\"] = df_genre_str[\"genre\"].str.strip()\n",
        "\n",
        "df_genre_str.head()"
      ]
    },
    {
      "cell_type": "markdown",
      "metadata": {
        "id": "jWjPfK8V3Fj3"
      },
      "source": [
        "## 5. Постройте доверительный интервал для среднего рейтинга по всем аниме (1 балл)"
      ]
    },
    {
      "cell_type": "code",
      "execution_count": 18,
      "metadata": {
        "colab": {
          "base_uri": "https://localhost:8080/"
        },
        "id": "NX4LvOLA3UrC",
        "outputId": "970f739f-b07a-43ec-d503-80a4958cdeb1"
      },
      "outputs": [
        {
          "name": "stdout",
          "output_type": "stream",
          "text": [
            "95%-ый доверительный интервал: [6.47, 6.51], ширина 0.04\n"
          ]
        }
      ],
      "source": [
        "data = df_anime[\"rating\"]\n",
        "\n",
        "# Вычисление среднего значения и стандартного отклонения\n",
        "sample_mean = np.mean(data)\n",
        "sample_std = np.std(data, ddof=1)\n",
        "n = len(data)\n",
        "alpha = 0.05\n",
        "\n",
        "# Вычисление доверительного интервала\n",
        "z_score = norm.ppf(1 - alpha / 2)\n",
        "margin_of_error = z_score * sample_std / np.sqrt(n)\n",
        "\n",
        "lower_bound = sample_mean - margin_of_error\n",
        "upper_bound = sample_mean + margin_of_error\n",
        "\n",
        "print(\n",
        "    f\"95%-ый доверительный интервал: [{lower_bound:.2f}, {upper_bound:.2f}], ширина {upper_bound - lower_bound:.2f}\"\n",
        ")"
      ]
    },
    {
      "cell_type": "markdown",
      "metadata": {
        "id": "dBlIsxYy3geL"
      },
      "source": [
        "## 6. Постройте доверительные интервалы для средних рейтингов по жанрам  (1 балл)"
      ]
    },
    {
      "cell_type": "code",
      "execution_count": 19,
      "metadata": {},
      "outputs": [],
      "source": [
        "genres = df_genre_str[\"genre\"].unique()[:-1]\n",
        "\n",
        "intervals = {}"
      ]
    },
    {
      "cell_type": "code",
      "execution_count": 20,
      "metadata": {},
      "outputs": [],
      "source": [
        "for gen in genres:\n",
        "    data_gen = df_genre_str[df_genre_str[\"genre\"] == gen]\n",
        "\n",
        "    data = data_gen[\"rating\"]\n",
        "\n",
        "    # Вычисление среднего значения и стандартного отклонения\n",
        "    sample_mean = np.mean(data)\n",
        "    sample_std = np.std(data, ddof=1)\n",
        "    n = len(data)\n",
        "    alpha = 0.05\n",
        "\n",
        "    # Вычисление доверительного интервала\n",
        "    z_score = norm.ppf(1 - alpha / 2)\n",
        "    margin_of_error = z_score * sample_std / np.sqrt(n)\n",
        "\n",
        "    lower_bound = sample_mean - margin_of_error\n",
        "    upper_bound = sample_mean + margin_of_error\n",
        "\n",
        "    intervals[gen] = [round(float(lower_bound), 2), round(float(upper_bound), 2)]"
      ]
    },
    {
      "cell_type": "code",
      "execution_count": 21,
      "metadata": {},
      "outputs": [
        {
          "name": "stdout",
          "output_type": "stream",
          "text": [
            "95%-ый доверительный интервал жанра Drama: [6.95, 7.03], ширина 0.08\n",
            "95%-ый доверительный интервал жанра Romance: [7.02, 7.11], ширина 0.09\n",
            "95%-ый доверительный интервал жанра School: [6.96, 7.07], ширина 0.11\n",
            "95%-ый доверительный интервал жанра Supernatural: [6.98, 7.1], ширина 0.12\n",
            "95%-ый доверительный интервал жанра Action: [6.77, 6.84], ширина 0.07\n",
            "95%-ый доверительный интервал жанра Adventure: [6.71, 6.78], ширина 0.07\n",
            "95%-ый доверительный интервал жанра Fantasy: [6.64, 6.71], ширина 0.07\n",
            "95%-ый доверительный интервал жанра Magic: [6.76, 6.88], ширина 0.12\n",
            "95%-ый доверительный интервал жанра Military: [6.93, 7.11], ширина 0.18\n",
            "95%-ый доверительный интервал жанра Shounen: [7.02, 7.1], ширина 0.08\n",
            "95%-ый доверительный интервал жанра Comedy: [6.59, 6.65], ширина 0.06\n",
            "95%-ый доверительный интервал жанра Historical: [6.69, 6.83], ширина 0.14\n",
            "95%-ый доверительный интервал жанра Parody: [6.44, 6.67], ширина 0.23\n",
            "95%-ый доверительный интервал жанра Samurai: [6.66, 7.03], ширина 0.37\n",
            "95%-ый доверительный интервал жанра Sci-Fi: [6.67, 6.75], ширина 0.08\n",
            "95%-ый доверительный интервал жанра Thriller: [7.15, 7.61], ширина 0.46\n",
            "95%-ый доверительный интервал жанра Sports: [6.71, 6.88], ширина 0.17\n",
            "95%-ый доверительный интервал жанра Super Power: [6.85, 7.03], ширина 0.18\n",
            "95%-ый доверительный интервал жанра Space: [6.57, 6.81], ширина 0.24\n",
            "95%-ый доверительный интервал жанра Slice of Life: [6.67, 6.79], ширина 0.12\n",
            "95%-ый доверительный интервал жанра Mecha: [6.59, 6.71], ширина 0.12\n",
            "95%-ый доверительный интервал жанра Music: [5.84, 5.99], ширина 0.15\n",
            "95%-ый доверительный интервал жанра Mystery: [7.18, 7.33], ширина 0.15\n",
            "95%-ый доверительный интервал жанра Seinen: [6.93, 7.09], ширина 0.16\n",
            "95%-ый доверительный интервал жанра Martial Arts: [6.74, 6.96], ширина 0.22\n",
            "95%-ый доверительный интервал жанра Vampire: [6.67, 7.09], ширина 0.42\n",
            "95%-ый доверительный интервал жанра Shoujo: [6.81, 6.94], ширина 0.13\n",
            "95%-ый доверительный интервал жанра Horror: [6.33, 6.58], ширина 0.25\n",
            "95%-ый доверительный интервал жанра Police: [7.04, 7.28], ширина 0.24\n",
            "95%-ый доверительный интервал жанра Psychological: [6.9, 7.2], ширина 0.30\n",
            "95%-ый доверительный интервал жанра Demons: [6.61, 6.89], ширина 0.28\n",
            "95%-ый доверительный интервал жанра Josei: [7.24, 7.65], ширина 0.41\n",
            "95%-ый доверительный интервал жанра Shounen Ai: [6.76, 7.17], ширина 0.41\n",
            "95%-ый доверительный интервал жанра Game: [6.69, 6.94], ширина 0.25\n",
            "95%-ый доверительный интервал жанра Dementia: [4.84, 5.14], ширина 0.30\n",
            "95%-ый доверительный интервал жанра Harem: [6.9, 7.09], ширина 0.19\n",
            "95%-ый доверительный интервал жанра Cars: [6.2, 6.74], ширина 0.54\n",
            "95%-ый доверительный интервал жанра Kids: [6.05, 6.15], ширина 0.10\n",
            "95%-ый доверительный интервал жанра Shoujo Ai: [7.04, 7.35], ширина 0.31\n"
          ]
        }
      ],
      "source": [
        "for key, value in intervals.items():\n",
        "    print(\n",
        "        f\"95%-ый доверительный интервал жанра {key}: {value}, ширина {value[1] - value[0]:.2f}\"\n",
        "    )"
      ]
    },
    {
      "cell_type": "markdown",
      "metadata": {
        "id": "kivd-c1H4Tgq"
      },
      "source": [
        "## 7. Постройте доверительные интервалы среднего рейтинга по типам аниме (1 балл)"
      ]
    },
    {
      "cell_type": "code",
      "execution_count": 22,
      "metadata": {},
      "outputs": [],
      "source": [
        "types = df_anime[\"type\"].unique()[:-1]\n",
        "\n",
        "intervals = {}"
      ]
    },
    {
      "cell_type": "code",
      "execution_count": 23,
      "metadata": {},
      "outputs": [],
      "source": [
        "for typ in types:\n",
        "    data_typ = df_anime[df_anime[\"type\"] == typ]\n",
        "\n",
        "    data = data_typ[\"rating\"]\n",
        "\n",
        "    # Вычисление среднего значения и стандартного отклонения\n",
        "    sample_mean = np.mean(data)\n",
        "    sample_std = np.std(data, ddof=1)\n",
        "    n = len(data)\n",
        "    alpha = 0.05\n",
        "\n",
        "    # Вычисление доверительного интервала\n",
        "    z_score = norm.ppf(1 - alpha / 2)\n",
        "    margin_of_error = z_score * sample_std / np.sqrt(n)\n",
        "\n",
        "    lower_bound = sample_mean - margin_of_error\n",
        "    upper_bound = sample_mean + margin_of_error\n",
        "\n",
        "    intervals[typ] = [round(float(lower_bound), 2), round(float(upper_bound), 2)]"
      ]
    },
    {
      "cell_type": "code",
      "execution_count": 24,
      "metadata": {},
      "outputs": [
        {
          "name": "stdout",
          "output_type": "stream",
          "text": [
            "95%-ый доверительный интервал типа Movie: [6.26, 6.36], ширина 0.10\n",
            "95%-ый доверительный интервал типа TV: [6.87, 6.93], ширина 0.06\n",
            "95%-ый доверительный интервал типа OVA: [6.43, 6.52], ширина 0.09\n",
            "95%-ый доверительный интервал типа Special: [6.48, 6.57], ширина 0.09\n",
            "95%-ый доверительный интервал типа Music: [5.5, 5.67], ширина 0.17\n",
            "95%-ый доверительный интервал типа ONA: [5.55, 5.72], ширина 0.17\n"
          ]
        }
      ],
      "source": [
        "for key, value in intervals.items():\n",
        "    print(\n",
        "        f\"95%-ый доверительный интервал типа {key}: {value}, ширина {value[1] - value[0]:.2f}\"\n",
        "    )"
      ]
    },
    {
      "cell_type": "markdown",
      "metadata": {
        "id": "Vvra__mx5VJF"
      },
      "source": [
        "## 8. По доверительным интервалам для episodes, rating и members оцените количество аномалий (2 балла)"
      ]
    },
    {
      "cell_type": "code",
      "execution_count": 25,
      "metadata": {
        "id": "ZgkUWe2Q5itg"
      },
      "outputs": [],
      "source": [
        "data_episodes = df_anime[\"episodes\"]\n",
        "data_rating = df_anime[\"rating\"]\n",
        "data_members = df_anime[\"members\"]"
      ]
    },
    {
      "cell_type": "code",
      "execution_count": 26,
      "metadata": {},
      "outputs": [],
      "source": [
        "def conf_interval(df, alpha=0.05):\n",
        "    # Вычисление среднего значения и стандартного отклонения\n",
        "    sample_mean = np.mean(df)\n",
        "    sample_std = np.std(df, ddof=1)\n",
        "    n = len(df)\n",
        "\n",
        "    # Вычисление доверительного интервала\n",
        "    z_score = norm.ppf(1 - alpha / 2)\n",
        "    margin_of_error = z_score * sample_std / np.sqrt(n)\n",
        "\n",
        "    lower_bound = sample_mean - margin_of_error\n",
        "    upper_bound = sample_mean + margin_of_error\n",
        "\n",
        "    return [lower_bound, upper_bound]"
      ]
    },
    {
      "cell_type": "code",
      "execution_count": 27,
      "metadata": {},
      "outputs": [
        {
          "name": "stdout",
          "output_type": "stream",
          "text": [
            "95%-ый доверительный интервал episodes: [12.50, 14.41], ширина 1.91\n",
            "95%-ый доверительный интервал rating: [6.47, 6.51], ширина 0.04\n",
            "95%-ый доверительный интервал members: [17396.38, 19561.48], ширина 2165.10\n"
          ]
        }
      ],
      "source": [
        "interval_episodes = conf_interval(data_episodes)\n",
        "interval_rating = conf_interval(data_rating)\n",
        "interval_members = conf_interval(data_members)\n",
        "\n",
        "print(\n",
        "    f\"95%-ый доверительный интервал episodes: [{interval_episodes[0]:.2f}, {interval_episodes[1]:.2f}], ширина {interval_episodes[1] - interval_episodes[0]:.2f}\"\n",
        ")\n",
        "print(\n",
        "    f\"95%-ый доверительный интервал rating: [{interval_rating[0]:.2f}, {interval_rating[1]:.2f}], ширина {interval_rating[1] - interval_rating[0]:.2f}\"\n",
        ")\n",
        "print(\n",
        "    f\"95%-ый доверительный интервал members: [{interval_members[0]:.2f}, {interval_members[1]:.2f}], ширина {interval_members[1] - interval_members[0]:.2f}\"\n",
        ")"
      ]
    },
    {
      "cell_type": "code",
      "execution_count": 28,
      "metadata": {},
      "outputs": [
        {
          "name": "stdout",
          "output_type": "stream",
          "text": [
            "Количество аномалий в столбце episodes: 9923\n",
            "Количество аномалий в столбце rating: 10085\n",
            "Количество аномалий в столбце members: 10376\n"
          ]
        }
      ],
      "source": [
        "# Фильтрация и подсчет аномальных значений\n",
        "anomalies_episodes = pd.concat(\n",
        "    [\n",
        "        df_anime[df_anime[\"episodes\"] < interval_episodes[0]],\n",
        "        df_anime[df_anime[\"episodes\"] > interval_episodes[1]],\n",
        "    ],\n",
        "    axis=0,\n",
        ")\n",
        "anomalies_rating = pd.concat(\n",
        "    [\n",
        "        df_anime[df_anime[\"rating\"] < interval_rating[0]],\n",
        "        df_anime[df_anime[\"rating\"] > interval_rating[1]],\n",
        "    ],\n",
        "    axis=0,\n",
        ")\n",
        "anomalies_members = pd.concat(\n",
        "    [\n",
        "        df_anime[df_anime[\"members\"] < interval_members[0]],\n",
        "        df_anime[df_anime[\"members\"] > interval_members[1]],\n",
        "    ],\n",
        "    axis=0,\n",
        ")\n",
        "\n",
        "print(f\"Количество аномалий в столбце episodes: {anomalies_episodes.shape[0]}\")\n",
        "print(f\"Количество аномалий в столбце rating: {anomalies_rating.shape[0]}\")\n",
        "print(f\"Количество аномалий в столбце members: {anomalies_members.shape[0]}\")\n"
      ]
    },
    {
      "cell_type": "code",
      "execution_count": 29,
      "metadata": {},
      "outputs": [
        {
          "name": "stdout",
          "output_type": "stream",
          "text": [
            "Всего аномалий: 10376\n"
          ]
        }
      ],
      "source": [
        "anomalies_all = set(anomalies_episodes.anime_id)\n",
        "anomalies_all = set(anomalies_rating.anime_id)\n",
        "anomalies_all = set(anomalies_members.anime_id)\n",
        "\n",
        "print(f\"Всего аномалий: {len(anomalies_all)}\")"
      ]
    },
    {
      "cell_type": "markdown",
      "metadata": {
        "id": "3K6VerUhxlFJ"
      },
      "source": [
        "## Задания 9-15. Продуктовые метрики (16 баллов всего)"
      ]
    },
    {
      "cell_type": "code",
      "execution_count": 30,
      "metadata": {
        "colab": {
          "base_uri": "https://localhost:8080/"
        },
        "id": "UG1sPvD2wK4N",
        "outputId": "c0de98e1-7970-4482-aaf9-2407bbaf48e5"
      },
      "outputs": [
        {
          "name": "stdout",
          "output_type": "stream",
          "text": [
            "  % Total    % Received % Xferd  Average Speed   Time    Time     Time  Current\n",
            "                                 Dload  Upload   Total   Spent    Left  Speed\n",
            "100 6410k  100 6410k    0     0  7391k      0 --:--:-- --:--:-- --:--:-- 7393k\n"
          ]
        }
      ],
      "source": [
        "!curl -O https://raw.githubusercontent.com/alina-zhu/datasets/refs/heads/master/customer_shopping_data.csv >> customer_shopping_data.csv"
      ]
    },
    {
      "cell_type": "markdown",
      "metadata": {
        "id": "8S7YI0VMwj1d"
      },
      "source": [
        "Описание датафрейма:\n",
        "- `invoice_no` - номер чека\n",
        "- `customer_id` - id клиента\n",
        "- `gender` - пол клиента\n",
        "- `age` - возраст клиента\n",
        "- `category` - категория товара\n",
        "- `quantity` - количество единиц товаров в чеке\n",
        "- `price` - цена товара\n",
        "- `payment_method` - метод оплаты\n",
        "- `invoice_date` - дата покупки\n"
      ]
    },
    {
      "cell_type": "code",
      "execution_count": 31,
      "metadata": {
        "colab": {
          "base_uri": "https://localhost:8080/"
        },
        "id": "c85Z1d-kwcJe",
        "outputId": "9a9c090f-0ecd-40e7-946f-5b02e2014af8"
      },
      "outputs": [
        {
          "name": "stdout",
          "output_type": "stream",
          "text": [
            "<class 'pandas.core.frame.DataFrame'>\n",
            "RangeIndex: 99457 entries, 0 to 99456\n",
            "Data columns (total 9 columns):\n",
            " #   Column          Non-Null Count  Dtype  \n",
            "---  ------          --------------  -----  \n",
            " 0   invoice_no      99457 non-null  object \n",
            " 1   customer_id     99457 non-null  object \n",
            " 2   gender          99457 non-null  object \n",
            " 3   age             99457 non-null  int64  \n",
            " 4   category        99457 non-null  object \n",
            " 5   quantity        99457 non-null  int64  \n",
            " 6   price           99457 non-null  float64\n",
            " 7   payment_method  99457 non-null  object \n",
            " 8   invoice_date    99457 non-null  object \n",
            "dtypes: float64(1), int64(2), object(6)\n",
            "memory usage: 6.8+ MB\n"
          ]
        }
      ],
      "source": [
        "df = pd.read_csv(\"customer_shopping_data.csv\")\n",
        "df.info()"
      ]
    },
    {
      "cell_type": "code",
      "execution_count": 32,
      "metadata": {
        "colab": {
          "base_uri": "https://localhost:8080/",
          "height": 206
        },
        "id": "WU-CCm0Fj6eX",
        "outputId": "f313c02c-8fda-4038-a23b-0c88cdd99665"
      },
      "outputs": [
        {
          "data": {
            "text/html": [
              "<div>\n",
              "<style scoped>\n",
              "    .dataframe tbody tr th:only-of-type {\n",
              "        vertical-align: middle;\n",
              "    }\n",
              "\n",
              "    .dataframe tbody tr th {\n",
              "        vertical-align: top;\n",
              "    }\n",
              "\n",
              "    .dataframe thead th {\n",
              "        text-align: right;\n",
              "    }\n",
              "</style>\n",
              "<table border=\"1\" class=\"dataframe\">\n",
              "  <thead>\n",
              "    <tr style=\"text-align: right;\">\n",
              "      <th></th>\n",
              "      <th>invoice_no</th>\n",
              "      <th>customer_id</th>\n",
              "      <th>gender</th>\n",
              "      <th>age</th>\n",
              "      <th>category</th>\n",
              "      <th>quantity</th>\n",
              "      <th>price</th>\n",
              "      <th>payment_method</th>\n",
              "      <th>invoice_date</th>\n",
              "    </tr>\n",
              "  </thead>\n",
              "  <tbody>\n",
              "    <tr>\n",
              "      <th>0</th>\n",
              "      <td>I138884</td>\n",
              "      <td>upeszhn26j</td>\n",
              "      <td>Female</td>\n",
              "      <td>28</td>\n",
              "      <td>Clothing</td>\n",
              "      <td>5</td>\n",
              "      <td>1500.40</td>\n",
              "      <td>Credit Card</td>\n",
              "      <td>2022-08-05</td>\n",
              "    </tr>\n",
              "    <tr>\n",
              "      <th>1</th>\n",
              "      <td>I317333</td>\n",
              "      <td>nyyoavbmge</td>\n",
              "      <td>Male</td>\n",
              "      <td>21</td>\n",
              "      <td>Shoes</td>\n",
              "      <td>3</td>\n",
              "      <td>1800.51</td>\n",
              "      <td>Debit Card</td>\n",
              "      <td>2021-12-12</td>\n",
              "    </tr>\n",
              "    <tr>\n",
              "      <th>2</th>\n",
              "      <td>I127801</td>\n",
              "      <td>iksbmqrtj0</td>\n",
              "      <td>Male</td>\n",
              "      <td>20</td>\n",
              "      <td>Clothing</td>\n",
              "      <td>1</td>\n",
              "      <td>300.08</td>\n",
              "      <td>Cash</td>\n",
              "      <td>2021-11-09</td>\n",
              "    </tr>\n",
              "    <tr>\n",
              "      <th>3</th>\n",
              "      <td>I173702</td>\n",
              "      <td>zfhc107gzu</td>\n",
              "      <td>Female</td>\n",
              "      <td>66</td>\n",
              "      <td>Shoes</td>\n",
              "      <td>5</td>\n",
              "      <td>3000.85</td>\n",
              "      <td>Credit Card</td>\n",
              "      <td>2021-05-16</td>\n",
              "    </tr>\n",
              "    <tr>\n",
              "      <th>4</th>\n",
              "      <td>I337046</td>\n",
              "      <td>diwrquryyt</td>\n",
              "      <td>Female</td>\n",
              "      <td>53</td>\n",
              "      <td>Books</td>\n",
              "      <td>4</td>\n",
              "      <td>60.60</td>\n",
              "      <td>Cash</td>\n",
              "      <td>2021-10-24</td>\n",
              "    </tr>\n",
              "  </tbody>\n",
              "</table>\n",
              "</div>"
            ],
            "text/plain": [
              "  invoice_no customer_id  gender  age  category  quantity    price  \\\n",
              "0    I138884  upeszhn26j  Female   28  Clothing         5  1500.40   \n",
              "1    I317333  nyyoavbmge    Male   21     Shoes         3  1800.51   \n",
              "2    I127801  iksbmqrtj0    Male   20  Clothing         1   300.08   \n",
              "3    I173702  zfhc107gzu  Female   66     Shoes         5  3000.85   \n",
              "4    I337046  diwrquryyt  Female   53     Books         4    60.60   \n",
              "\n",
              "  payment_method invoice_date  \n",
              "0    Credit Card   2022-08-05  \n",
              "1     Debit Card   2021-12-12  \n",
              "2           Cash   2021-11-09  \n",
              "3    Credit Card   2021-05-16  \n",
              "4           Cash   2021-10-24  "
            ]
          },
          "execution_count": 32,
          "metadata": {},
          "output_type": "execute_result"
        }
      ],
      "source": [
        "df.head()"
      ]
    },
    {
      "cell_type": "code",
      "execution_count": 33,
      "metadata": {},
      "outputs": [
        {
          "data": {
            "text/html": [
              "<div>\n",
              "<style scoped>\n",
              "    .dataframe tbody tr th:only-of-type {\n",
              "        vertical-align: middle;\n",
              "    }\n",
              "\n",
              "    .dataframe tbody tr th {\n",
              "        vertical-align: top;\n",
              "    }\n",
              "\n",
              "    .dataframe thead th {\n",
              "        text-align: right;\n",
              "    }\n",
              "</style>\n",
              "<table border=\"1\" class=\"dataframe\">\n",
              "  <thead>\n",
              "    <tr style=\"text-align: right;\">\n",
              "      <th></th>\n",
              "      <th>age</th>\n",
              "      <th>quantity</th>\n",
              "      <th>price</th>\n",
              "    </tr>\n",
              "  </thead>\n",
              "  <tbody>\n",
              "    <tr>\n",
              "      <th>count</th>\n",
              "      <td>99457.000000</td>\n",
              "      <td>99457.000000</td>\n",
              "      <td>99457.000000</td>\n",
              "    </tr>\n",
              "    <tr>\n",
              "      <th>mean</th>\n",
              "      <td>43.427089</td>\n",
              "      <td>3.003429</td>\n",
              "      <td>689.256321</td>\n",
              "    </tr>\n",
              "    <tr>\n",
              "      <th>std</th>\n",
              "      <td>14.990054</td>\n",
              "      <td>1.413025</td>\n",
              "      <td>941.184567</td>\n",
              "    </tr>\n",
              "    <tr>\n",
              "      <th>min</th>\n",
              "      <td>18.000000</td>\n",
              "      <td>1.000000</td>\n",
              "      <td>5.230000</td>\n",
              "    </tr>\n",
              "    <tr>\n",
              "      <th>25%</th>\n",
              "      <td>30.000000</td>\n",
              "      <td>2.000000</td>\n",
              "      <td>45.450000</td>\n",
              "    </tr>\n",
              "    <tr>\n",
              "      <th>50%</th>\n",
              "      <td>43.000000</td>\n",
              "      <td>3.000000</td>\n",
              "      <td>203.300000</td>\n",
              "    </tr>\n",
              "    <tr>\n",
              "      <th>75%</th>\n",
              "      <td>56.000000</td>\n",
              "      <td>4.000000</td>\n",
              "      <td>1200.320000</td>\n",
              "    </tr>\n",
              "    <tr>\n",
              "      <th>max</th>\n",
              "      <td>69.000000</td>\n",
              "      <td>5.000000</td>\n",
              "      <td>5250.000000</td>\n",
              "    </tr>\n",
              "  </tbody>\n",
              "</table>\n",
              "</div>"
            ],
            "text/plain": [
              "                age      quantity         price\n",
              "count  99457.000000  99457.000000  99457.000000\n",
              "mean      43.427089      3.003429    689.256321\n",
              "std       14.990054      1.413025    941.184567\n",
              "min       18.000000      1.000000      5.230000\n",
              "25%       30.000000      2.000000     45.450000\n",
              "50%       43.000000      3.000000    203.300000\n",
              "75%       56.000000      4.000000   1200.320000\n",
              "max       69.000000      5.000000   5250.000000"
            ]
          },
          "execution_count": 33,
          "metadata": {},
          "output_type": "execute_result"
        }
      ],
      "source": [
        "df.describe()"
      ]
    },
    {
      "cell_type": "code",
      "execution_count": 34,
      "metadata": {},
      "outputs": [
        {
          "data": {
            "text/html": [
              "<div>\n",
              "<style scoped>\n",
              "    .dataframe tbody tr th:only-of-type {\n",
              "        vertical-align: middle;\n",
              "    }\n",
              "\n",
              "    .dataframe tbody tr th {\n",
              "        vertical-align: top;\n",
              "    }\n",
              "\n",
              "    .dataframe thead th {\n",
              "        text-align: right;\n",
              "    }\n",
              "</style>\n",
              "<table border=\"1\" class=\"dataframe\">\n",
              "  <thead>\n",
              "    <tr style=\"text-align: right;\">\n",
              "      <th></th>\n",
              "      <th>invoice_no</th>\n",
              "      <th>customer_id</th>\n",
              "      <th>gender</th>\n",
              "      <th>category</th>\n",
              "      <th>payment_method</th>\n",
              "      <th>invoice_date</th>\n",
              "    </tr>\n",
              "  </thead>\n",
              "  <tbody>\n",
              "    <tr>\n",
              "      <th>count</th>\n",
              "      <td>99457</td>\n",
              "      <td>99457</td>\n",
              "      <td>99457</td>\n",
              "      <td>99457</td>\n",
              "      <td>99457</td>\n",
              "      <td>99457</td>\n",
              "    </tr>\n",
              "    <tr>\n",
              "      <th>unique</th>\n",
              "      <td>99457</td>\n",
              "      <td>47168</td>\n",
              "      <td>2</td>\n",
              "      <td>8</td>\n",
              "      <td>3</td>\n",
              "      <td>797</td>\n",
              "    </tr>\n",
              "    <tr>\n",
              "      <th>top</th>\n",
              "      <td>I232867</td>\n",
              "      <td>q0recywbmf</td>\n",
              "      <td>Female</td>\n",
              "      <td>Clothing</td>\n",
              "      <td>Cash</td>\n",
              "      <td>2021-11-24</td>\n",
              "    </tr>\n",
              "    <tr>\n",
              "      <th>freq</th>\n",
              "      <td>1</td>\n",
              "      <td>9</td>\n",
              "      <td>59482</td>\n",
              "      <td>34487</td>\n",
              "      <td>44447</td>\n",
              "      <td>159</td>\n",
              "    </tr>\n",
              "  </tbody>\n",
              "</table>\n",
              "</div>"
            ],
            "text/plain": [
              "       invoice_no customer_id  gender  category payment_method invoice_date\n",
              "count       99457       99457   99457     99457          99457        99457\n",
              "unique      99457       47168       2         8              3          797\n",
              "top       I232867  q0recywbmf  Female  Clothing           Cash   2021-11-24\n",
              "freq            1           9   59482     34487          44447          159"
            ]
          },
          "execution_count": 34,
          "metadata": {},
          "output_type": "execute_result"
        }
      ],
      "source": [
        "df.describe(include=object)"
      ]
    },
    {
      "cell_type": "code",
      "execution_count": 35,
      "metadata": {},
      "outputs": [
        {
          "data": {
            "text/plain": [
              "invoice_no        0\n",
              "customer_id       0\n",
              "gender            0\n",
              "age               0\n",
              "category          0\n",
              "quantity          0\n",
              "price             0\n",
              "payment_method    0\n",
              "invoice_date      0\n",
              "dtype: int64"
            ]
          },
          "execution_count": 35,
          "metadata": {},
          "output_type": "execute_result"
        }
      ],
      "source": [
        "df.isna().sum()"
      ]
    },
    {
      "cell_type": "code",
      "execution_count": 36,
      "metadata": {},
      "outputs": [
        {
          "data": {
            "text/html": [
              "<div>\n",
              "<style scoped>\n",
              "    .dataframe tbody tr th:only-of-type {\n",
              "        vertical-align: middle;\n",
              "    }\n",
              "\n",
              "    .dataframe tbody tr th {\n",
              "        vertical-align: top;\n",
              "    }\n",
              "\n",
              "    .dataframe thead th {\n",
              "        text-align: right;\n",
              "    }\n",
              "</style>\n",
              "<table border=\"1\" class=\"dataframe\">\n",
              "  <thead>\n",
              "    <tr style=\"text-align: right;\">\n",
              "      <th></th>\n",
              "      <th>invoice_no</th>\n",
              "      <th>customer_id</th>\n",
              "      <th>gender</th>\n",
              "      <th>age</th>\n",
              "      <th>category</th>\n",
              "      <th>quantity</th>\n",
              "      <th>price</th>\n",
              "      <th>payment_method</th>\n",
              "      <th>invoice_date</th>\n",
              "      <th>sale</th>\n",
              "    </tr>\n",
              "  </thead>\n",
              "  <tbody>\n",
              "    <tr>\n",
              "      <th>0</th>\n",
              "      <td>I138884</td>\n",
              "      <td>upeszhn26j</td>\n",
              "      <td>Female</td>\n",
              "      <td>28</td>\n",
              "      <td>Clothing</td>\n",
              "      <td>5</td>\n",
              "      <td>1500.40</td>\n",
              "      <td>Credit Card</td>\n",
              "      <td>2022-08-05</td>\n",
              "      <td>7502.00</td>\n",
              "    </tr>\n",
              "    <tr>\n",
              "      <th>1</th>\n",
              "      <td>I317333</td>\n",
              "      <td>nyyoavbmge</td>\n",
              "      <td>Male</td>\n",
              "      <td>21</td>\n",
              "      <td>Shoes</td>\n",
              "      <td>3</td>\n",
              "      <td>1800.51</td>\n",
              "      <td>Debit Card</td>\n",
              "      <td>2021-12-12</td>\n",
              "      <td>5401.53</td>\n",
              "    </tr>\n",
              "    <tr>\n",
              "      <th>2</th>\n",
              "      <td>I127801</td>\n",
              "      <td>iksbmqrtj0</td>\n",
              "      <td>Male</td>\n",
              "      <td>20</td>\n",
              "      <td>Clothing</td>\n",
              "      <td>1</td>\n",
              "      <td>300.08</td>\n",
              "      <td>Cash</td>\n",
              "      <td>2021-11-09</td>\n",
              "      <td>300.08</td>\n",
              "    </tr>\n",
              "    <tr>\n",
              "      <th>3</th>\n",
              "      <td>I173702</td>\n",
              "      <td>zfhc107gzu</td>\n",
              "      <td>Female</td>\n",
              "      <td>66</td>\n",
              "      <td>Shoes</td>\n",
              "      <td>5</td>\n",
              "      <td>3000.85</td>\n",
              "      <td>Credit Card</td>\n",
              "      <td>2021-05-16</td>\n",
              "      <td>15004.25</td>\n",
              "    </tr>\n",
              "    <tr>\n",
              "      <th>4</th>\n",
              "      <td>I337046</td>\n",
              "      <td>diwrquryyt</td>\n",
              "      <td>Female</td>\n",
              "      <td>53</td>\n",
              "      <td>Books</td>\n",
              "      <td>4</td>\n",
              "      <td>60.60</td>\n",
              "      <td>Cash</td>\n",
              "      <td>2021-10-24</td>\n",
              "      <td>242.40</td>\n",
              "    </tr>\n",
              "  </tbody>\n",
              "</table>\n",
              "</div>"
            ],
            "text/plain": [
              "  invoice_no customer_id  gender  age  category  quantity    price  \\\n",
              "0    I138884  upeszhn26j  Female   28  Clothing         5  1500.40   \n",
              "1    I317333  nyyoavbmge    Male   21     Shoes         3  1800.51   \n",
              "2    I127801  iksbmqrtj0    Male   20  Clothing         1   300.08   \n",
              "3    I173702  zfhc107gzu  Female   66     Shoes         5  3000.85   \n",
              "4    I337046  diwrquryyt  Female   53     Books         4    60.60   \n",
              "\n",
              "  payment_method invoice_date      sale  \n",
              "0    Credit Card   2022-08-05   7502.00  \n",
              "1     Debit Card   2021-12-12   5401.53  \n",
              "2           Cash   2021-11-09    300.08  \n",
              "3    Credit Card   2021-05-16  15004.25  \n",
              "4           Cash   2021-10-24    242.40  "
            ]
          },
          "execution_count": 36,
          "metadata": {},
          "output_type": "execute_result"
        }
      ],
      "source": [
        "df[\"sale\"] = df[\"quantity\"] * df[\"price\"]\n",
        "\n",
        "df.head()"
      ]
    },
    {
      "cell_type": "code",
      "execution_count": 37,
      "metadata": {},
      "outputs": [
        {
          "data": {
            "text/plain": [
              "invoice_no                object\n",
              "customer_id               object\n",
              "gender                    object\n",
              "age                        int64\n",
              "category                  object\n",
              "quantity                   int64\n",
              "price                    float64\n",
              "payment_method            object\n",
              "invoice_date      datetime64[ns]\n",
              "sale                     float64\n",
              "day_month                  int32\n",
              "month                     object\n",
              "year                       int32\n",
              "dtype: object"
            ]
          },
          "execution_count": 37,
          "metadata": {},
          "output_type": "execute_result"
        }
      ],
      "source": [
        "df[\"invoice_date\"] = pd.to_datetime(df[\"invoice_date\"])\n",
        "\n",
        "df[\"day_month\"] = df[\"invoice_date\"].dt.month\n",
        "df[\"month\"] = df[\"invoice_date\"].dt.month_name()\n",
        "df[\"year\"] = df[\"invoice_date\"].dt.year\n",
        "\n",
        "df.dtypes"
      ]
    },
    {
      "cell_type": "code",
      "execution_count": 38,
      "metadata": {},
      "outputs": [
        {
          "data": {
            "text/html": [
              "<div>\n",
              "<style scoped>\n",
              "    .dataframe tbody tr th:only-of-type {\n",
              "        vertical-align: middle;\n",
              "    }\n",
              "\n",
              "    .dataframe tbody tr th {\n",
              "        vertical-align: top;\n",
              "    }\n",
              "\n",
              "    .dataframe thead th {\n",
              "        text-align: right;\n",
              "    }\n",
              "</style>\n",
              "<table border=\"1\" class=\"dataframe\">\n",
              "  <thead>\n",
              "    <tr style=\"text-align: right;\">\n",
              "      <th></th>\n",
              "      <th>invoice_no</th>\n",
              "      <th>customer_id</th>\n",
              "      <th>gender</th>\n",
              "      <th>age</th>\n",
              "      <th>category</th>\n",
              "      <th>quantity</th>\n",
              "      <th>price</th>\n",
              "      <th>payment_method</th>\n",
              "      <th>invoice_date</th>\n",
              "      <th>sale</th>\n",
              "      <th>day_month</th>\n",
              "      <th>month</th>\n",
              "      <th>year</th>\n",
              "    </tr>\n",
              "  </thead>\n",
              "  <tbody>\n",
              "    <tr>\n",
              "      <th>0</th>\n",
              "      <td>I138884</td>\n",
              "      <td>upeszhn26j</td>\n",
              "      <td>Female</td>\n",
              "      <td>28</td>\n",
              "      <td>Clothing</td>\n",
              "      <td>5</td>\n",
              "      <td>1500.40</td>\n",
              "      <td>Credit Card</td>\n",
              "      <td>2022-08-05</td>\n",
              "      <td>7502.00</td>\n",
              "      <td>8</td>\n",
              "      <td>August</td>\n",
              "      <td>2022</td>\n",
              "    </tr>\n",
              "    <tr>\n",
              "      <th>1</th>\n",
              "      <td>I317333</td>\n",
              "      <td>nyyoavbmge</td>\n",
              "      <td>Male</td>\n",
              "      <td>21</td>\n",
              "      <td>Shoes</td>\n",
              "      <td>3</td>\n",
              "      <td>1800.51</td>\n",
              "      <td>Debit Card</td>\n",
              "      <td>2021-12-12</td>\n",
              "      <td>5401.53</td>\n",
              "      <td>12</td>\n",
              "      <td>December</td>\n",
              "      <td>2021</td>\n",
              "    </tr>\n",
              "    <tr>\n",
              "      <th>2</th>\n",
              "      <td>I127801</td>\n",
              "      <td>iksbmqrtj0</td>\n",
              "      <td>Male</td>\n",
              "      <td>20</td>\n",
              "      <td>Clothing</td>\n",
              "      <td>1</td>\n",
              "      <td>300.08</td>\n",
              "      <td>Cash</td>\n",
              "      <td>2021-11-09</td>\n",
              "      <td>300.08</td>\n",
              "      <td>11</td>\n",
              "      <td>November</td>\n",
              "      <td>2021</td>\n",
              "    </tr>\n",
              "    <tr>\n",
              "      <th>3</th>\n",
              "      <td>I173702</td>\n",
              "      <td>zfhc107gzu</td>\n",
              "      <td>Female</td>\n",
              "      <td>66</td>\n",
              "      <td>Shoes</td>\n",
              "      <td>5</td>\n",
              "      <td>3000.85</td>\n",
              "      <td>Credit Card</td>\n",
              "      <td>2021-05-16</td>\n",
              "      <td>15004.25</td>\n",
              "      <td>5</td>\n",
              "      <td>May</td>\n",
              "      <td>2021</td>\n",
              "    </tr>\n",
              "    <tr>\n",
              "      <th>4</th>\n",
              "      <td>I337046</td>\n",
              "      <td>diwrquryyt</td>\n",
              "      <td>Female</td>\n",
              "      <td>53</td>\n",
              "      <td>Books</td>\n",
              "      <td>4</td>\n",
              "      <td>60.60</td>\n",
              "      <td>Cash</td>\n",
              "      <td>2021-10-24</td>\n",
              "      <td>242.40</td>\n",
              "      <td>10</td>\n",
              "      <td>October</td>\n",
              "      <td>2021</td>\n",
              "    </tr>\n",
              "    <tr>\n",
              "      <th>...</th>\n",
              "      <td>...</td>\n",
              "      <td>...</td>\n",
              "      <td>...</td>\n",
              "      <td>...</td>\n",
              "      <td>...</td>\n",
              "      <td>...</td>\n",
              "      <td>...</td>\n",
              "      <td>...</td>\n",
              "      <td>...</td>\n",
              "      <td>...</td>\n",
              "      <td>...</td>\n",
              "      <td>...</td>\n",
              "      <td>...</td>\n",
              "    </tr>\n",
              "    <tr>\n",
              "      <th>99452</th>\n",
              "      <td>I219422</td>\n",
              "      <td>s9fvzvombe</td>\n",
              "      <td>Female</td>\n",
              "      <td>45</td>\n",
              "      <td>Souvenir</td>\n",
              "      <td>5</td>\n",
              "      <td>58.65</td>\n",
              "      <td>Credit Card</td>\n",
              "      <td>2022-09-21</td>\n",
              "      <td>293.25</td>\n",
              "      <td>9</td>\n",
              "      <td>September</td>\n",
              "      <td>2022</td>\n",
              "    </tr>\n",
              "    <tr>\n",
              "      <th>99453</th>\n",
              "      <td>I325143</td>\n",
              "      <td>h8pg4mgvyq</td>\n",
              "      <td>Male</td>\n",
              "      <td>27</td>\n",
              "      <td>Food &amp; Beverage</td>\n",
              "      <td>2</td>\n",
              "      <td>10.46</td>\n",
              "      <td>Cash</td>\n",
              "      <td>2021-09-22</td>\n",
              "      <td>20.92</td>\n",
              "      <td>9</td>\n",
              "      <td>September</td>\n",
              "      <td>2021</td>\n",
              "    </tr>\n",
              "    <tr>\n",
              "      <th>99454</th>\n",
              "      <td>I824010</td>\n",
              "      <td>z5earuymaj</td>\n",
              "      <td>Male</td>\n",
              "      <td>63</td>\n",
              "      <td>Food &amp; Beverage</td>\n",
              "      <td>2</td>\n",
              "      <td>10.46</td>\n",
              "      <td>Debit Card</td>\n",
              "      <td>2021-03-28</td>\n",
              "      <td>20.92</td>\n",
              "      <td>3</td>\n",
              "      <td>March</td>\n",
              "      <td>2021</td>\n",
              "    </tr>\n",
              "    <tr>\n",
              "      <th>99455</th>\n",
              "      <td>I702964</td>\n",
              "      <td>lm6xt09upp</td>\n",
              "      <td>Male</td>\n",
              "      <td>56</td>\n",
              "      <td>Technology</td>\n",
              "      <td>4</td>\n",
              "      <td>4200.00</td>\n",
              "      <td>Cash</td>\n",
              "      <td>2021-03-16</td>\n",
              "      <td>16800.00</td>\n",
              "      <td>3</td>\n",
              "      <td>March</td>\n",
              "      <td>2021</td>\n",
              "    </tr>\n",
              "    <tr>\n",
              "      <th>99456</th>\n",
              "      <td>I232867</td>\n",
              "      <td>0zonipmoym</td>\n",
              "      <td>Female</td>\n",
              "      <td>36</td>\n",
              "      <td>Souvenir</td>\n",
              "      <td>3</td>\n",
              "      <td>35.19</td>\n",
              "      <td>Credit Card</td>\n",
              "      <td>2022-10-15</td>\n",
              "      <td>105.57</td>\n",
              "      <td>10</td>\n",
              "      <td>October</td>\n",
              "      <td>2022</td>\n",
              "    </tr>\n",
              "  </tbody>\n",
              "</table>\n",
              "<p>99457 rows × 13 columns</p>\n",
              "</div>"
            ],
            "text/plain": [
              "      invoice_no customer_id  gender  age         category  quantity    price  \\\n",
              "0        I138884  upeszhn26j  Female   28         Clothing         5  1500.40   \n",
              "1        I317333  nyyoavbmge    Male   21            Shoes         3  1800.51   \n",
              "2        I127801  iksbmqrtj0    Male   20         Clothing         1   300.08   \n",
              "3        I173702  zfhc107gzu  Female   66            Shoes         5  3000.85   \n",
              "4        I337046  diwrquryyt  Female   53            Books         4    60.60   \n",
              "...          ...         ...     ...  ...              ...       ...      ...   \n",
              "99452    I219422  s9fvzvombe  Female   45         Souvenir         5    58.65   \n",
              "99453    I325143  h8pg4mgvyq    Male   27  Food & Beverage         2    10.46   \n",
              "99454    I824010  z5earuymaj    Male   63  Food & Beverage         2    10.46   \n",
              "99455    I702964  lm6xt09upp    Male   56       Technology         4  4200.00   \n",
              "99456    I232867  0zonipmoym  Female   36         Souvenir         3    35.19   \n",
              "\n",
              "      payment_method invoice_date      sale  day_month      month  year  \n",
              "0        Credit Card   2022-08-05   7502.00          8     August  2022  \n",
              "1         Debit Card   2021-12-12   5401.53         12   December  2021  \n",
              "2               Cash   2021-11-09    300.08         11   November  2021  \n",
              "3        Credit Card   2021-05-16  15004.25          5        May  2021  \n",
              "4               Cash   2021-10-24    242.40         10    October  2021  \n",
              "...              ...          ...       ...        ...        ...   ...  \n",
              "99452    Credit Card   2022-09-21    293.25          9  September  2022  \n",
              "99453           Cash   2021-09-22     20.92          9  September  2021  \n",
              "99454     Debit Card   2021-03-28     20.92          3      March  2021  \n",
              "99455           Cash   2021-03-16  16800.00          3      March  2021  \n",
              "99456    Credit Card   2022-10-15    105.57         10    October  2022  \n",
              "\n",
              "[99457 rows x 13 columns]"
            ]
          },
          "execution_count": 38,
          "metadata": {},
          "output_type": "execute_result"
        }
      ],
      "source": [
        "df"
      ]
    },
    {
      "cell_type": "markdown",
      "metadata": {
        "id": "aJLfOpTcliKZ"
      },
      "source": [
        "## 9. Посчитайте доверительный интервал для среднего возраста покупателей (1 балл)"
      ]
    },
    {
      "cell_type": "code",
      "execution_count": 39,
      "metadata": {
        "id": "GT_5D_17lFur"
      },
      "outputs": [
        {
          "name": "stdout",
          "output_type": "stream",
          "text": [
            "95%-ый доверительный интервал: [43.33, 43.52], ширина 0.19\n"
          ]
        }
      ],
      "source": [
        "data = df[\"age\"]\n",
        "\n",
        "# Вычисление среднего значения и стандартного отклонения\n",
        "sample_mean = np.mean(data)\n",
        "sample_std = np.std(data, ddof=1)\n",
        "n = len(data)\n",
        "alpha = 0.05\n",
        "\n",
        "# Вычисление доверительного интервала\n",
        "z_score = norm.ppf(1 - alpha / 2)\n",
        "margin_of_error = z_score * sample_std / np.sqrt(n)\n",
        "\n",
        "lower_bound = sample_mean - margin_of_error\n",
        "upper_bound = sample_mean + margin_of_error\n",
        "\n",
        "print(\n",
        "    f\"95%-ый доверительный интервал: [{lower_bound:.2f}, {upper_bound:.2f}], ширина {upper_bound - lower_bound:.2f}\"\n",
        ")"
      ]
    },
    {
      "cell_type": "markdown",
      "metadata": {
        "id": "7dukOrIvl4bu"
      },
      "source": [
        "## 10. Посчитайте доверительные интервалы для среднего чека в каждой категории (1 балл)"
      ]
    },
    {
      "cell_type": "code",
      "execution_count": 37,
      "metadata": {
        "id": "ALaqe8XtmOMF"
      },
      "outputs": [],
      "source": [
        "# Подсчет среднего и стандартного отклонения чека по категории\n",
        "category_sale = df.groupby(\"category\")[\"sale\"].agg(\"mean\").reset_index()"
      ]
    },
    {
      "cell_type": "code",
      "execution_count": 38,
      "metadata": {},
      "outputs": [
        {
          "name": "stdout",
          "output_type": "stream",
          "text": [
            "95%-ый доверительный интервал: [-88.14, 5767.34], ширина 5855.48\n"
          ]
        }
      ],
      "source": [
        "data = category_sale[\"sale\"]\n",
        "\n",
        "# Вычисление среднего значения и стандартного отклонения\n",
        "sample_mean = np.mean(data)\n",
        "sample_std = np.std(data, ddof=1)\n",
        "n = len(data)\n",
        "alpha = 0.05\n",
        "\n",
        "# Вычисление доверительного интервала\n",
        "z_score = norm.ppf(1 - alpha / 2)\n",
        "margin_of_error = z_score * sample_std / np.sqrt(n)\n",
        "\n",
        "lower_bound = sample_mean - margin_of_error\n",
        "upper_bound = sample_mean + margin_of_error\n",
        "\n",
        "print(\n",
        "    f\"95%-ый доверительный интервал: [{lower_bound:.2f}, {upper_bound:.2f}], ширина {upper_bound - lower_bound:.2f}\"\n",
        ")"
      ]
    },
    {
      "cell_type": "markdown",
      "metadata": {
        "id": "kx1Z0IMVBglj"
      },
      "source": [
        "## 11. Посчитайте доверительные интервалы для среднего чека для каждого типа оплаты (1 балл)"
      ]
    },
    {
      "cell_type": "code",
      "execution_count": 39,
      "metadata": {
        "id": "DxYGM--ABq45"
      },
      "outputs": [],
      "source": [
        "# Подсчет среднего и стандартного отклонения чека по типу оплаты\n",
        "payment_method_sale = df.groupby(\"payment_method\")[\"sale\"].agg(\"mean\").reset_index()"
      ]
    },
    {
      "cell_type": "code",
      "execution_count": 40,
      "metadata": {},
      "outputs": [
        {
          "name": "stdout",
          "output_type": "stream",
          "text": [
            "95%-ый доверительный интервал: [2514.90, 2538.38], ширина 23.48\n"
          ]
        }
      ],
      "source": [
        "data = payment_method_sale[\"sale\"]\n",
        "\n",
        "# Вычисление среднего значения и стандартного отклонения\n",
        "sample_mean = np.mean(data)\n",
        "sample_std = np.std(data, ddof=1)\n",
        "n = len(data)\n",
        "alpha = 0.05\n",
        "\n",
        "# Вычисление доверительного интервала\n",
        "z_score = norm.ppf(1 - alpha / 2)\n",
        "margin_of_error = z_score * sample_std / np.sqrt(n)\n",
        "\n",
        "lower_bound = sample_mean - margin_of_error\n",
        "upper_bound = sample_mean + margin_of_error\n",
        "\n",
        "print(\n",
        "    f\"95%-ый доверительный интервал: [{lower_bound:.2f}, {upper_bound:.2f}], ширина {upper_bound - lower_bound:.2f}\"\n",
        ")"
      ]
    },
    {
      "cell_type": "markdown",
      "metadata": {
        "id": "xdzSIq2xmPu7"
      },
      "source": [
        "## 12. Посчитайте доверительный интервал для среднего количества позиций в чеке (1 балл)"
      ]
    },
    {
      "cell_type": "code",
      "execution_count": 41,
      "metadata": {
        "id": "bslZN8Fnmgh9"
      },
      "outputs": [
        {
          "name": "stdout",
          "output_type": "stream",
          "text": [
            "95%-ый доверительный интервал: [2.99, 3.01], ширина 0.02\n"
          ]
        }
      ],
      "source": [
        "data = df[\"quantity\"]\n",
        "\n",
        "# Вычисление среднего значения и стандартного отклонения\n",
        "sample_mean = np.mean(data)\n",
        "sample_std = np.std(data, ddof=1)\n",
        "n = len(data)\n",
        "alpha = 0.05\n",
        "\n",
        "# Вычисление доверительного интервала\n",
        "z_score = norm.ppf(1 - alpha / 2)\n",
        "margin_of_error = z_score * sample_std / np.sqrt(n)\n",
        "\n",
        "lower_bound = sample_mean - margin_of_error\n",
        "upper_bound = sample_mean + margin_of_error\n",
        "\n",
        "print(\n",
        "    f\"95%-ый доверительный интервал: [{lower_bound:.2f}, {upper_bound:.2f}], ширина {upper_bound - lower_bound:.2f}\"\n",
        ")"
      ]
    },
    {
      "cell_type": "markdown",
      "metadata": {
        "id": "OWd_SDlMmj8b"
      },
      "source": [
        "## 13. Посчитайте доверительный для среднего количества покупателей в день (1 балл)"
      ]
    },
    {
      "cell_type": "code",
      "execution_count": 42,
      "metadata": {
        "id": "ayxueHiTnWrZ"
      },
      "outputs": [],
      "source": [
        "# Подсчет среднего и стандартного отклонения количества покупателей по дням\n",
        "invoice_date_members = df.groupby(\"invoice_date\")[\"sale\"].agg(\"count\").reset_index()"
      ]
    },
    {
      "cell_type": "code",
      "execution_count": 43,
      "metadata": {},
      "outputs": [
        {
          "name": "stdout",
          "output_type": "stream",
          "text": [
            "95%-ый доверительный интервал: [124.03, 125.55], ширина 1.52\n"
          ]
        }
      ],
      "source": [
        "data = invoice_date_members[\"sale\"]\n",
        "\n",
        "# Вычисление среднего значения и стандартного отклонения\n",
        "sample_mean = np.mean(data)\n",
        "sample_std = np.std(data, ddof=1)\n",
        "n = len(data)\n",
        "alpha = 0.05\n",
        "\n",
        "# Вычисление доверительного интервала\n",
        "z_score = norm.ppf(1 - alpha / 2)\n",
        "margin_of_error = z_score * sample_std / np.sqrt(n)\n",
        "\n",
        "lower_bound = sample_mean - margin_of_error\n",
        "upper_bound = sample_mean + margin_of_error\n",
        "\n",
        "print(\n",
        "    f\"95%-ый доверительный интервал: [{lower_bound:.2f}, {upper_bound:.2f}], ширина {upper_bound - lower_bound:.2f}\"\n",
        ")"
      ]
    },
    {
      "cell_type": "markdown",
      "metadata": {
        "id": "guxehAKPnXGB"
      },
      "source": [
        "## 14. Посчитайте помесячный retention для пользователей и доверительные интервалы для него (6 баллов)\n",
        "Day N Retention = (Users Day N / Users Day 0) * 100\n",
        "\n",
        "1) Постройте график retention   \n",
        "2) Добавьте на график область доверительного интервала для каждого месяца"
      ]
    },
    {
      "cell_type": "code",
      "execution_count": 44,
      "metadata": {},
      "outputs": [
        {
          "data": {
            "text/html": [
              "<div>\n",
              "<style scoped>\n",
              "    .dataframe tbody tr th:only-of-type {\n",
              "        vertical-align: middle;\n",
              "    }\n",
              "\n",
              "    .dataframe tbody tr th {\n",
              "        vertical-align: top;\n",
              "    }\n",
              "\n",
              "    .dataframe thead th {\n",
              "        text-align: right;\n",
              "    }\n",
              "</style>\n",
              "<table border=\"1\" class=\"dataframe\">\n",
              "  <thead>\n",
              "    <tr style=\"text-align: right;\">\n",
              "      <th></th>\n",
              "      <th>year</th>\n",
              "      <th>day_month</th>\n",
              "      <th>month</th>\n",
              "      <th>customer_id</th>\n",
              "      <th>name</th>\n",
              "    </tr>\n",
              "  </thead>\n",
              "  <tbody>\n",
              "    <tr>\n",
              "      <th>0</th>\n",
              "      <td>2021</td>\n",
              "      <td>1</td>\n",
              "      <td>January</td>\n",
              "      <td>3835</td>\n",
              "      <td>January-2021</td>\n",
              "    </tr>\n",
              "    <tr>\n",
              "      <th>1</th>\n",
              "      <td>2021</td>\n",
              "      <td>2</td>\n",
              "      <td>February</td>\n",
              "      <td>3407</td>\n",
              "      <td>February-2021</td>\n",
              "    </tr>\n",
              "    <tr>\n",
              "      <th>2</th>\n",
              "      <td>2021</td>\n",
              "      <td>3</td>\n",
              "      <td>March</td>\n",
              "      <td>3813</td>\n",
              "      <td>March-2021</td>\n",
              "    </tr>\n",
              "    <tr>\n",
              "      <th>3</th>\n",
              "      <td>2021</td>\n",
              "      <td>4</td>\n",
              "      <td>April</td>\n",
              "      <td>3724</td>\n",
              "      <td>April-2021</td>\n",
              "    </tr>\n",
              "    <tr>\n",
              "      <th>4</th>\n",
              "      <td>2021</td>\n",
              "      <td>5</td>\n",
              "      <td>May</td>\n",
              "      <td>3848</td>\n",
              "      <td>May-2021</td>\n",
              "    </tr>\n",
              "  </tbody>\n",
              "</table>\n",
              "</div>"
            ],
            "text/plain": [
              "   year  day_month     month  customer_id           name\n",
              "0  2021          1   January         3835   January-2021\n",
              "1  2021          2  February         3407  February-2021\n",
              "2  2021          3     March         3813     March-2021\n",
              "3  2021          4     April         3724     April-2021\n",
              "4  2021          5       May         3848       May-2021"
            ]
          },
          "execution_count": 44,
          "metadata": {},
          "output_type": "execute_result"
        }
      ],
      "source": [
        "# Расчет количества пользователей по годам и месяцам\n",
        "df_retention = (\n",
        "    df.groupby([\"year\", \"day_month\", \"month\"])[\"customer_id\"].agg(\"count\").reset_index()\n",
        ")\n",
        "\n",
        "df_retention[\"name\"] = (\n",
        "    df_retention[\"month\"].astype(str) + \"-\" + df_retention[\"year\"].astype(str)\n",
        ")\n",
        "\n",
        "df_retention.head()"
      ]
    },
    {
      "cell_type": "code",
      "execution_count": 45,
      "metadata": {},
      "outputs": [
        {
          "data": {
            "text/html": [
              "<div>\n",
              "<style scoped>\n",
              "    .dataframe tbody tr th:only-of-type {\n",
              "        vertical-align: middle;\n",
              "    }\n",
              "\n",
              "    .dataframe tbody tr th {\n",
              "        vertical-align: top;\n",
              "    }\n",
              "\n",
              "    .dataframe thead th {\n",
              "        text-align: right;\n",
              "    }\n",
              "</style>\n",
              "<table border=\"1\" class=\"dataframe\">\n",
              "  <thead>\n",
              "    <tr style=\"text-align: right;\">\n",
              "      <th></th>\n",
              "      <th>year</th>\n",
              "      <th>day_month</th>\n",
              "      <th>month</th>\n",
              "      <th>count_id</th>\n",
              "      <th>name</th>\n",
              "      <th>retention</th>\n",
              "    </tr>\n",
              "  </thead>\n",
              "  <tbody>\n",
              "    <tr>\n",
              "      <th>0</th>\n",
              "      <td>2021</td>\n",
              "      <td>1</td>\n",
              "      <td>January</td>\n",
              "      <td>3835</td>\n",
              "      <td>January-2021</td>\n",
              "      <td>1.000000</td>\n",
              "    </tr>\n",
              "    <tr>\n",
              "      <th>1</th>\n",
              "      <td>2021</td>\n",
              "      <td>2</td>\n",
              "      <td>February</td>\n",
              "      <td>3407</td>\n",
              "      <td>February-2021</td>\n",
              "      <td>0.888396</td>\n",
              "    </tr>\n",
              "    <tr>\n",
              "      <th>2</th>\n",
              "      <td>2021</td>\n",
              "      <td>3</td>\n",
              "      <td>March</td>\n",
              "      <td>3813</td>\n",
              "      <td>March-2021</td>\n",
              "      <td>0.994263</td>\n",
              "    </tr>\n",
              "    <tr>\n",
              "      <th>3</th>\n",
              "      <td>2021</td>\n",
              "      <td>4</td>\n",
              "      <td>April</td>\n",
              "      <td>3724</td>\n",
              "      <td>April-2021</td>\n",
              "      <td>0.971056</td>\n",
              "    </tr>\n",
              "    <tr>\n",
              "      <th>4</th>\n",
              "      <td>2021</td>\n",
              "      <td>5</td>\n",
              "      <td>May</td>\n",
              "      <td>3848</td>\n",
              "      <td>May-2021</td>\n",
              "      <td>1.003390</td>\n",
              "    </tr>\n",
              "  </tbody>\n",
              "</table>\n",
              "</div>"
            ],
            "text/plain": [
              "   year  day_month     month  count_id           name  retention\n",
              "0  2021          1   January      3835   January-2021   1.000000\n",
              "1  2021          2  February      3407  February-2021   0.888396\n",
              "2  2021          3     March      3813     March-2021   0.994263\n",
              "3  2021          4     April      3724     April-2021   0.971056\n",
              "4  2021          5       May      3848       May-2021   1.003390"
            ]
          },
          "execution_count": 45,
          "metadata": {},
          "output_type": "execute_result"
        }
      ],
      "source": [
        "# Расчет retention (не получилось заменить значения через pandas)\n",
        "list_retention = [1]\n",
        "\n",
        "for i in range(df_retention.index.stop - 1):\n",
        "    list_retention.append(\n",
        "        df_retention.iloc[i + 1][\"customer_id\"] / df_retention.iloc[0][\"customer_id\"]\n",
        "    )\n",
        "\n",
        "df_retention = pd.concat([df_retention, pd.DataFrame(list_retention)], axis=1).rename(\n",
        "    columns={\"customer_id\": \"count_id\", 0: \"retention\"}\n",
        ")\n",
        "\n",
        "df_retention.head()"
      ]
    },
    {
      "cell_type": "code",
      "execution_count": 46,
      "metadata": {},
      "outputs": [
        {
          "name": "stdout",
          "output_type": "stream",
          "text": [
            "95%-ый доверительный интервал: [0.91, 1.02], ширина 0.11\n"
          ]
        }
      ],
      "source": [
        "data = df_retention[\"retention\"]\n",
        "\n",
        "# Вычисление среднего значения и стандартного отклонения\n",
        "sample_mean = np.mean(data)\n",
        "sample_std = np.std(data, ddof=1)\n",
        "n = len(data)\n",
        "alpha = 0.05\n",
        "\n",
        "# Вычисление доверительного интервала\n",
        "z_score = norm.ppf(1 - alpha / 2)\n",
        "margin_of_error = z_score * sample_std / np.sqrt(n)\n",
        "\n",
        "lower_bound = sample_mean - margin_of_error\n",
        "upper_bound = sample_mean + margin_of_error\n",
        "\n",
        "print(\n",
        "    f\"95%-ый доверительный интервал: [{lower_bound:.2f}, {upper_bound:.2f}], ширина {upper_bound - lower_bound:.2f}\"\n",
        ")"
      ]
    },
    {
      "cell_type": "code",
      "execution_count": 47,
      "metadata": {},
      "outputs": [
        {
          "data": {
            "image/png": "[encoded data removed]",
            "text/plain": [
              "<Figure size 1800x400 with 1 Axes>"
            ]
          },
          "metadata": {},
          "output_type": "display_data"
        }
      ],
      "source": [
        "# Визуализация\n",
        "x = df_retention[\"name\"]\n",
        "y = df_retention[\"retention\"]\n",
        "\n",
        "plt.figure(figsize=(18, 4))\n",
        "\n",
        "plt.plot(x, y)\n",
        "plt.hlines(\n",
        "    y=lower_bound,\n",
        "    xmin=min(df_retention.index),\n",
        "    xmax=max(df_retention.index),\n",
        "    linestyles=\"dashed\",\n",
        "    colors=\"black\",\n",
        ")\n",
        "plt.hlines(\n",
        "    y=upper_bound,\n",
        "    xmin=min(df_retention.index),\n",
        "    xmax=max(df_retention.index),\n",
        "    linestyles=\"dashed\",\n",
        "    colors=\"black\",\n",
        ")\n",
        "plt.xticks(rotation=45)\n",
        "plt.xlabel(\"Год и месяц\")\n",
        "plt.ylabel(\"Retention\")\n",
        "plt.title(\"Retention по месяцам\")\n",
        "\n",
        "plt.show()"
      ]
    },
    {
      "cell_type": "markdown",
      "metadata": {
        "id": "k9QM1bg11yZ3"
      },
      "source": [
        "## 15. Посчитайте средний доход с пользователя (ARPU) в каждом месяце и доверительные интервалы для него (5 баллов)\n",
        "ARPU = Average Revenue Per User  \n",
        "1) Постройте график ARPU для каждого месяца      \n",
        "2) Добавьте на график область доверительного интервала для каждого месяца"
      ]
    },
    {
      "cell_type": "code",
      "execution_count": 48,
      "metadata": {
        "id": "1r0M5tugABF2"
      },
      "outputs": [
        {
          "data": {
            "text/html": [
              "<div>\n",
              "<style scoped>\n",
              "    .dataframe tbody tr th:only-of-type {\n",
              "        vertical-align: middle;\n",
              "    }\n",
              "\n",
              "    .dataframe tbody tr th {\n",
              "        vertical-align: top;\n",
              "    }\n",
              "\n",
              "    .dataframe thead th {\n",
              "        text-align: right;\n",
              "    }\n",
              "</style>\n",
              "<table border=\"1\" class=\"dataframe\">\n",
              "  <thead>\n",
              "    <tr style=\"text-align: right;\">\n",
              "      <th></th>\n",
              "      <th>year</th>\n",
              "      <th>day_month</th>\n",
              "      <th>month</th>\n",
              "      <th>sale</th>\n",
              "      <th>name</th>\n",
              "    </tr>\n",
              "  </thead>\n",
              "  <tbody>\n",
              "    <tr>\n",
              "      <th>0</th>\n",
              "      <td>2021</td>\n",
              "      <td>1</td>\n",
              "      <td>January</td>\n",
              "      <td>2514.110722</td>\n",
              "      <td>January-2021</td>\n",
              "    </tr>\n",
              "    <tr>\n",
              "      <th>1</th>\n",
              "      <td>2021</td>\n",
              "      <td>2</td>\n",
              "      <td>February</td>\n",
              "      <td>2574.791670</td>\n",
              "      <td>February-2021</td>\n",
              "    </tr>\n",
              "    <tr>\n",
              "      <th>2</th>\n",
              "      <td>2021</td>\n",
              "      <td>3</td>\n",
              "      <td>March</td>\n",
              "      <td>2479.769048</td>\n",
              "      <td>March-2021</td>\n",
              "    </tr>\n",
              "    <tr>\n",
              "      <th>3</th>\n",
              "      <td>2021</td>\n",
              "      <td>4</td>\n",
              "      <td>April</td>\n",
              "      <td>2521.359168</td>\n",
              "      <td>April-2021</td>\n",
              "    </tr>\n",
              "    <tr>\n",
              "      <th>4</th>\n",
              "      <td>2021</td>\n",
              "      <td>5</td>\n",
              "      <td>May</td>\n",
              "      <td>2539.437882</td>\n",
              "      <td>May-2021</td>\n",
              "    </tr>\n",
              "  </tbody>\n",
              "</table>\n",
              "</div>"
            ],
            "text/plain": [
              "   year  day_month     month         sale           name\n",
              "0  2021          1   January  2514.110722   January-2021\n",
              "1  2021          2  February  2574.791670  February-2021\n",
              "2  2021          3     March  2479.769048     March-2021\n",
              "3  2021          4     April  2521.359168     April-2021\n",
              "4  2021          5       May  2539.437882       May-2021"
            ]
          },
          "execution_count": 48,
          "metadata": {},
          "output_type": "execute_result"
        }
      ],
      "source": [
        "# Расчет среднего чека по годам и месяцам\n",
        "df_arpu = df.groupby([\"year\", \"day_month\", \"month\"])[\"sale\"].agg(\"mean\").reset_index()\n",
        "\n",
        "df_arpu[\"name\"] = df_arpu[\"month\"].astype(str) + \"-\" + df_arpu[\"year\"].astype(str)\n",
        "\n",
        "df_arpu.head()"
      ]
    },
    {
      "cell_type": "code",
      "execution_count": 49,
      "metadata": {},
      "outputs": [
        {
          "name": "stdout",
          "output_type": "stream",
          "text": [
            "95%-ый доверительный интервал: [2502.43, 2558.36], ширина 55.93\n"
          ]
        }
      ],
      "source": [
        "data = df_arpu[\"sale\"]\n",
        "\n",
        "# Вычисление среднего значения и стандартного отклонения\n",
        "sample_mean = np.mean(data)\n",
        "sample_std = np.std(data, ddof=1)\n",
        "n = len(data)\n",
        "alpha = 0.05\n",
        "\n",
        "# Вычисление доверительного интервала\n",
        "z_score = norm.ppf(1 - alpha / 2)\n",
        "margin_of_error = z_score * sample_std / np.sqrt(n)\n",
        "\n",
        "lower_bound = sample_mean - margin_of_error\n",
        "upper_bound = sample_mean + margin_of_error\n",
        "\n",
        "print(\n",
        "    f\"95%-ый доверительный интервал: [{lower_bound:.2f}, {upper_bound:.2f}], ширина {upper_bound - lower_bound:.2f}\"\n",
        ")"
      ]
    },
    {
      "cell_type": "code",
      "execution_count": 52,
      "metadata": {},
      "outputs": [
        {
          "data": {
            "image/png": "[encoded data removed]",
            "text/plain": [
              "<Figure size 1800x400 with 1 Axes>"
            ]
          },
          "metadata": {},
          "output_type": "display_data"
        }
      ],
      "source": [
        "# Визуализация\n",
        "x = df_arpu[\"name\"]\n",
        "y = df_arpu[\"sale\"]\n",
        "\n",
        "plt.figure(figsize=(18, 4))\n",
        "\n",
        "plt.plot(x, y)\n",
        "plt.hlines(\n",
        "    y=lower_bound,\n",
        "    xmin=min(df_arpu.index),\n",
        "    xmax=max(df_arpu.index),\n",
        "    linestyles=\"dashed\",\n",
        "    colors=\"black\",\n",
        ")\n",
        "plt.hlines(\n",
        "    y=upper_bound,\n",
        "    xmin=min(df_arpu.index),\n",
        "    xmax=max(df_arpu.index),\n",
        "    linestyles=\"dashed\",\n",
        "    colors=\"black\",\n",
        ")\n",
        "plt.xticks(rotation=45)\n",
        "plt.xlabel(\"Год и месяц\")\n",
        "plt.ylabel(\"Средний чек\")\n",
        "plt.title(\"Средний чек по месяцам\")\n",
        "\n",
        "plt.show()"
      ]
    },
    {
      "cell_type": "code",
      "execution_count": null,
      "metadata": {},
      "outputs": [],
      "source": []
    }
  ],
  "metadata": {
    "colab": {
      "provenance": []
    },
    "kernelspec": {
      "display_name": "itmo-math-stat-cDgRnBdI-py3.12",
      "language": "python",
      "name": "python3"
    },
    "language_info": {
      "codemirror_mode": {
        "name": "ipython",
        "version": 3
      },
      "file_extension": ".py",
      "mimetype": "text/x-python",
      "name": "python",
      "nbconvert_exporter": "python",
      "pygments_lexer": "ipython3",
      "version": "3.12.3"
    }
  },
  "nbformat": 4,
  "nbformat_minor": 0
}
