{
  "cells": [
    {
      "cell_type": "markdown",
      "metadata": {
        "id": "DruAYCH0Lgfc"
      },
      "source": [
        "# Домашнее задание №2\n",
        "\n",
        "Тема \"Доверительные интервалы\"\n",
        "\n",
        "Общие положения:\n",
        "- Макс кол-во баллов за ДЗ - 25 баллов\n",
        "- Качество оформления и кода играет роль\n",
        "\n",
        "Список заданий:\n",
        "1.\n",
        "\n"
      ]
    },
    {
      "cell_type": "code",
      "execution_count": 117,
      "metadata": {
        "id": "k3XgN0Y7c9cm"
      },
      "outputs": [],
      "source": [
        "import pandas as pd\n",
        "import numpy as np\n",
        "import matplotlib.pyplot as plt\n",
        "\n",
        "from scipy.stats import norm, t\n",
        "\n",
        "plt.style.use(\"ggplot\")\n",
        "%matplotlib inline"
      ]
    },
    {
      "cell_type": "code",
      "execution_count": 118,
      "metadata": {
        "colab": {
          "base_uri": "https://localhost:8080/"
        },
        "id": "nbPsRmOWjBol",
        "outputId": "1e9827c5-e007-4430-9255-c66d1786b20d"
      },
      "outputs": [
        {
          "name": "stdout",
          "output_type": "stream",
          "text": [
            "1.959963984540054\n"
          ]
        }
      ],
      "source": [
        "# Задаем стандартное нормальное распределение\n",
        "norm_distr = norm(loc=0, scale=1)\n",
        "\n",
        "# Рассчитываем квантиль по заданному уровню значимости\n",
        "alpha = 0.05\n",
        "z = norm_distr.ppf(1 - alpha / 2)\n",
        "print(z)"
      ]
    },
    {
      "cell_type": "markdown",
      "metadata": {
        "id": "YVevs2--cO6W"
      },
      "source": [
        "## Задание 1  \n",
        "Компания утверждает, что длина шнурков в партии обуви имеет среднее значение 120 см, и стандартное отклонение в партии точно известно и составляет 5 см. Из выборки 25 шнурков было получено среднее значение длины 122 см. Найдите 99%-ый доверительный интервал для среднего значения длины шнурков (1 балл)"
      ]
    },
    {
      "cell_type": "code",
      "execution_count": 119,
      "metadata": {},
      "outputs": [
        {
          "name": "stdout",
          "output_type": "stream",
          "text": [
            "99% доверительный интервал: [119.42, 124.58] см, ширина 5.15 см\n"
          ]
        }
      ],
      "source": [
        "# Исходные данные\n",
        "sample_size = 25\n",
        "sample_mean = 122\n",
        "sigma = 5\n",
        "alpha = 0.01\n",
        "\n",
        "# Расчет доверительного интервала\n",
        "z_score = norm.ppf(1 - alpha / 2)\n",
        "std_error = sigma / np.sqrt(sample_size)\n",
        "margin_of_error = z_score * std_error\n",
        "\n",
        "lower_bound = sample_mean - margin_of_error\n",
        "upper_bound = sample_mean + margin_of_error\n",
        "\n",
        "print(\n",
        "    f\"99% доверительный интервал: [{lower_bound:.2f}, {upper_bound:.2f}] см, ширина {upper_bound - lower_bound:.2f} см\"\n",
        ")\n"
      ]
    },
    {
      "cell_type": "markdown",
      "metadata": {
        "id": "vJVeA5OcdGPs"
      },
      "source": [
        "## Задание 2\n",
        "Компания исследует среднее время выполнения заказа курьерской службой. Было случайным образом выбрано 10 заказов, для которых среднее время доставки составило 45 минут, а выборочная дисперсия — 9 минут. Постройте 95%-ый доверительный интервал для среднего времени доставки заказа (1 балл)"
      ]
    },
    {
      "cell_type": "code",
      "execution_count": 120,
      "metadata": {},
      "outputs": [
        {
          "name": "stdout",
          "output_type": "stream",
          "text": [
            "95%-ый доверительный интервал: [42.85, 47.15] мин, ширина 4.29 мин\n"
          ]
        }
      ],
      "source": [
        "# Исходные данные\n",
        "n = 10\n",
        "mean_time = 45\n",
        "variance = 9\n",
        "alpha = 0.05\n",
        "\n",
        "# Расчет доверительного интервала\n",
        "t_score = t.ppf(1 - alpha / 2, df=(n - 1))\n",
        "margin_of_error = t_score * np.sqrt(variance / n)\n",
        "\n",
        "lower_bound = mean_time - margin_of_error\n",
        "upper_bound = mean_time + margin_of_error\n",
        "\n",
        "print(\n",
        "    f\"95%-ый доверительный интервал: [{lower_bound:.2f}, {upper_bound:.2f}] мин, ширина {upper_bound - lower_bound:.2f} мин\"\n",
        ")"
      ]
    },
    {
      "cell_type": "markdown",
      "metadata": {
        "id": "Eb1KiG10p5sY"
      },
      "source": [
        "## Задание 3\n",
        "Интернет-магазин хочет определить долю пользователей, которые возвращаются для повторной покупки в течение месяца после первой покупки. Для этого он проанализировал выборку из 800 клиентов, и оказалось, что 240 из них сделали повторную покупку в течение месяца. Необходимо определить 95% доверительный интервал для истинной доли клиентов, которые возвращаются для повторной покупки в течение этого времени (1 балл)\n"
      ]
    },
    {
      "cell_type": "code",
      "execution_count": 121,
      "metadata": {},
      "outputs": [
        {
          "name": "stdout",
          "output_type": "stream",
          "text": [
            "95%-ый доверительный интервал: [-1.80, 2.40], ширина 4.21\n"
          ]
        }
      ],
      "source": [
        "# Исходные данные\n",
        "n = 800\n",
        "k = 240\n",
        "alpha = 0.05\n",
        "\n",
        "# Вычисление доверительного интервала\n",
        "z_score = norm.ppf(1 - alpha / 2)\n",
        "p = k / n\n",
        "margin_of_error = z_score * np.sqrt(p * (1 - p / n))\n",
        "\n",
        "lower_bound = p - z * margin_of_error\n",
        "upper_bound = p + z * margin_of_error\n",
        "\n",
        "print(\n",
        "    f\"95%-ый доверительный интервал: [{lower_bound:.2f}, {upper_bound:.2f}], ширина {upper_bound - lower_bound:.2f}\"\n",
        ")"
      ]
    },
    {
      "cell_type": "markdown",
      "metadata": {
        "id": "_zv2AYYxli49"
      },
      "source": [
        "## Задание 4\n",
        "Два студента Тимофей и Пётр решают задачи из учебника по статистике, каждый со своей усердностью λ (количество решенных задач в день).\n",
        "Тимофей считает себя более усердным студентом. Необходимо построить доверительный для разности λ1 - λ2 и проверить, правда ли это.\n",
        "Студенты решают задачи независимо друг от друга (1 балл)"
      ]
    },
    {
      "cell_type": "code",
      "execution_count": 122,
      "metadata": {},
      "outputs": [],
      "source": [
        "# Данные\n",
        "a = [7, 5, 2, 8, 4, 9, 2, 6, 6, 7]  # Тимофей\n",
        "b = [3, 3, 3, 9, 9, 2, 2, 2, 2, 9]  # Пётр"
      ]
    },
    {
      "cell_type": "code",
      "execution_count": 123,
      "metadata": {},
      "outputs": [
        {
          "name": "stdout",
          "output_type": "stream",
          "text": [
            "Среднее значение для Тимофея: 5.6\n",
            "Стандартное отклонение для Тимофея: 2.37\n",
            "Среднее значение для Петра: 4.4\n",
            "Стандартное отклонение для Петра: 3.2\n"
          ]
        }
      ],
      "source": [
        "# Преобразование данных\n",
        "a = np.array(a)\n",
        "b = np.array(b)\n",
        "\n",
        "# Вычисление средних значений и стандартных отклонений\n",
        "mean_a = np.mean(a)\n",
        "std_a = np.std(a, ddof=1)\n",
        "mean_b = np.mean(b)\n",
        "std_b = np.std(b, ddof=1)\n",
        "\n",
        "print(\"Среднее значение для Тимофея:\", mean_a)\n",
        "print(\"Стандартное отклонение для Тимофея:\", round(std_a, 2))\n",
        "print(\"Среднее значение для Петра:\", mean_b)\n",
        "print(\"Стандартное отклонение для Петра:\", round(std_b, 2))"
      ]
    },
    {
      "cell_type": "code",
      "execution_count": 124,
      "metadata": {},
      "outputs": [
        {
          "name": "stdout",
          "output_type": "stream",
          "text": [
            "95%-ый доверительный интервал: [-0.76, 3.16], ширина 3.92\n"
          ]
        }
      ],
      "source": [
        "alpha = 0.05\n",
        "z_alpha = norm.ppf(1 - alpha / 2)\n",
        "\n",
        "diff = np.mean(a) - np.mean(b)\n",
        "diff_se = np.sqrt(np.mean(a) / len(a) + np.mean(b) / len(b))\n",
        "\n",
        "left = diff - z_alpha * diff_se\n",
        "right = diff + z_alpha * diff_se\n",
        "\n",
        "print(\n",
        "    f\"95%-ый доверительный интервал: [{left:.2f}, {right:.2f}], ширина {right - left:.2f}\"\n",
        ")"
      ]
    },
    {
      "cell_type": "code",
      "execution_count": 125,
      "metadata": {},
      "outputs": [
        {
          "name": "stdout",
          "output_type": "stream",
          "text": [
            "Тимофей действительно более усердный студент\n"
          ]
        }
      ],
      "source": [
        "# Проверка, правда ли Тимофей более усердный студент\n",
        "if mean_a > mean_b:\n",
        "    print(\"Тимофей действительно более усердный студент\")\n",
        "else:\n",
        "    print(\"Петр более усердный студент\")"
      ]
    },
    {
      "cell_type": "markdown",
      "metadata": {
        "id": "985Fwrbvxrz8"
      },
      "source": [
        "## Задания 5-8 (5 баллов всего)"
      ]
    },
    {
      "cell_type": "code",
      "execution_count": 126,
      "metadata": {
        "colab": {
          "base_uri": "https://localhost:8080/"
        },
        "id": "YNhQJ7Ev2ctk",
        "outputId": "52d3a565-c17f-4009-99c1-730e540d6412"
      },
      "outputs": [
        {
          "name": "stdout",
          "output_type": "stream",
          "text": [
            "  % Total    % Received % Xferd  Average Speed   Time    Time     Time  Current\n",
            "                                 Dload  Upload   Total   Spent    Left  Speed\n",
            "100  778k  100  778k    0     0   735k      0  0:00:01  0:00:01 --:--:--  736k\n"
          ]
        }
      ],
      "source": [
        "!curl -O https://raw.githubusercontent.com/practical-jupyter/sample-data/refs/heads/master/anime/anime.csv >> anime.csv"
      ]
    },
    {
      "cell_type": "markdown",
      "metadata": {
        "id": "ZIWuliOI2maT"
      },
      "source": [
        "Описание датафрейма:\n",
        "- `anime_id` - ID\n",
        "- `name` - название\n",
        "- `genre` - жанр (строка с пречисление через запятую)\n",
        "- `type` - формат\n",
        "- `episodes` - кол-во эпизодов\n",
        "- `rating` - средний рейтинг\n",
        "- `members` - кол-во смотрящих"
      ]
    },
    {
      "cell_type": "code",
      "execution_count": 127,
      "metadata": {
        "colab": {
          "base_uri": "https://localhost:8080/"
        },
        "id": "FD4TjaL52gd-",
        "outputId": "2e4073a6-d70a-4115-a873-69637b19ee82"
      },
      "outputs": [
        {
          "name": "stdout",
          "output_type": "stream",
          "text": [
            "<class 'pandas.core.frame.DataFrame'>\n",
            "RangeIndex: 10486 entries, 0 to 10485\n",
            "Data columns (total 7 columns):\n",
            " #   Column    Non-Null Count  Dtype  \n",
            "---  ------    --------------  -----  \n",
            " 0   anime_id  10486 non-null  int64  \n",
            " 1   name      10486 non-null  object \n",
            " 2   genre     10424 non-null  object \n",
            " 3   type      10463 non-null  object \n",
            " 4   episodes  10486 non-null  object \n",
            " 5   rating    10275 non-null  float64\n",
            " 6   members   10486 non-null  int64  \n",
            "dtypes: float64(1), int64(2), object(4)\n",
            "memory usage: 573.6+ KB\n"
          ]
        }
      ],
      "source": [
        "df_anime = pd.read_csv(\"anime.csv\")\n",
        "df_anime.info()"
      ]
    },
    {
      "cell_type": "code",
      "execution_count": 128,
      "metadata": {},
      "outputs": [
        {
          "data": {
            "text/plain": [
              "anime_id      int64\n",
              "name         object\n",
              "genre        object\n",
              "type         object\n",
              "episodes     object\n",
              "rating      float64\n",
              "members       int64\n",
              "dtype: object"
            ]
          },
          "execution_count": 128,
          "metadata": {},
          "output_type": "execute_result"
        }
      ],
      "source": [
        "df_anime.dtypes"
      ]
    },
    {
      "cell_type": "code",
      "execution_count": 129,
      "metadata": {},
      "outputs": [
        {
          "data": {
            "text/plain": [
              "anime_id      0\n",
              "name          0\n",
              "genre        62\n",
              "type         23\n",
              "episodes      0\n",
              "rating      211\n",
              "members       0\n",
              "dtype: int64"
            ]
          },
          "execution_count": 129,
          "metadata": {},
          "output_type": "execute_result"
        }
      ],
      "source": [
        "df_anime.isna().sum()"
      ]
    },
    {
      "cell_type": "code",
      "execution_count": 130,
      "metadata": {},
      "outputs": [],
      "source": [
        "# Замена пустых значений количества эпизодов и перевод столбца в int\n",
        "df_anime[\"episodes\"] = df_anime[\"episodes\"].replace(\"Unknown\", \"0\").astype(np.int64)"
      ]
    },
    {
      "cell_type": "code",
      "execution_count": 131,
      "metadata": {},
      "outputs": [
        {
          "data": {
            "text/plain": [
              "anime_id      int64\n",
              "name         object\n",
              "genre        object\n",
              "type         object\n",
              "episodes      int64\n",
              "rating      float64\n",
              "members       int64\n",
              "dtype: object"
            ]
          },
          "execution_count": 131,
          "metadata": {},
          "output_type": "execute_result"
        }
      ],
      "source": [
        "df_anime.dtypes"
      ]
    },
    {
      "cell_type": "code",
      "execution_count": 132,
      "metadata": {},
      "outputs": [],
      "source": [
        "# Заполнение пустых значений рейтинга\n",
        "df_anime[\"rating\"] = df_anime[\"rating\"].fillna(0)"
      ]
    },
    {
      "cell_type": "code",
      "execution_count": 133,
      "metadata": {},
      "outputs": [
        {
          "data": {
            "text/plain": [
              "(10486, 7)"
            ]
          },
          "execution_count": 133,
          "metadata": {},
          "output_type": "execute_result"
        }
      ],
      "source": [
        "df_anime.shape"
      ]
    },
    {
      "cell_type": "code",
      "execution_count": 134,
      "metadata": {},
      "outputs": [
        {
          "data": {
            "text/html": [
              "<div>\n",
              "<style scoped>\n",
              "    .dataframe tbody tr th:only-of-type {\n",
              "        vertical-align: middle;\n",
              "    }\n",
              "\n",
              "    .dataframe tbody tr th {\n",
              "        vertical-align: top;\n",
              "    }\n",
              "\n",
              "    .dataframe thead th {\n",
              "        text-align: right;\n",
              "    }\n",
              "</style>\n",
              "<table border=\"1\" class=\"dataframe\">\n",
              "  <thead>\n",
              "    <tr style=\"text-align: right;\">\n",
              "      <th></th>\n",
              "      <th>anime_id</th>\n",
              "      <th>episodes</th>\n",
              "      <th>rating</th>\n",
              "      <th>members</th>\n",
              "    </tr>\n",
              "  </thead>\n",
              "  <tbody>\n",
              "    <tr>\n",
              "      <th>count</th>\n",
              "      <td>10486.000000</td>\n",
              "      <td>10486.000000</td>\n",
              "      <td>10486.000000</td>\n",
              "      <td>1.048600e+04</td>\n",
              "    </tr>\n",
              "    <tr>\n",
              "      <th>mean</th>\n",
              "      <td>14697.595461</td>\n",
              "      <td>13.423803</td>\n",
              "      <td>6.363228</td>\n",
              "      <td>1.847893e+04</td>\n",
              "    </tr>\n",
              "    <tr>\n",
              "      <th>std</th>\n",
              "      <td>11594.539648</td>\n",
              "      <td>49.885898</td>\n",
              "      <td>1.395065</td>\n",
              "      <td>5.655936e+04</td>\n",
              "    </tr>\n",
              "    <tr>\n",
              "      <th>min</th>\n",
              "      <td>1.000000</td>\n",
              "      <td>0.000000</td>\n",
              "      <td>0.000000</td>\n",
              "      <td>5.000000e+00</td>\n",
              "    </tr>\n",
              "    <tr>\n",
              "      <th>25%</th>\n",
              "      <td>3615.750000</td>\n",
              "      <td>1.000000</td>\n",
              "      <td>5.800000</td>\n",
              "      <td>1.730000e+02</td>\n",
              "    </tr>\n",
              "    <tr>\n",
              "      <th>50%</th>\n",
              "      <td>11065.000000</td>\n",
              "      <td>1.000000</td>\n",
              "      <td>6.580000</td>\n",
              "      <td>1.197500e+03</td>\n",
              "    </tr>\n",
              "    <tr>\n",
              "      <th>75%</th>\n",
              "      <td>26018.500000</td>\n",
              "      <td>13.000000</td>\n",
              "      <td>7.240000</td>\n",
              "      <td>9.741750e+03</td>\n",
              "    </tr>\n",
              "    <tr>\n",
              "      <th>max</th>\n",
              "      <td>34527.000000</td>\n",
              "      <td>1818.000000</td>\n",
              "      <td>10.000000</td>\n",
              "      <td>1.013917e+06</td>\n",
              "    </tr>\n",
              "  </tbody>\n",
              "</table>\n",
              "</div>"
            ],
            "text/plain": [
              "           anime_id      episodes        rating       members\n",
              "count  10486.000000  10486.000000  10486.000000  1.048600e+04\n",
              "mean   14697.595461     13.423803      6.363228  1.847893e+04\n",
              "std    11594.539648     49.885898      1.395065  5.655936e+04\n",
              "min        1.000000      0.000000      0.000000  5.000000e+00\n",
              "25%     3615.750000      1.000000      5.800000  1.730000e+02\n",
              "50%    11065.000000      1.000000      6.580000  1.197500e+03\n",
              "75%    26018.500000     13.000000      7.240000  9.741750e+03\n",
              "max    34527.000000   1818.000000     10.000000  1.013917e+06"
            ]
          },
          "execution_count": 134,
          "metadata": {},
          "output_type": "execute_result"
        }
      ],
      "source": [
        "df_anime.describe()"
      ]
    },
    {
      "cell_type": "code",
      "execution_count": 135,
      "metadata": {},
      "outputs": [
        {
          "data": {
            "text/html": [
              "<div>\n",
              "<style scoped>\n",
              "    .dataframe tbody tr th:only-of-type {\n",
              "        vertical-align: middle;\n",
              "    }\n",
              "\n",
              "    .dataframe tbody tr th {\n",
              "        vertical-align: top;\n",
              "    }\n",
              "\n",
              "    .dataframe thead th {\n",
              "        text-align: right;\n",
              "    }\n",
              "</style>\n",
              "<table border=\"1\" class=\"dataframe\">\n",
              "  <thead>\n",
              "    <tr style=\"text-align: right;\">\n",
              "      <th></th>\n",
              "      <th>name</th>\n",
              "      <th>genre</th>\n",
              "      <th>type</th>\n",
              "    </tr>\n",
              "  </thead>\n",
              "  <tbody>\n",
              "    <tr>\n",
              "      <th>count</th>\n",
              "      <td>10486</td>\n",
              "      <td>10424</td>\n",
              "      <td>10463</td>\n",
              "    </tr>\n",
              "    <tr>\n",
              "      <th>unique</th>\n",
              "      <td>10484</td>\n",
              "      <td>2776</td>\n",
              "      <td>6</td>\n",
              "    </tr>\n",
              "    <tr>\n",
              "      <th>top</th>\n",
              "      <td>Shi Wan Ge Leng Xiaohua</td>\n",
              "      <td>Comedy</td>\n",
              "      <td>TV</td>\n",
              "    </tr>\n",
              "    <tr>\n",
              "      <th>freq</th>\n",
              "      <td>2</td>\n",
              "      <td>523</td>\n",
              "      <td>3542</td>\n",
              "    </tr>\n",
              "  </tbody>\n",
              "</table>\n",
              "</div>"
            ],
            "text/plain": [
              "                           name   genre   type\n",
              "count                     10486   10424  10463\n",
              "unique                    10484    2776      6\n",
              "top     Shi Wan Ge Leng Xiaohua  Comedy     TV\n",
              "freq                          2     523   3542"
            ]
          },
          "execution_count": 135,
          "metadata": {},
          "output_type": "execute_result"
        }
      ],
      "source": [
        "df_anime.describe(include=object)"
      ]
    },
    {
      "cell_type": "code",
      "execution_count": 136,
      "metadata": {},
      "outputs": [
        {
          "data": {
            "text/plain": [
              "anime_id     0\n",
              "name         0\n",
              "genre       62\n",
              "type        23\n",
              "episodes     0\n",
              "rating       0\n",
              "members      0\n",
              "dtype: int64"
            ]
          },
          "execution_count": 136,
          "metadata": {},
          "output_type": "execute_result"
        }
      ],
      "source": [
        "df_anime.isna().sum()"
      ]
    },
    {
      "cell_type": "code",
      "execution_count": 137,
      "metadata": {},
      "outputs": [
        {
          "data": {
            "text/html": [
              "<div>\n",
              "<style scoped>\n",
              "    .dataframe tbody tr th:only-of-type {\n",
              "        vertical-align: middle;\n",
              "    }\n",
              "\n",
              "    .dataframe tbody tr th {\n",
              "        vertical-align: top;\n",
              "    }\n",
              "\n",
              "    .dataframe thead th {\n",
              "        text-align: right;\n",
              "    }\n",
              "</style>\n",
              "<table border=\"1\" class=\"dataframe\">\n",
              "  <thead>\n",
              "    <tr style=\"text-align: right;\">\n",
              "      <th></th>\n",
              "      <th>anime_id</th>\n",
              "      <th>name</th>\n",
              "      <th>genre</th>\n",
              "      <th>type</th>\n",
              "      <th>episodes</th>\n",
              "      <th>rating</th>\n",
              "      <th>members</th>\n",
              "    </tr>\n",
              "  </thead>\n",
              "  <tbody>\n",
              "    <tr>\n",
              "      <th>0</th>\n",
              "      <td>32281</td>\n",
              "      <td>Kimi no Na wa.</td>\n",
              "      <td>Drama</td>\n",
              "      <td>Movie</td>\n",
              "      <td>1</td>\n",
              "      <td>9.37</td>\n",
              "      <td>200630</td>\n",
              "    </tr>\n",
              "    <tr>\n",
              "      <th>0</th>\n",
              "      <td>32281</td>\n",
              "      <td>Kimi no Na wa.</td>\n",
              "      <td>Romance</td>\n",
              "      <td>Movie</td>\n",
              "      <td>1</td>\n",
              "      <td>9.37</td>\n",
              "      <td>200630</td>\n",
              "    </tr>\n",
              "    <tr>\n",
              "      <th>0</th>\n",
              "      <td>32281</td>\n",
              "      <td>Kimi no Na wa.</td>\n",
              "      <td>School</td>\n",
              "      <td>Movie</td>\n",
              "      <td>1</td>\n",
              "      <td>9.37</td>\n",
              "      <td>200630</td>\n",
              "    </tr>\n",
              "    <tr>\n",
              "      <th>0</th>\n",
              "      <td>32281</td>\n",
              "      <td>Kimi no Na wa.</td>\n",
              "      <td>Supernatural</td>\n",
              "      <td>Movie</td>\n",
              "      <td>1</td>\n",
              "      <td>9.37</td>\n",
              "      <td>200630</td>\n",
              "    </tr>\n",
              "    <tr>\n",
              "      <th>1</th>\n",
              "      <td>5114</td>\n",
              "      <td>Fullmetal Alchemist: Brotherhood</td>\n",
              "      <td>Action</td>\n",
              "      <td>TV</td>\n",
              "      <td>64</td>\n",
              "      <td>9.26</td>\n",
              "      <td>793665</td>\n",
              "    </tr>\n",
              "  </tbody>\n",
              "</table>\n",
              "</div>"
            ],
            "text/plain": [
              "   anime_id                              name         genre   type  episodes  \\\n",
              "0     32281                    Kimi no Na wa.         Drama  Movie         1   \n",
              "0     32281                    Kimi no Na wa.       Romance  Movie         1   \n",
              "0     32281                    Kimi no Na wa.        School  Movie         1   \n",
              "0     32281                    Kimi no Na wa.  Supernatural  Movie         1   \n",
              "1      5114  Fullmetal Alchemist: Brotherhood        Action     TV        64   \n",
              "\n",
              "   rating  members  \n",
              "0    9.37   200630  \n",
              "0    9.37   200630  \n",
              "0    9.37   200630  \n",
              "0    9.37   200630  \n",
              "1    9.26   793665  "
            ]
          },
          "execution_count": 137,
          "metadata": {},
          "output_type": "execute_result"
        }
      ],
      "source": [
        "# Копирование исходного датасета (что бы иметь возможность обратиться к исходнику)\n",
        "df_genre_str = df_anime.copy()\n",
        "\n",
        "# Разделение жанров\n",
        "df_genre_str[\"genre\"] = df_genre_str[\"genre\"].str.split(\",\")\n",
        "df_genre_str = df_genre_str.explode(\"genre\")\n",
        "df_genre_str[\"genre\"] = df_genre_str[\"genre\"].str.strip()\n",
        "\n",
        "df_genre_str.head()"
      ]
    },
    {
      "cell_type": "markdown",
      "metadata": {
        "id": "jWjPfK8V3Fj3"
      },
      "source": [
        "## 5. Постройте доверительный интервал для среднего рейтинга по всем аниме (1 балл)"
      ]
    },
    {
      "cell_type": "code",
      "execution_count": 138,
      "metadata": {
        "colab": {
          "base_uri": "https://localhost:8080/"
        },
        "id": "NX4LvOLA3UrC",
        "outputId": "970f739f-b07a-43ec-d503-80a4958cdeb1"
      },
      "outputs": [
        {
          "name": "stdout",
          "output_type": "stream",
          "text": [
            "95%-ый доверительный интервал: [6.34, 6.39], ширина 0.05\n"
          ]
        }
      ],
      "source": [
        "data = df_anime[\"rating\"]\n",
        "\n",
        "# Вычисление среднего значения и стандартного отклонения\n",
        "sample_mean = np.mean(data)\n",
        "sample_std = np.std(data, ddof=1)\n",
        "n = len(data)\n",
        "alpha = 0.05\n",
        "\n",
        "# Вычисление доверительного интервала\n",
        "z_score = norm.ppf(1 - alpha / 2)\n",
        "margin_of_error = z_score * sample_std / np.sqrt(n)\n",
        "\n",
        "lower_bound = sample_mean - margin_of_error\n",
        "upper_bound = sample_mean + margin_of_error\n",
        "\n",
        "print(\n",
        "    f\"95%-ый доверительный интервал: [{lower_bound:.2f}, {upper_bound:.2f}], ширина {upper_bound - lower_bound:.2f}\"\n",
        ")"
      ]
    },
    {
      "cell_type": "markdown",
      "metadata": {
        "id": "dBlIsxYy3geL"
      },
      "source": [
        "## 6. Постройте доверительные интервалы для средних рейтингов по жанрам  (1 балл)"
      ]
    },
    {
      "cell_type": "code",
      "execution_count": 139,
      "metadata": {
        "id": "IUaOABXb3oQ9"
      },
      "outputs": [],
      "source": [
        "# Группировка по жанрам и расчет среднего рейтинга\n",
        "genre_ratings = (df_genre_str.groupby(\"genre\")[\"rating\"].agg(\"mean\").reset_index())"
      ]
    },
    {
      "cell_type": "code",
      "execution_count": 140,
      "metadata": {},
      "outputs": [
        {
          "data": {
            "text/plain": [
              "array(['Action', 'Adventure', 'Cars', 'Comedy', 'Dementia', 'Demons',\n",
              "       'Drama', 'Fantasy', 'Game', 'Harem', 'Historical', 'Horror',\n",
              "       'Josei', 'Kids', 'Magic', 'Martial Arts', 'Mecha', 'Military',\n",
              "       'Music', 'Mystery', 'Parody', 'Police', 'Psychological', 'Romance',\n",
              "       'Samurai', 'School', 'Sci-Fi', 'Seinen', 'Shoujo', 'Shoujo Ai',\n",
              "       'Shounen', 'Shounen Ai', 'Slice of Life', 'Space', 'Sports',\n",
              "       'Super Power', 'Supernatural', 'Thriller', 'Vampire'], dtype=object)"
            ]
          },
          "execution_count": 140,
          "metadata": {},
          "output_type": "execute_result"
        }
      ],
      "source": [
        "genre_ratings[\"genre\"].unique()"
      ]
    },
    {
      "cell_type": "code",
      "execution_count": 141,
      "metadata": {},
      "outputs": [
        {
          "name": "stdout",
          "output_type": "stream",
          "text": [
            "95%-ый доверительный интервал: [6.53, 6.78], ширина 0.25\n"
          ]
        }
      ],
      "source": [
        "data = genre_ratings[\"rating\"]\n",
        "\n",
        "# Вычисление среднего значения и стандартного отклонения\n",
        "sample_mean = np.mean(data)\n",
        "sample_std = np.std(data, ddof=1)\n",
        "n = len(data)\n",
        "alpha = 0.05\n",
        "\n",
        "# Вычисление доверительного интервала\n",
        "z_score = norm.ppf(1 - alpha / 2)\n",
        "margin_of_error = z_score * sample_std / np.sqrt(n)\n",
        "\n",
        "lower_bound = sample_mean - margin_of_error\n",
        "upper_bound = sample_mean + margin_of_error\n",
        "\n",
        "print(\n",
        "    f\"95%-ый доверительный интервал: [{lower_bound:.2f}, {upper_bound:.2f}], ширина {upper_bound - lower_bound:.2f}\"\n",
        ")"
      ]
    },
    {
      "cell_type": "markdown",
      "metadata": {
        "id": "kivd-c1H4Tgq"
      },
      "source": [
        "## 7. Постройте доверительные интервалы среднего рейтинга по типам аниме (1 балл)"
      ]
    },
    {
      "cell_type": "code",
      "execution_count": 142,
      "metadata": {
        "id": "jKuXPtrP4dsI"
      },
      "outputs": [],
      "source": [
        "# Подсчет среднего и стандартного отклонения рейтинга по типу аниме\n",
        "type_ratings = df_anime.groupby(\"type\")[\"rating\"].agg(\"mean\").reset_index()"
      ]
    },
    {
      "cell_type": "code",
      "execution_count": 143,
      "metadata": {},
      "outputs": [
        {
          "name": "stdout",
          "output_type": "stream",
          "text": [
            "95%-ый доверительный интервал: [5.77, 6.54], ширина 0.76\n"
          ]
        }
      ],
      "source": [
        "data = type_ratings[\"rating\"]\n",
        "\n",
        "# Вычисление среднего значения и стандартного отклонения\n",
        "sample_mean = np.mean(data)\n",
        "sample_std = np.std(data, ddof=1)\n",
        "n = len(data)\n",
        "alpha = 0.05\n",
        "\n",
        "# Вычисление доверительного интервала\n",
        "z_score = norm.ppf(1 - alpha / 2)\n",
        "margin_of_error = z_score * sample_std / np.sqrt(n)\n",
        "\n",
        "lower_bound = sample_mean - margin_of_error\n",
        "upper_bound = sample_mean + margin_of_error\n",
        "\n",
        "print(\n",
        "    f\"95%-ый доверительный интервал: [{lower_bound:.2f}, {upper_bound:.2f}], ширина {upper_bound - lower_bound:.2f}\"\n",
        ")"
      ]
    },
    {
      "cell_type": "markdown",
      "metadata": {
        "id": "Vvra__mx5VJF"
      },
      "source": [
        "## 8. По доверительным интервалам для episodes, rating и members оцените количество аномалий (2 балла)"
      ]
    },
    {
      "cell_type": "code",
      "execution_count": 144,
      "metadata": {
        "id": "ZgkUWe2Q5itg"
      },
      "outputs": [],
      "source": [
        "data_episodes = df_anime[\"episodes\"]\n",
        "data_rating = df_anime[\"rating\"]\n",
        "data_members = df_anime[\"members\"]"
      ]
    },
    {
      "cell_type": "code",
      "execution_count": 145,
      "metadata": {},
      "outputs": [],
      "source": [
        "def conf_interval(df, alpha=0.05):\n",
        "    # Вычисление среднего значения и стандартного отклонения\n",
        "    sample_mean = np.mean(df)\n",
        "    sample_std = np.std(df, ddof=1)\n",
        "    n = len(df)\n",
        "\n",
        "    # Вычисление доверительного интервала\n",
        "    z_score = norm.ppf(1 - alpha / 2)\n",
        "    margin_of_error = z_score * sample_std / np.sqrt(n)\n",
        "\n",
        "    lower_bound = sample_mean - margin_of_error\n",
        "    upper_bound = sample_mean + margin_of_error\n",
        "\n",
        "    return [lower_bound, upper_bound]"
      ]
    },
    {
      "cell_type": "code",
      "execution_count": 146,
      "metadata": {},
      "outputs": [
        {
          "name": "stdout",
          "output_type": "stream",
          "text": [
            "95%-ый доверительный интервал episodes: [12.47, 14.38], ширина 1.91\n",
            "95%-ый доверительный интервал rating: [6.34, 6.39], ширина 0.05\n",
            "95%-ый доверительный интервал members: [17396.38, 19561.48], ширина 2165.10\n"
          ]
        }
      ],
      "source": [
        "interval_episodes = conf_interval(data_episodes)\n",
        "interval_rating = conf_interval(data_rating)\n",
        "interval_members = conf_interval(data_members)\n",
        "\n",
        "print(\n",
        "    f\"95%-ый доверительный интервал episodes: [{interval_episodes[0]:.2f}, {interval_episodes[1]:.2f}], ширина {interval_episodes[1] - interval_episodes[0]:.2f}\"\n",
        ")\n",
        "print(\n",
        "    f\"95%-ый доверительный интервал rating: [{interval_rating[0]:.2f}, {interval_rating[1]:.2f}], ширина {interval_rating[1] - interval_rating[0]:.2f}\"\n",
        ")\n",
        "print(\n",
        "    f\"95%-ый доверительный интервал members: [{interval_members[0]:.2f}, {interval_members[1]:.2f}], ширина {interval_members[1] - interval_members[0]:.2f}\"\n",
        ")"
      ]
    },
    {
      "cell_type": "code",
      "execution_count": 147,
      "metadata": {},
      "outputs": [
        {
          "name": "stdout",
          "output_type": "stream",
          "text": [
            "Количество аномалий в столбце episodes: 10486\n",
            "Количество аномалий в столбце rating: 10486\n",
            "Количество аномалий в столбце members: 10486\n"
          ]
        }
      ],
      "source": [
        "# Фильтрация аномальных значений\n",
        "anomalies_episodes = (data_episodes < interval_episodes[0]) | (\n",
        "    data_episodes > interval_episodes[1]\n",
        ")\n",
        "anomalies_rating = (data_rating < interval_rating[0]) | (\n",
        "    data_rating > interval_rating[1]\n",
        ")\n",
        "anomalies_members = (data_members < interval_members[0]) | (\n",
        "    data_members > interval_members[1]\n",
        ")\n",
        "\n",
        "# Подсчет количества аномалий\n",
        "anomalies_episodes_count = len(anomalies_episodes)\n",
        "anomalies_rating_count = len(anomalies_rating)\n",
        "anomalies_members_count = len(anomalies_members)\n",
        "\n",
        "print(f\"Количество аномалий в столбце episodes: {anomalies_episodes_count}\")\n",
        "print(f\"Количество аномалий в столбце rating: {anomalies_rating_count}\")\n",
        "print(f\"Количество аномалий в столбце members: {anomalies_members_count}\")"
      ]
    },
    {
      "cell_type": "markdown",
      "metadata": {
        "id": "3K6VerUhxlFJ"
      },
      "source": [
        "## Задания 9-15. Продуктовые метрики (16 баллов всего)"
      ]
    },
    {
      "cell_type": "code",
      "execution_count": 148,
      "metadata": {
        "colab": {
          "base_uri": "https://localhost:8080/"
        },
        "id": "UG1sPvD2wK4N",
        "outputId": "c0de98e1-7970-4482-aaf9-2407bbaf48e5"
      },
      "outputs": [
        {
          "name": "stdout",
          "output_type": "stream",
          "text": [
            "  % Total    % Received % Xferd  Average Speed   Time    Time     Time  Current\n",
            "                                 Dload  Upload   Total   Spent    Left  Speed\n",
            "100 6410k  100 6410k    0     0  1685k      0  0:00:03  0:00:03 --:--:-- 1685k\n"
          ]
        }
      ],
      "source": [
        "!curl -O https://raw.githubusercontent.com/alina-zhu/datasets/refs/heads/master/customer_shopping_data.csv >> customer_shopping_data.csv"
      ]
    },
    {
      "cell_type": "markdown",
      "metadata": {
        "id": "8S7YI0VMwj1d"
      },
      "source": [
        "Описание датафрейма:\n",
        "- `invoice_no` - номер чека\n",
        "- `customer_id` - id клиента\n",
        "- `gender` - пол клиента\n",
        "- `age` - возраст клиента\n",
        "- `category` - категория товара\n",
        "- `quantity` - количество единиц товаров в чеке\n",
        "- `price` - цена товара\n",
        "- `payment_method` - метод оплаты\n",
        "- `invoice_date` - дата покупки\n"
      ]
    },
    {
      "cell_type": "code",
      "execution_count": 149,
      "metadata": {
        "colab": {
          "base_uri": "https://localhost:8080/"
        },
        "id": "c85Z1d-kwcJe",
        "outputId": "9a9c090f-0ecd-40e7-946f-5b02e2014af8"
      },
      "outputs": [
        {
          "name": "stdout",
          "output_type": "stream",
          "text": [
            "<class 'pandas.core.frame.DataFrame'>\n",
            "RangeIndex: 99457 entries, 0 to 99456\n",
            "Data columns (total 9 columns):\n",
            " #   Column          Non-Null Count  Dtype  \n",
            "---  ------          --------------  -----  \n",
            " 0   invoice_no      99457 non-null  object \n",
            " 1   customer_id     99457 non-null  object \n",
            " 2   gender          99457 non-null  object \n",
            " 3   age             99457 non-null  int64  \n",
            " 4   category        99457 non-null  object \n",
            " 5   quantity        99457 non-null  int64  \n",
            " 6   price           99457 non-null  float64\n",
            " 7   payment_method  99457 non-null  object \n",
            " 8   invoice_date    99457 non-null  object \n",
            "dtypes: float64(1), int64(2), object(6)\n",
            "memory usage: 6.8+ MB\n"
          ]
        }
      ],
      "source": [
        "df = pd.read_csv(\"customer_shopping_data.csv\")\n",
        "df.info()"
      ]
    },
    {
      "cell_type": "code",
      "execution_count": 150,
      "metadata": {
        "colab": {
          "base_uri": "https://localhost:8080/",
          "height": 206
        },
        "id": "WU-CCm0Fj6eX",
        "outputId": "f313c02c-8fda-4038-a23b-0c88cdd99665"
      },
      "outputs": [
        {
          "data": {
            "text/html": [
              "<div>\n",
              "<style scoped>\n",
              "    .dataframe tbody tr th:only-of-type {\n",
              "        vertical-align: middle;\n",
              "    }\n",
              "\n",
              "    .dataframe tbody tr th {\n",
              "        vertical-align: top;\n",
              "    }\n",
              "\n",
              "    .dataframe thead th {\n",
              "        text-align: right;\n",
              "    }\n",
              "</style>\n",
              "<table border=\"1\" class=\"dataframe\">\n",
              "  <thead>\n",
              "    <tr style=\"text-align: right;\">\n",
              "      <th></th>\n",
              "      <th>invoice_no</th>\n",
              "      <th>customer_id</th>\n",
              "      <th>gender</th>\n",
              "      <th>age</th>\n",
              "      <th>category</th>\n",
              "      <th>quantity</th>\n",
              "      <th>price</th>\n",
              "      <th>payment_method</th>\n",
              "      <th>invoice_date</th>\n",
              "    </tr>\n",
              "  </thead>\n",
              "  <tbody>\n",
              "    <tr>\n",
              "      <th>0</th>\n",
              "      <td>I138884</td>\n",
              "      <td>upeszhn26j</td>\n",
              "      <td>Female</td>\n",
              "      <td>28</td>\n",
              "      <td>Clothing</td>\n",
              "      <td>5</td>\n",
              "      <td>1500.40</td>\n",
              "      <td>Credit Card</td>\n",
              "      <td>2022-08-05</td>\n",
              "    </tr>\n",
              "    <tr>\n",
              "      <th>1</th>\n",
              "      <td>I317333</td>\n",
              "      <td>nyyoavbmge</td>\n",
              "      <td>Male</td>\n",
              "      <td>21</td>\n",
              "      <td>Shoes</td>\n",
              "      <td>3</td>\n",
              "      <td>1800.51</td>\n",
              "      <td>Debit Card</td>\n",
              "      <td>2021-12-12</td>\n",
              "    </tr>\n",
              "    <tr>\n",
              "      <th>2</th>\n",
              "      <td>I127801</td>\n",
              "      <td>iksbmqrtj0</td>\n",
              "      <td>Male</td>\n",
              "      <td>20</td>\n",
              "      <td>Clothing</td>\n",
              "      <td>1</td>\n",
              "      <td>300.08</td>\n",
              "      <td>Cash</td>\n",
              "      <td>2021-11-09</td>\n",
              "    </tr>\n",
              "    <tr>\n",
              "      <th>3</th>\n",
              "      <td>I173702</td>\n",
              "      <td>zfhc107gzu</td>\n",
              "      <td>Female</td>\n",
              "      <td>66</td>\n",
              "      <td>Shoes</td>\n",
              "      <td>5</td>\n",
              "      <td>3000.85</td>\n",
              "      <td>Credit Card</td>\n",
              "      <td>2021-05-16</td>\n",
              "    </tr>\n",
              "    <tr>\n",
              "      <th>4</th>\n",
              "      <td>I337046</td>\n",
              "      <td>diwrquryyt</td>\n",
              "      <td>Female</td>\n",
              "      <td>53</td>\n",
              "      <td>Books</td>\n",
              "      <td>4</td>\n",
              "      <td>60.60</td>\n",
              "      <td>Cash</td>\n",
              "      <td>2021-10-24</td>\n",
              "    </tr>\n",
              "  </tbody>\n",
              "</table>\n",
              "</div>"
            ],
            "text/plain": [
              "  invoice_no customer_id  gender  age  category  quantity    price  \\\n",
              "0    I138884  upeszhn26j  Female   28  Clothing         5  1500.40   \n",
              "1    I317333  nyyoavbmge    Male   21     Shoes         3  1800.51   \n",
              "2    I127801  iksbmqrtj0    Male   20  Clothing         1   300.08   \n",
              "3    I173702  zfhc107gzu  Female   66     Shoes         5  3000.85   \n",
              "4    I337046  diwrquryyt  Female   53     Books         4    60.60   \n",
              "\n",
              "  payment_method invoice_date  \n",
              "0    Credit Card   2022-08-05  \n",
              "1     Debit Card   2021-12-12  \n",
              "2           Cash   2021-11-09  \n",
              "3    Credit Card   2021-05-16  \n",
              "4           Cash   2021-10-24  "
            ]
          },
          "execution_count": 150,
          "metadata": {},
          "output_type": "execute_result"
        }
      ],
      "source": [
        "df.head()"
      ]
    },
    {
      "cell_type": "code",
      "execution_count": 151,
      "metadata": {},
      "outputs": [
        {
          "data": {
            "text/plain": [
              "(99457, 9)"
            ]
          },
          "execution_count": 151,
          "metadata": {},
          "output_type": "execute_result"
        }
      ],
      "source": [
        "df.shape"
      ]
    },
    {
      "cell_type": "code",
      "execution_count": 152,
      "metadata": {},
      "outputs": [
        {
          "data": {
            "text/html": [
              "<div>\n",
              "<style scoped>\n",
              "    .dataframe tbody tr th:only-of-type {\n",
              "        vertical-align: middle;\n",
              "    }\n",
              "\n",
              "    .dataframe tbody tr th {\n",
              "        vertical-align: top;\n",
              "    }\n",
              "\n",
              "    .dataframe thead th {\n",
              "        text-align: right;\n",
              "    }\n",
              "</style>\n",
              "<table border=\"1\" class=\"dataframe\">\n",
              "  <thead>\n",
              "    <tr style=\"text-align: right;\">\n",
              "      <th></th>\n",
              "      <th>age</th>\n",
              "      <th>quantity</th>\n",
              "      <th>price</th>\n",
              "    </tr>\n",
              "  </thead>\n",
              "  <tbody>\n",
              "    <tr>\n",
              "      <th>count</th>\n",
              "      <td>99457.000000</td>\n",
              "      <td>99457.000000</td>\n",
              "      <td>99457.000000</td>\n",
              "    </tr>\n",
              "    <tr>\n",
              "      <th>mean</th>\n",
              "      <td>43.427089</td>\n",
              "      <td>3.003429</td>\n",
              "      <td>689.256321</td>\n",
              "    </tr>\n",
              "    <tr>\n",
              "      <th>std</th>\n",
              "      <td>14.990054</td>\n",
              "      <td>1.413025</td>\n",
              "      <td>941.184567</td>\n",
              "    </tr>\n",
              "    <tr>\n",
              "      <th>min</th>\n",
              "      <td>18.000000</td>\n",
              "      <td>1.000000</td>\n",
              "      <td>5.230000</td>\n",
              "    </tr>\n",
              "    <tr>\n",
              "      <th>25%</th>\n",
              "      <td>30.000000</td>\n",
              "      <td>2.000000</td>\n",
              "      <td>45.450000</td>\n",
              "    </tr>\n",
              "    <tr>\n",
              "      <th>50%</th>\n",
              "      <td>43.000000</td>\n",
              "      <td>3.000000</td>\n",
              "      <td>203.300000</td>\n",
              "    </tr>\n",
              "    <tr>\n",
              "      <th>75%</th>\n",
              "      <td>56.000000</td>\n",
              "      <td>4.000000</td>\n",
              "      <td>1200.320000</td>\n",
              "    </tr>\n",
              "    <tr>\n",
              "      <th>max</th>\n",
              "      <td>69.000000</td>\n",
              "      <td>5.000000</td>\n",
              "      <td>5250.000000</td>\n",
              "    </tr>\n",
              "  </tbody>\n",
              "</table>\n",
              "</div>"
            ],
            "text/plain": [
              "                age      quantity         price\n",
              "count  99457.000000  99457.000000  99457.000000\n",
              "mean      43.427089      3.003429    689.256321\n",
              "std       14.990054      1.413025    941.184567\n",
              "min       18.000000      1.000000      5.230000\n",
              "25%       30.000000      2.000000     45.450000\n",
              "50%       43.000000      3.000000    203.300000\n",
              "75%       56.000000      4.000000   1200.320000\n",
              "max       69.000000      5.000000   5250.000000"
            ]
          },
          "execution_count": 152,
          "metadata": {},
          "output_type": "execute_result"
        }
      ],
      "source": [
        "df.describe()"
      ]
    },
    {
      "cell_type": "code",
      "execution_count": 153,
      "metadata": {},
      "outputs": [
        {
          "data": {
            "text/html": [
              "<div>\n",
              "<style scoped>\n",
              "    .dataframe tbody tr th:only-of-type {\n",
              "        vertical-align: middle;\n",
              "    }\n",
              "\n",
              "    .dataframe tbody tr th {\n",
              "        vertical-align: top;\n",
              "    }\n",
              "\n",
              "    .dataframe thead th {\n",
              "        text-align: right;\n",
              "    }\n",
              "</style>\n",
              "<table border=\"1\" class=\"dataframe\">\n",
              "  <thead>\n",
              "    <tr style=\"text-align: right;\">\n",
              "      <th></th>\n",
              "      <th>invoice_no</th>\n",
              "      <th>customer_id</th>\n",
              "      <th>gender</th>\n",
              "      <th>category</th>\n",
              "      <th>payment_method</th>\n",
              "      <th>invoice_date</th>\n",
              "    </tr>\n",
              "  </thead>\n",
              "  <tbody>\n",
              "    <tr>\n",
              "      <th>count</th>\n",
              "      <td>99457</td>\n",
              "      <td>99457</td>\n",
              "      <td>99457</td>\n",
              "      <td>99457</td>\n",
              "      <td>99457</td>\n",
              "      <td>99457</td>\n",
              "    </tr>\n",
              "    <tr>\n",
              "      <th>unique</th>\n",
              "      <td>99457</td>\n",
              "      <td>47168</td>\n",
              "      <td>2</td>\n",
              "      <td>8</td>\n",
              "      <td>3</td>\n",
              "      <td>797</td>\n",
              "    </tr>\n",
              "    <tr>\n",
              "      <th>top</th>\n",
              "      <td>I232867</td>\n",
              "      <td>q0recywbmf</td>\n",
              "      <td>Female</td>\n",
              "      <td>Clothing</td>\n",
              "      <td>Cash</td>\n",
              "      <td>2021-11-24</td>\n",
              "    </tr>\n",
              "    <tr>\n",
              "      <th>freq</th>\n",
              "      <td>1</td>\n",
              "      <td>9</td>\n",
              "      <td>59482</td>\n",
              "      <td>34487</td>\n",
              "      <td>44447</td>\n",
              "      <td>159</td>\n",
              "    </tr>\n",
              "  </tbody>\n",
              "</table>\n",
              "</div>"
            ],
            "text/plain": [
              "       invoice_no customer_id  gender  category payment_method invoice_date\n",
              "count       99457       99457   99457     99457          99457        99457\n",
              "unique      99457       47168       2         8              3          797\n",
              "top       I232867  q0recywbmf  Female  Clothing           Cash   2021-11-24\n",
              "freq            1           9   59482     34487          44447          159"
            ]
          },
          "execution_count": 153,
          "metadata": {},
          "output_type": "execute_result"
        }
      ],
      "source": [
        "df.describe(include=object)"
      ]
    },
    {
      "cell_type": "code",
      "execution_count": 154,
      "metadata": {},
      "outputs": [
        {
          "data": {
            "text/plain": [
              "invoice_no        0\n",
              "customer_id       0\n",
              "gender            0\n",
              "age               0\n",
              "category          0\n",
              "quantity          0\n",
              "price             0\n",
              "payment_method    0\n",
              "invoice_date      0\n",
              "dtype: int64"
            ]
          },
          "execution_count": 154,
          "metadata": {},
          "output_type": "execute_result"
        }
      ],
      "source": [
        "df.isna().sum()"
      ]
    },
    {
      "cell_type": "code",
      "execution_count": 155,
      "metadata": {},
      "outputs": [
        {
          "data": {
            "text/html": [
              "<div>\n",
              "<style scoped>\n",
              "    .dataframe tbody tr th:only-of-type {\n",
              "        vertical-align: middle;\n",
              "    }\n",
              "\n",
              "    .dataframe tbody tr th {\n",
              "        vertical-align: top;\n",
              "    }\n",
              "\n",
              "    .dataframe thead th {\n",
              "        text-align: right;\n",
              "    }\n",
              "</style>\n",
              "<table border=\"1\" class=\"dataframe\">\n",
              "  <thead>\n",
              "    <tr style=\"text-align: right;\">\n",
              "      <th></th>\n",
              "      <th>invoice_no</th>\n",
              "      <th>customer_id</th>\n",
              "      <th>gender</th>\n",
              "      <th>age</th>\n",
              "      <th>category</th>\n",
              "      <th>quantity</th>\n",
              "      <th>price</th>\n",
              "      <th>payment_method</th>\n",
              "      <th>invoice_date</th>\n",
              "      <th>sale</th>\n",
              "    </tr>\n",
              "  </thead>\n",
              "  <tbody>\n",
              "    <tr>\n",
              "      <th>0</th>\n",
              "      <td>I138884</td>\n",
              "      <td>upeszhn26j</td>\n",
              "      <td>Female</td>\n",
              "      <td>28</td>\n",
              "      <td>Clothing</td>\n",
              "      <td>5</td>\n",
              "      <td>1500.40</td>\n",
              "      <td>Credit Card</td>\n",
              "      <td>2022-08-05</td>\n",
              "      <td>7502.00</td>\n",
              "    </tr>\n",
              "    <tr>\n",
              "      <th>1</th>\n",
              "      <td>I317333</td>\n",
              "      <td>nyyoavbmge</td>\n",
              "      <td>Male</td>\n",
              "      <td>21</td>\n",
              "      <td>Shoes</td>\n",
              "      <td>3</td>\n",
              "      <td>1800.51</td>\n",
              "      <td>Debit Card</td>\n",
              "      <td>2021-12-12</td>\n",
              "      <td>5401.53</td>\n",
              "    </tr>\n",
              "    <tr>\n",
              "      <th>2</th>\n",
              "      <td>I127801</td>\n",
              "      <td>iksbmqrtj0</td>\n",
              "      <td>Male</td>\n",
              "      <td>20</td>\n",
              "      <td>Clothing</td>\n",
              "      <td>1</td>\n",
              "      <td>300.08</td>\n",
              "      <td>Cash</td>\n",
              "      <td>2021-11-09</td>\n",
              "      <td>300.08</td>\n",
              "    </tr>\n",
              "    <tr>\n",
              "      <th>3</th>\n",
              "      <td>I173702</td>\n",
              "      <td>zfhc107gzu</td>\n",
              "      <td>Female</td>\n",
              "      <td>66</td>\n",
              "      <td>Shoes</td>\n",
              "      <td>5</td>\n",
              "      <td>3000.85</td>\n",
              "      <td>Credit Card</td>\n",
              "      <td>2021-05-16</td>\n",
              "      <td>15004.25</td>\n",
              "    </tr>\n",
              "    <tr>\n",
              "      <th>4</th>\n",
              "      <td>I337046</td>\n",
              "      <td>diwrquryyt</td>\n",
              "      <td>Female</td>\n",
              "      <td>53</td>\n",
              "      <td>Books</td>\n",
              "      <td>4</td>\n",
              "      <td>60.60</td>\n",
              "      <td>Cash</td>\n",
              "      <td>2021-10-24</td>\n",
              "      <td>242.40</td>\n",
              "    </tr>\n",
              "  </tbody>\n",
              "</table>\n",
              "</div>"
            ],
            "text/plain": [
              "  invoice_no customer_id  gender  age  category  quantity    price  \\\n",
              "0    I138884  upeszhn26j  Female   28  Clothing         5  1500.40   \n",
              "1    I317333  nyyoavbmge    Male   21     Shoes         3  1800.51   \n",
              "2    I127801  iksbmqrtj0    Male   20  Clothing         1   300.08   \n",
              "3    I173702  zfhc107gzu  Female   66     Shoes         5  3000.85   \n",
              "4    I337046  diwrquryyt  Female   53     Books         4    60.60   \n",
              "\n",
              "  payment_method invoice_date      sale  \n",
              "0    Credit Card   2022-08-05   7502.00  \n",
              "1     Debit Card   2021-12-12   5401.53  \n",
              "2           Cash   2021-11-09    300.08  \n",
              "3    Credit Card   2021-05-16  15004.25  \n",
              "4           Cash   2021-10-24    242.40  "
            ]
          },
          "execution_count": 155,
          "metadata": {},
          "output_type": "execute_result"
        }
      ],
      "source": [
        "df[\"sale\"] = df[\"quantity\"] * df[\"price\"]\n",
        "\n",
        "df.head()"
      ]
    },
    {
      "cell_type": "code",
      "execution_count": 156,
      "metadata": {},
      "outputs": [
        {
          "data": {
            "text/plain": [
              "invoice_no                object\n",
              "customer_id               object\n",
              "gender                    object\n",
              "age                        int64\n",
              "category                  object\n",
              "quantity                   int64\n",
              "price                    float64\n",
              "payment_method            object\n",
              "invoice_date      datetime64[ns]\n",
              "sale                     float64\n",
              "month                     object\n",
              "dtype: object"
            ]
          },
          "execution_count": 156,
          "metadata": {},
          "output_type": "execute_result"
        }
      ],
      "source": [
        "df[\"invoice_date\"] = pd.to_datetime(df[\"invoice_date\"])\n",
        "\n",
        "df[\"month\"] = df[\"invoice_date\"].dt.month_name()\n",
        "\n",
        "df.dtypes"
      ]
    },
    {
      "cell_type": "markdown",
      "metadata": {
        "id": "aJLfOpTcliKZ"
      },
      "source": [
        "## 9. Посчитайте доверительный интервал для среднего возраста покупателей (1 балл)"
      ]
    },
    {
      "cell_type": "code",
      "execution_count": 157,
      "metadata": {
        "id": "GT_5D_17lFur"
      },
      "outputs": [
        {
          "name": "stdout",
          "output_type": "stream",
          "text": [
            "95%-ый доверительный интервал: [43.33, 43.52], ширина 0.19\n"
          ]
        }
      ],
      "source": [
        "data = df[\"age\"]\n",
        "\n",
        "# Вычисление среднего значения и стандартного отклонения\n",
        "sample_mean = np.mean(data)\n",
        "sample_std = np.std(data, ddof=1)\n",
        "n = len(data)\n",
        "alpha = 0.05\n",
        "\n",
        "# Вычисление доверительного интервала\n",
        "z_score = norm.ppf(1 - alpha / 2)\n",
        "margin_of_error = z_score * sample_std / np.sqrt(n)\n",
        "\n",
        "lower_bound = sample_mean - margin_of_error\n",
        "upper_bound = sample_mean + margin_of_error\n",
        "\n",
        "print(\n",
        "    f\"95%-ый доверительный интервал: [{lower_bound:.2f}, {upper_bound:.2f}], ширина {upper_bound - lower_bound:.2f}\"\n",
        ")"
      ]
    },
    {
      "cell_type": "markdown",
      "metadata": {
        "id": "7dukOrIvl4bu"
      },
      "source": [
        "## 10. Посчитайте доверительные интервалы для среднего чека в каждой категории (1 балл)"
      ]
    },
    {
      "cell_type": "code",
      "execution_count": 158,
      "metadata": {
        "id": "ALaqe8XtmOMF"
      },
      "outputs": [],
      "source": [
        "# Подсчет среднего и стандартного отклонения чека по категории\n",
        "category_sale = df.groupby(\"category\")[\"sale\"].agg(\"mean\").reset_index()"
      ]
    },
    {
      "cell_type": "code",
      "execution_count": 159,
      "metadata": {},
      "outputs": [
        {
          "name": "stdout",
          "output_type": "stream",
          "text": [
            "95%-ый доверительный интервал: [-88.14, 5767.34], ширина 5855.48\n"
          ]
        }
      ],
      "source": [
        "data = category_sale[\"sale\"]\n",
        "\n",
        "# Вычисление среднего значения и стандартного отклонения\n",
        "sample_mean = np.mean(data)\n",
        "sample_std = np.std(data, ddof=1)\n",
        "n = len(data)\n",
        "alpha = 0.05\n",
        "\n",
        "# Вычисление доверительного интервала\n",
        "z_score = norm.ppf(1 - alpha / 2)\n",
        "margin_of_error = z_score * sample_std / np.sqrt(n)\n",
        "\n",
        "lower_bound = sample_mean - margin_of_error\n",
        "upper_bound = sample_mean + margin_of_error\n",
        "\n",
        "print(\n",
        "    f\"95%-ый доверительный интервал: [{lower_bound:.2f}, {upper_bound:.2f}], ширина {upper_bound - lower_bound:.2f}\"\n",
        ")"
      ]
    },
    {
      "cell_type": "markdown",
      "metadata": {
        "id": "kx1Z0IMVBglj"
      },
      "source": [
        "## 11. Посчитайте доверительные интервалы для среднего чека для каждого типа оплаты (1 балл)"
      ]
    },
    {
      "cell_type": "code",
      "execution_count": 160,
      "metadata": {
        "id": "DxYGM--ABq45"
      },
      "outputs": [],
      "source": [
        "# Подсчет среднего и стандартного отклонения чека по типу оплаты\n",
        "payment_method_sale = df.groupby(\"payment_method\")[\"sale\"].agg(\"mean\").reset_index()"
      ]
    },
    {
      "cell_type": "code",
      "execution_count": 161,
      "metadata": {},
      "outputs": [
        {
          "name": "stdout",
          "output_type": "stream",
          "text": [
            "95%-ый доверительный интервал: [2514.90, 2538.38], ширина 23.48\n"
          ]
        }
      ],
      "source": [
        "data = payment_method_sale[\"sale\"]\n",
        "\n",
        "# Вычисление среднего значения и стандартного отклонения\n",
        "sample_mean = np.mean(data)\n",
        "sample_std = np.std(data, ddof=1)\n",
        "n = len(data)\n",
        "alpha = 0.05\n",
        "\n",
        "# Вычисление доверительного интервала\n",
        "z_score = norm.ppf(1 - alpha / 2)\n",
        "margin_of_error = z_score * sample_std / np.sqrt(n)\n",
        "\n",
        "lower_bound = sample_mean - margin_of_error\n",
        "upper_bound = sample_mean + margin_of_error\n",
        "\n",
        "print(\n",
        "    f\"95%-ый доверительный интервал: [{lower_bound:.2f}, {upper_bound:.2f}], ширина {upper_bound - lower_bound:.2f}\"\n",
        ")"
      ]
    },
    {
      "cell_type": "markdown",
      "metadata": {
        "id": "xdzSIq2xmPu7"
      },
      "source": [
        "## 12. Посчитайте доверительный интервал для среднего количества позиций в чеке (1 балл)"
      ]
    },
    {
      "cell_type": "code",
      "execution_count": 162,
      "metadata": {
        "id": "bslZN8Fnmgh9"
      },
      "outputs": [
        {
          "name": "stdout",
          "output_type": "stream",
          "text": [
            "95%-ый доверительный интервал: [2.99, 3.01], ширина 0.02\n"
          ]
        }
      ],
      "source": [
        "data = df[\"quantity\"]\n",
        "\n",
        "# Вычисление среднего значения и стандартного отклонения\n",
        "sample_mean = np.mean(data)\n",
        "sample_std = np.std(data, ddof=1)\n",
        "n = len(data)\n",
        "alpha = 0.05\n",
        "\n",
        "# Вычисление доверительного интервала\n",
        "z_score = norm.ppf(1 - alpha / 2)\n",
        "margin_of_error = z_score * sample_std / np.sqrt(n)\n",
        "\n",
        "lower_bound = sample_mean - margin_of_error\n",
        "upper_bound = sample_mean + margin_of_error\n",
        "\n",
        "print(\n",
        "    f\"95%-ый доверительный интервал: [{lower_bound:.2f}, {upper_bound:.2f}], ширина {upper_bound - lower_bound:.2f}\"\n",
        ")"
      ]
    },
    {
      "cell_type": "markdown",
      "metadata": {
        "id": "OWd_SDlMmj8b"
      },
      "source": [
        "## 13. Посчитайте доверительный для среднего количества покупателей в день (1 балл)"
      ]
    },
    {
      "cell_type": "code",
      "execution_count": 163,
      "metadata": {
        "id": "ayxueHiTnWrZ"
      },
      "outputs": [],
      "source": [
        "# Подсчет среднего и стандартного отклонения количества покупателей по дням\n",
        "invoice_date_members = df.groupby(\"invoice_date\")[\"sale\"].agg(\"count\").reset_index()"
      ]
    },
    {
      "cell_type": "code",
      "execution_count": 165,
      "metadata": {},
      "outputs": [
        {
          "name": "stdout",
          "output_type": "stream",
          "text": [
            "95%-ый доверительный интервал: [124.03, 125.55], ширина 1.52\n"
          ]
        }
      ],
      "source": [
        "data = invoice_date_members[\"sale\"]\n",
        "\n",
        "# Вычисление среднего значения и стандартного отклонения\n",
        "sample_mean = np.mean(data)\n",
        "sample_std = np.std(data, ddof=1)\n",
        "n = len(data)\n",
        "alpha = 0.05\n",
        "\n",
        "# Вычисление доверительного интервала\n",
        "z_score = norm.ppf(1 - alpha / 2)\n",
        "margin_of_error = z_score * sample_std / np.sqrt(n)\n",
        "\n",
        "lower_bound = sample_mean - margin_of_error\n",
        "upper_bound = sample_mean + margin_of_error\n",
        "\n",
        "print(\n",
        "    f\"95%-ый доверительный интервал: [{lower_bound:.2f}, {upper_bound:.2f}], ширина {upper_bound - lower_bound:.2f}\"\n",
        ")"
      ]
    },
    {
      "cell_type": "markdown",
      "metadata": {
        "id": "guxehAKPnXGB"
      },
      "source": [
        "## 14. Посчитайте помесячный retention для пользователей и доверительные интервалы для него (6 баллов)\n",
        "Day N Retention = (Users Day N / Users Day 0) * 100\n",
        "\n",
        "1) Постройте график retention   \n",
        "2) Добавьте на график область доверительного интервала для каждого месяца"
      ]
    },
    {
      "cell_type": "code",
      "execution_count": 116,
      "metadata": {},
      "outputs": [
        {
          "data": {
            "text/html": [
              "<div>\n",
              "<style scoped>\n",
              "    .dataframe tbody tr th:only-of-type {\n",
              "        vertical-align: middle;\n",
              "    }\n",
              "\n",
              "    .dataframe tbody tr th {\n",
              "        vertical-align: top;\n",
              "    }\n",
              "\n",
              "    .dataframe thead th {\n",
              "        text-align: right;\n",
              "    }\n",
              "</style>\n",
              "<table border=\"1\" class=\"dataframe\">\n",
              "  <thead>\n",
              "    <tr style=\"text-align: right;\">\n",
              "      <th></th>\n",
              "      <th>month</th>\n",
              "      <th>count</th>\n",
              "      <th>nunique</th>\n",
              "      <th>retention</th>\n",
              "    </tr>\n",
              "  </thead>\n",
              "  <tbody>\n",
              "    <tr>\n",
              "      <th>0</th>\n",
              "      <td>April</td>\n",
              "      <td>7487</td>\n",
              "      <td>6981</td>\n",
              "      <td>93.241619</td>\n",
              "    </tr>\n",
              "    <tr>\n",
              "      <th>1</th>\n",
              "      <td>August</td>\n",
              "      <td>7635</td>\n",
              "      <td>7126</td>\n",
              "      <td>93.333333</td>\n",
              "    </tr>\n",
              "    <tr>\n",
              "      <th>2</th>\n",
              "      <td>December</td>\n",
              "      <td>7680</td>\n",
              "      <td>7174</td>\n",
              "      <td>93.411458</td>\n",
              "    </tr>\n",
              "    <tr>\n",
              "      <th>3</th>\n",
              "      <td>February</td>\n",
              "      <td>10482</td>\n",
              "      <td>9586</td>\n",
              "      <td>91.452013</td>\n",
              "    </tr>\n",
              "    <tr>\n",
              "      <th>4</th>\n",
              "      <td>January</td>\n",
              "      <td>11608</td>\n",
              "      <td>10493</td>\n",
              "      <td>90.394555</td>\n",
              "    </tr>\n",
              "  </tbody>\n",
              "</table>\n",
              "</div>"
            ],
            "text/plain": [
              "      month  count  nunique  retention\n",
              "0     April   7487     6981  93.241619\n",
              "1    August   7635     7126  93.333333\n",
              "2  December   7680     7174  93.411458\n",
              "3  February  10482     9586  91.452013\n",
              "4   January  11608    10493  90.394555"
            ]
          },
          "execution_count": 116,
          "metadata": {},
          "output_type": "execute_result"
        }
      ],
      "source": [
        "# Подсчет всех и уникальных покупателей по дням\n",
        "invoice_date_retention = df.groupby(\"month\")[\"customer_id\"].agg([\"count\", \"nunique\"]).reset_index()\n",
        "\n",
        "invoice_date_retention[\"retention\"] = invoice_date_retention[\"nunique\"] / invoice_date_retention[\"count\"] * 100\n",
        "\n",
        "invoice_date_retention.head()"
      ]
    },
    {
      "cell_type": "code",
      "execution_count": null,
      "metadata": {},
      "outputs": [],
      "source": []
    },
    {
      "cell_type": "markdown",
      "metadata": {
        "id": "k9QM1bg11yZ3"
      },
      "source": [
        "## 15. Посчитайте средний доход с пользователя (ARPU) в каждом месяце и доверительные интервалы для него (5 баллов)\n",
        "ARPU = Average Revenue Per User  \n",
        "1) Постройте график ARPU для каждого месяца      \n",
        "2) Добавьте на график область доверительного интервала для каждого месяца"
      ]
    },
    {
      "cell_type": "code",
      "execution_count": null,
      "metadata": {
        "id": "1r0M5tugABF2"
      },
      "outputs": [],
      "source": []
    }
  ],
  "metadata": {
    "colab": {
      "provenance": []
    },
    "kernelspec": {
      "display_name": "itmo-math-stat-cDgRnBdI-py3.12",
      "language": "python",
      "name": "python3"
    },
    "language_info": {
      "codemirror_mode": {
        "name": "ipython",
        "version": 3
      },
      "file_extension": ".py",
      "mimetype": "text/x-python",
      "name": "python",
      "nbconvert_exporter": "python",
      "pygments_lexer": "ipython3",
      "version": "3.12.3"
    }
  },
  "nbformat": 4,
  "nbformat_minor": 0
}
